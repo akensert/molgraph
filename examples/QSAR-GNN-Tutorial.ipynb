{
 "cells": [
  {
   "cell_type": "markdown",
   "id": "e403c8c7",
   "metadata": {},
   "source": [
    "# A Tutorial on Quantitative Structure-Activity Relationships using Fully Expressive Graph Neural Networks\n",
    "\n",
    "The data set used for this tutorial is Tox21, which contains approximately 8k chemical compounds, tested on 12 different receptor types. Tox21 is in this tutorial considered a multi-label classification data set (with missing labels). \n",
    "\n",
    "The tutorial was performed using:\n",
    "\n",
    "- Ubuntu 22.04\n",
    "    - Python 3.10 \n",
    "        - Keras 2\n",
    "        - TensorFlow 2.13\n",
    "        - MolGraph 0.6.4\n",
    "\n",
    "The tutorial has also been performed on Windows 10/11 and MacOS 12.\n",
    "\n",
    "The ROC-AUC score on the testing data set should mostly be in the range 0.84 to 0.85\n"
   ]
  },
  {
   "cell_type": "markdown",
   "id": "dab4442b",
   "metadata": {},
   "source": [
    "## 1. Import modules"
   ]
  },
  {
   "cell_type": "code",
   "execution_count": null,
   "id": "e09463fd",
   "metadata": {},
   "outputs": [],
   "source": [
    "from molgraph import chemistry\n",
    "from molgraph import layers\n",
    "from molgraph import losses\n",
    "\n",
    "import keras\n",
    "\n",
    "import tensorflow as tf\n",
    "import pandas as pd"
   ]
  },
  {
   "cell_type": "markdown",
   "id": "afc63d0d",
   "metadata": {},
   "source": [
    "## 2. Read in the Tox21 data"
   ]
  },
  {
   "cell_type": "code",
   "execution_count": null,
   "id": "a9d1dfe3",
   "metadata": {},
   "outputs": [],
   "source": [
    "tox21 = chemistry.datasets.get(\"tox21\")\n",
    "\n",
    "x_train = tox21[\"train\"][\"x\"]\n",
    "y_train = tox21[\"train\"][\"y\"]\n",
    "m_train = tox21[\"train\"][\"y_mask\"]\n",
    "\n",
    "x_val = tox21[\"validation\"][\"x\"]\n",
    "y_val = tox21[\"validation\"][\"y\"]\n",
    "m_val = tox21[\"validation\"][\"y_mask\"]\n",
    "\n",
    "x_test = tox21[\"test\"][\"x\"]\n",
    "y_test = tox21[\"test\"][\"y\"]\n",
    "m_test = tox21[\"test\"][\"y_mask\"]"
   ]
  },
  {
   "cell_type": "markdown",
   "id": "6d3ed6f6",
   "metadata": {},
   "source": [
    "## 3. Construct molecular graphs from SMILES"
   ]
  },
  {
   "cell_type": "code",
   "execution_count": null,
   "id": "8d7d3906",
   "metadata": {},
   "outputs": [],
   "source": [
    "atom_encoder = chemistry.Featurizer([\n",
    "    chemistry.features.Symbol(),\n",
    "    chemistry.features.Hybridization(),\n",
    "    chemistry.features.TotalValence(),\n",
    "    chemistry.features.Hetero(),\n",
    "    chemistry.features.HydrogenDonor(),\n",
    "    chemistry.features.HydrogenAcceptor(),\n",
    "])\n",
    "\n",
    "bond_encoder = chemistry.Featurizer([\n",
    "    chemistry.features.BondType(),\n",
    "    chemistry.features.Rotatable(),\n",
    "])\n",
    "\n",
    "mol_encoder = chemistry.MolecularGraphEncoder(\n",
    "    atom_encoder, bond_encoder, positional_encoding_dim=None,\n",
    ")\n",
    "\n",
    "train_graph = mol_encoder(x_train)\n",
    "val_graph = mol_encoder(x_val)\n",
    "test_graph = mol_encoder(x_test)"
   ]
  },
  {
   "cell_type": "markdown",
   "id": "26b0cd9a",
   "metadata": {},
   "source": [
    "## 4. Set up input pipelines from data"
   ]
  },
  {
   "cell_type": "code",
   "execution_count": null,
   "id": "d14fb279",
   "metadata": {},
   "outputs": [],
   "source": [
    "train_data = (train_graph, y_train, m_train)\n",
    "val_data = (val_graph, y_val, m_val)\n",
    "test_data = (test_graph, y_test, m_test)\n",
    "\n",
    "train_ds = (\n",
    "    tf.data.Dataset.from_tensor_slices(train_data)\n",
    "    .shuffle(1024)\n",
    "    .batch(32)\n",
    "    .prefetch(-1)\n",
    ")\n",
    "\n",
    "val_ds = (\n",
    "    tf.data.Dataset.from_tensor_slices(val_data)\n",
    "    .batch(32)\n",
    "    .prefetch(-1)\n",
    ")\n",
    "\n",
    "test_ds = (\n",
    "    tf.data.Dataset.from_tensor_slices(test_data)\n",
    "    .batch(32)\n",
    "    .prefetch(-1)\n",
    ")"
   ]
  },
  {
   "cell_type": "markdown",
   "id": "9950e1e4",
   "metadata": {},
   "source": [
    "## 5. Build the QSAR model"
   ]
  },
  {
   "cell_type": "code",
   "execution_count": null,
   "id": "d29d6184",
   "metadata": {},
   "outputs": [],
   "source": [
    "inputs = keras.layers.Input(type_spec=train_graph.spec)\n",
    "\n",
    "variance_threshold = layers.VarianceThreshold()\n",
    "variance_threshold.adapt(train_graph)\n",
    "\n",
    "h0 = variance_threshold(inputs)\n",
    "h0 = layers.FeatureProjection(units=128)(h0)\n",
    "\n",
    "# 1) Message passing (L = 4)\n",
    "h1 = layers.GINConv(units=128, normalization=\"batch_norm\")(h0)\n",
    "h2 = layers.GINConv(units=128, normalization=\"batch_norm\")(h1)\n",
    "h3 = layers.GINConv(units=128, normalization=\"batch_norm\")(h2)\n",
    "h4 = layers.GINConv(units=128, normalization=\"batch_norm\")(h3)\n",
    "\n",
    "# 2) Readout \n",
    "z0 = layers.Readout()(h0)\n",
    "z1 = layers.Readout()(h1)\n",
    "z2 = layers.Readout()(h2)\n",
    "z3 = layers.Readout()(h3)\n",
    "z4 = layers.Readout()(h4)\n",
    "\n",
    "z = keras.layers.Concatenate()([z0, z1, z2, z3, z4])\n",
    "\n",
    "# 3) Prediction\n",
    "z = keras.layers.Dense(units=1024, activation=\"relu\")(z)\n",
    "z = keras.layers.Dense(units=1024, activation=\"relu\")(z)\n",
    "outputs = keras.layers.Dense(units=12, activation=\"sigmoid\")(z)\n",
    "\n",
    "# Create model\n",
    "qsar_model = keras.Model(inputs, outputs)"
   ]
  },
  {
   "cell_type": "markdown",
   "id": "c329ae49",
   "metadata": {},
   "source": [
    "## 6. Compile the QSAR model"
   ]
  },
  {
   "cell_type": "code",
   "execution_count": null,
   "id": "56b24a04",
   "metadata": {},
   "outputs": [],
   "source": [
    "optimizer = keras.optimizers.SGD(\n",
    "    learning_rate=0.005, momentum=0.5\n",
    ")\n",
    "\n",
    "loss = losses.MaskedBinaryCrossentropy()\n",
    "\n",
    "metrics = [\n",
    "    keras.metrics.AUC(multi_label=True, name=\"auc\"),\n",
    "]\n",
    "\n",
    "qsar_model.compile(\n",
    "    optimizer=optimizer, \n",
    "    loss=loss, \n",
    "    weighted_metrics=metrics\n",
    ")"
   ]
  },
  {
   "cell_type": "markdown",
   "id": "3d97e664",
   "metadata": {},
   "source": [
    "## 7. Train, validate, and evaluate the QSAR model on input"
   ]
  },
  {
   "cell_type": "code",
   "execution_count": null,
   "id": "129b369f",
   "metadata": {
    "scrolled": false
   },
   "outputs": [],
   "source": [
    "callbacks = [\n",
    "    keras.callbacks.ReduceLROnPlateau(\n",
    "        monitor=\"val_auc\", patience=10, mode=\"max\"\n",
    "    ),\n",
    "    keras.callbacks.EarlyStopping(\n",
    "        monitor=\"val_auc\", patience=20, mode=\"max\",\n",
    "        restore_best_weights=True\n",
    "    ),\n",
    "]\n",
    "\n",
    "# May slow down training time\n",
    "callbacks += [\n",
    "    keras.callbacks.TensorBoard(\n",
    "        log_dir=\"./logs\", histogram_freq=1)\n",
    "]\n",
    "\n",
    "qsar_model.fit(\n",
    "    train_ds,\n",
    "    callbacks=callbacks,\n",
    "    validation_data=val_ds,\n",
    "    epochs=100, \n",
    ")\n",
    "\n",
    "bce_loss, auc_score = qsar_model.evaluate(test_ds)\n"
   ]
  },
  {
   "cell_type": "markdown",
   "id": "fa203aa0",
   "metadata": {},
   "source": [
    "## 8. Predict probability of activity with the QSAR model"
   ]
  },
  {
   "cell_type": "code",
   "execution_count": null,
   "id": "54490f64",
   "metadata": {},
   "outputs": [],
   "source": [
    "y_test_pred = qsar_model.predict(test_ds)\n",
    "\n",
    "receptor_names = [\n",
    "    \"NR-AR\", \"NR-AR-LBD\", \"NR-AhR\", \"NR-Aromatase\", \n",
    "    \"NR-ER\", \"NR-ER-LBD\", \"NR-PPAR-gamma\", \"SR-ARE\", \n",
    "    \"SR-ATAD5\", \"SR-HSE\", \"SR-MMP\", \"SR-p53\"\n",
    "]\n",
    "\n",
    "def scores(receptor_names, trues, preds, masks):\n",
    "    for name, true, pred, mask in zip(\n",
    "        receptor_names, trues.T, preds.T, masks.T\n",
    "    ):\n",
    "        yield {\n",
    "            'Receptor': name,\n",
    "            'AUC': keras.metrics.AUC()(\n",
    "                true, pred, mask).numpy(), \n",
    "            'TP': keras.metrics.TruePositives()(\n",
    "                true, pred, mask).numpy().astype(int), \n",
    "            'FP': keras.metrics.FalsePositives()(\n",
    "                true, pred, mask).numpy().astype(int), \n",
    "            'TN': keras.metrics.TrueNegatives()(\n",
    "                true, pred, mask).numpy().astype(int), \n",
    "            'FN': keras.metrics.FalseNegatives()(\n",
    "                true, pred, mask).numpy().astype(int)\n",
    "        }\n",
    "        \n",
    "results_table = pd.DataFrame([\n",
    "    score for score in scores(\n",
    "        receptor_names, y_test, y_test_pred, m_test\n",
    "    )\n",
    "])"
   ]
  },
  {
   "cell_type": "code",
   "execution_count": null,
   "id": "719a260f",
   "metadata": {},
   "outputs": [],
   "source": [
    "results_table"
   ]
  },
  {
   "cell_type": "code",
   "execution_count": null,
   "id": "b626e101",
   "metadata": {},
   "outputs": [],
   "source": []
  }
 ],
 "metadata": {
  "kernelspec": {
   "display_name": "Python 3 (ipykernel)",
   "language": "python",
   "name": "python3"
  },
  "language_info": {
   "codemirror_mode": {
    "name": "ipython",
    "version": 3
   },
   "file_extension": ".py",
   "mimetype": "text/x-python",
   "name": "python",
   "nbconvert_exporter": "python",
   "pygments_lexer": "ipython3",
   "version": "3.10.12"
  }
 },
 "nbformat": 4,
 "nbformat_minor": 5
}

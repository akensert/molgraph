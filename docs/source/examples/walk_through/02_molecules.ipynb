{
 "cells": [
  {
   "cell_type": "markdown",
   "metadata": {},
   "source": [
    "# Chemistry"
   ]
  },
  {
   "cell_type": "code",
   "execution_count": 19,
   "metadata": {},
   "outputs": [],
   "source": [
    "from molgraph import chemistry\n",
    "\n",
    "import tensorflow as tf\n",
    "\n",
    "import matplotlib.pyplot as plt"
   ]
  },
  {
   "cell_type": "code",
   "execution_count": 20,
   "metadata": {},
   "outputs": [
    {
     "name": "stdout",
     "output_type": "stream",
     "text": [
      "<class 'rdkit.Chem.rdchem.Mol'>\n"
     ]
    }
   ],
   "source": [
    "# Convert SMILES representation of molecule to an RDKit molecule\n",
    "rdkit_mol = chemistry.molecule_from_string(\n",
    "    'OCC1OC(C(C1O)O)n1cnc2c1ncnc2N')\n",
    "\n",
    "print(type(rdkit_mol))"
   ]
  },
  {
   "cell_type": "markdown",
   "metadata": {},
   "source": [
    "### `chemistry.features` (level 1)"
   ]
  },
  {
   "cell_type": "code",
   "execution_count": 24,
   "metadata": {},
   "outputs": [
    {
     "name": "stdout",
     "output_type": "stream",
     "text": [
      "Symbol:   O\n",
      "BondType: SINGLE\n"
     ]
    }
   ],
   "source": [
    "# Obtain RDKit atom and bond via the RDKit API\n",
    "atom = rdkit_mol.GetAtoms()[0]\n",
    "bond = rdkit_mol.GetBonds()[0]\n",
    "\n",
    "symbol_feature = chemistry.features.Symbol()\n",
    "bondtype_feature = chemistry.features.BondType()\n",
    "\n",
    "print('Symbol:  ', symbol_feature(atom))\n",
    "print('BondType:', bondtype_feature(bond))\n",
    "\n",
    "\n"
   ]
  },
  {
   "cell_type": "markdown",
   "metadata": {},
   "source": [
    "#### Arguments of a `chemistry.Feature`\n",
    "\n",
    "- `allowable_set` specifies what features should be considered\n",
    "- `oov_size` specifies the number of bins alloted to \"out-of-vocabulary\" features (based on `allowable_set`) \n",
    "- `ordinal` specifies if encoding should be ordinal or not (nominal)\n",
    "\n",
    "Importantly, the arguments above will only take effect when wrapped in a `chemistry.Encoding`, which occur automatically inside a `chemistry.Featurizer` or `chemistry.Tokenizer`."
   ]
  },
  {
   "cell_type": "code",
   "execution_count": 25,
   "metadata": {},
   "outputs": [
    {
     "name": "stdout",
     "output_type": "stream",
     "text": [
      "BondType(allowable_set={'DOUBLE', 'TRIPLE', 'AROMATIC', 'SINGLE'}, ordinal=False, oov_size=0)\n",
      "BondType(allowable_set=['SINGLE', 'DOUBLE'], ordinal=False, oov_size=1)\n"
     ]
    }
   ],
   "source": [
    "print(chemistry.features.BondType())\n",
    "print(chemistry.features.BondType(allowable_set=['SINGLE', 'DOUBLE'], oov_size=1, ordinal=False))"
   ]
  },
  {
   "cell_type": "markdown",
   "metadata": {},
   "source": [
    "###  `chemistry.Featurizer` (level 2)\n",
    "\n",
    "A `chemistry.Featurizer` (or `chemistry.Tokenizer`) can be built from a list of `chemistry.Feature`s. Note: if `ordinal=False` (default), `allowable_set` will be sorted internally via `sort()`. "
   ]
  },
  {
   "cell_type": "code",
   "execution_count": 26,
   "metadata": {},
   "outputs": [
    {
     "name": "stdout",
     "output_type": "stream",
     "text": [
      "Symbol:        O\n",
      "Hybridization: SP3\n",
      "[0. 0. 0. 1. 0. 0. 0. 1.]\n"
     ]
    }
   ],
   "source": [
    "atom_encoder = chemistry.Featurizer([\n",
    "    chemistry.features.Symbol(['C', 'N', 'O'], oov_size=1),\n",
    "    chemistry.features.Hybridization(['SP', 'SP2', 'SP3'], oov_size=1)\n",
    "])\n",
    "\n",
    "print('Symbol:       ', atom.GetSymbol())\n",
    "print('Hybridization:', atom.GetHybridization().name)\n",
    "\n",
    "# first and fifth bin is alloted to OOVs\n",
    "print(atom_encoder(atom))"
   ]
  },
  {
   "cell_type": "markdown",
   "metadata": {},
   "source": [
    "#### Create a custom `chemistry.Feature`"
   ]
  },
  {
   "cell_type": "code",
   "execution_count": 27,
   "metadata": {},
   "outputs": [
    {
     "name": "stdout",
     "output_type": "stream",
     "text": [
      "AtomMass: 15.999\n",
      "Symbol:   O\n",
      "[0. 1. 0. 0. 0.]\n"
     ]
    }
   ],
   "source": [
    "class AtomMass(chemistry.Feature):\n",
    "    def __call__(self, x):\n",
    "        mass = x.GetMass()\n",
    "        if mass < 5:\n",
    "            return 'x<5'\n",
    "        elif mass < 40:\n",
    "            return '5<x<40'\n",
    "        else:\n",
    "            return '40<x'\n",
    "\n",
    "featurizer = chemistry.Featurizer([\n",
    "    AtomMass({'x<5', '5<x<40', '40<x'}), \n",
    "    chemistry.features.Symbol({'C', 'N'})\n",
    "])\n",
    "        \n",
    "print('AtomMass:', atom.GetMass())\n",
    "print('Symbol:  ', atom.GetSymbol())\n",
    "print(featurizer(atom))"
   ]
  },
  {
   "cell_type": "markdown",
   "metadata": {},
   "source": [
    "### `chemistry.MolecularGraphEncoder` (level 3)\n",
    "\n",
    "`chemistry.MolecularGraphEncoder` encodes inputted molecule(s) as molecular graphs, namely as a `GraphTensor`.\n",
    "\n",
    "\n",
    "Below a single molecule is encoded as a `GraphTensor`"
   ]
  },
  {
   "cell_type": "code",
   "execution_count": 29,
   "metadata": {},
   "outputs": [
    {
     "name": "stdout",
     "output_type": "stream",
     "text": [
      "GraphTensor(\n",
      "  sizes=<tf.Tensor: shape=(), dtype=int64>,\n",
      "  node_feature=<tf.Tensor: shape=(19, 3), dtype=float32>,\n",
      "  edge_src=<tf.Tensor: shape=(42,), dtype=int32>,\n",
      "  edge_dst=<tf.Tensor: shape=(42,), dtype=int32>,\n",
      "  edge_feature=<tf.Tensor: shape=(42, 2), dtype=float32>,\n",
      "  node_position=<tf.Tensor: shape=(19, 16), dtype=float32>)\n"
     ]
    }
   ],
   "source": [
    "atom_encoder = chemistry.Featurizer([\n",
    "    chemistry.features.Symbol(allowable_set={'C', 'N', 'O'})\n",
    "])\n",
    "bond_encoder = chemistry.Featurizer([\n",
    "    chemistry.features.BondType(allowable_set={'SINGLE', 'DOUBLE'})\n",
    "])\n",
    "\n",
    "mol_encoder = chemistry.MolecularGraphEncoder(\n",
    "    atom_encoder=atom_encoder,                                    # not default, required\n",
    "    bond_encoder=bond_encoder,                                    # not default, optional\n",
    "    positional_encoding_dim=16,                                   # default\n",
    "    self_loops=False,                                             # default\n",
    "    molecule_from_string_fn=chemistry.molecule_from_string        # default\n",
    ")\n",
    "\n",
    "print(mol_encoder(rdkit_mol))"
   ]
  },
  {
   "cell_type": "markdown",
   "metadata": {},
   "source": [
    "Here, a list of molecules are encoded as a `GraphTensor`"
   ]
  },
  {
   "cell_type": "code",
   "execution_count": 32,
   "metadata": {},
   "outputs": [
    {
     "name": "stdout",
     "output_type": "stream",
     "text": [
      "GraphTensor(\n",
      "  sizes=<tf.Tensor: shape=(3,), dtype=int64>,\n",
      "  node_feature=<tf.Tensor: shape=(37, 3), dtype=float32>,\n",
      "  edge_src=<tf.Tensor: shape=(76,), dtype=int32>,\n",
      "  edge_dst=<tf.Tensor: shape=(76,), dtype=int32>,\n",
      "  edge_feature=<tf.Tensor: shape=(76, 2), dtype=float32>,\n",
      "  node_position=<tf.Tensor: shape=(37, 16), dtype=float32>)\n"
     ]
    }
   ],
   "source": [
    "smiles = [\n",
    "    'OCC1OC(C(C1O)O)n1cnc2c1ncnc2N',\n",
    "    'C(C(=O)O)N',\n",
    "    'C1=CC(=CC=C1CC(C(=O)O)N)O'\n",
    "]\n",
    "# Uses multiprocessing by default\n",
    "graph_tensor = mol_encoder(smiles, processes=8)\n",
    "print(graph_tensor)"
   ]
  },
  {
   "cell_type": "markdown",
   "metadata": {},
   "source": [
    "#### Inspect generated `GraphTensor`"
   ]
  },
  {
   "cell_type": "code",
   "execution_count": 33,
   "metadata": {
    "scrolled": false
   },
   "outputs": [
    {
     "name": "stdout",
     "output_type": "stream",
     "text": [
      "node_feature: tf.Tensor(\n",
      "[[0. 0. 1.]\n",
      " [1. 0. 0.]\n",
      " [1. 0. 0.]\n",
      " [0. 0. 1.]\n",
      " [1. 0. 0.]\n",
      " [1. 0. 0.]\n",
      " [1. 0. 0.]\n",
      " [0. 0. 1.]\n",
      " [0. 0. 1.]\n",
      " [0. 1. 0.]\n",
      " [1. 0. 0.]\n",
      " [0. 1. 0.]\n",
      " [1. 0. 0.]\n",
      " [1. 0. 0.]\n",
      " [0. 1. 0.]\n",
      " [1. 0. 0.]\n",
      " [0. 1. 0.]\n",
      " [1. 0. 0.]\n",
      " [0. 1. 0.]\n",
      " [1. 0. 0.]\n",
      " [1. 0. 0.]\n",
      " [0. 0. 1.]\n",
      " [0. 0. 1.]\n",
      " [0. 1. 0.]\n",
      " [1. 0. 0.]\n",
      " [1. 0. 0.]\n",
      " [1. 0. 0.]\n",
      " [1. 0. 0.]\n",
      " [1. 0. 0.]\n",
      " [1. 0. 0.]\n",
      " [1. 0. 0.]\n",
      " [1. 0. 0.]\n",
      " [1. 0. 0.]\n",
      " [0. 0. 1.]\n",
      " [0. 0. 1.]\n",
      " [0. 1. 0.]\n",
      " [0. 0. 1.]], shape=(37, 3), dtype=float32)\n",
      "\n",
      "edge_feature: tf.Tensor(\n",
      "[[0. 1.]\n",
      " [0. 1.]\n",
      " [0. 1.]\n",
      " [0. 1.]\n",
      " [0. 1.]\n",
      " [0. 1.]\n",
      " [0. 1.]\n",
      " [0. 1.]\n",
      " [0. 1.]\n",
      " [0. 1.]\n",
      " [0. 1.]\n",
      " [0. 1.]\n",
      " [0. 1.]\n",
      " [0. 1.]\n",
      " [0. 1.]\n",
      " [0. 1.]\n",
      " [0. 1.]\n",
      " [0. 1.]\n",
      " [0. 1.]\n",
      " [0. 1.]\n",
      " [0. 0.]\n",
      " [0. 0.]\n",
      " [0. 0.]\n",
      " [0. 0.]\n",
      " [0. 0.]\n",
      " [0. 0.]\n",
      " [0. 0.]\n",
      " [0. 0.]\n",
      " [0. 0.]\n",
      " [0. 0.]\n",
      " [0. 0.]\n",
      " [0. 0.]\n",
      " [0. 0.]\n",
      " [0. 0.]\n",
      " [0. 0.]\n",
      " [0. 0.]\n",
      " [0. 0.]\n",
      " [0. 0.]\n",
      " [0. 0.]\n",
      " [0. 0.]\n",
      " [0. 1.]\n",
      " [0. 1.]\n",
      " [0. 1.]\n",
      " [0. 1.]\n",
      " [0. 1.]\n",
      " [1. 0.]\n",
      " [0. 1.]\n",
      " [1. 0.]\n",
      " [0. 1.]\n",
      " [0. 1.]\n",
      " [0. 0.]\n",
      " [0. 0.]\n",
      " [0. 0.]\n",
      " [0. 0.]\n",
      " [0. 0.]\n",
      " [0. 0.]\n",
      " [0. 1.]\n",
      " [0. 0.]\n",
      " [0. 0.]\n",
      " [0. 0.]\n",
      " [0. 0.]\n",
      " [0. 0.]\n",
      " [0. 0.]\n",
      " [0. 1.]\n",
      " [0. 1.]\n",
      " [0. 1.]\n",
      " [0. 1.]\n",
      " [0. 1.]\n",
      " [0. 1.]\n",
      " [0. 1.]\n",
      " [1. 0.]\n",
      " [0. 1.]\n",
      " [1. 0.]\n",
      " [0. 1.]\n",
      " [0. 1.]\n",
      " [0. 1.]], shape=(76, 2), dtype=float32)\n",
      "\n",
      "edge_dst: tf.Tensor(\n",
      "[ 1  0  2  1  3  6  2  4  3  5  9  4  6  8  2  5  7  6  5  4 10 13  9 11\n",
      " 10 12 11 13 17  9 12 14 13 15 14 16 15 17 12 16 18 17 20 23 19 21 22 20\n",
      " 20 19 25 29 24 26 25 27 36 26 28 27 29 24 28 30 29 31 30 32 35 31 33 34\n",
      " 32 32 31 26], shape=(76,), dtype=int32)\n",
      "\n",
      "edge_src: tf.Tensor(\n",
      "[ 0  1  1  2  2  2  3  3  4  4  4  5  5  5  6  6  6  7  8  9  9  9 10 10\n",
      " 11 11 12 12 12 13 13 13 14 14 15 15 16 16 17 17 17 18 19 19 20 20 20 21\n",
      " 22 23 24 24 25 25 26 26 26 27 27 28 28 29 29 29 30 30 31 31 31 32 32 32\n",
      " 33 34 35 36], shape=(76,), dtype=int32)\n",
      "\n"
     ]
    }
   ],
   "source": [
    "print('node_feature:', graph_tensor.node_feature, end='\\n\\n')\n",
    "print('edge_feature:', graph_tensor.edge_feature, end='\\n\\n')\n",
    "print('edge_dst:', graph_tensor.edge_dst, end='\\n\\n')\n",
    "print('edge_src:', graph_tensor.edge_src, end='\\n\\n')"
   ]
  },
  {
   "cell_type": "markdown",
   "metadata": {},
   "source": [
    "#### Extract the second subgraph (glycine)"
   ]
  },
  {
   "cell_type": "code",
   "execution_count": 35,
   "metadata": {
    "scrolled": false
   },
   "outputs": [
    {
     "data": {
      "image/png": "[encoded data removed]",
      "text/plain": [
       "<PIL.PngImagePlugin.PngImageFile image mode=RGB size=300x300>"
      ]
     },
     "execution_count": 35,
     "metadata": {},
     "output_type": "execute_result"
    }
   ],
   "source": [
    "from molgraph.chemistry import vis\n",
    "\n",
    "index = 1\n",
    "\n",
    "# visualize the second molecule of the GraphTensor as reference\n",
    "vis.visualize_molecule(\n",
    "    molecule=molecules[index], \n",
    "    atom_index=True, \n",
    "    bond_index=True\n",
    ")"
   ]
  },
  {
   "cell_type": "code",
   "execution_count": 36,
   "metadata": {},
   "outputs": [
    {
     "name": "stdout",
     "output_type": "stream",
     "text": [
      "GraphTensor(\n",
      "  sizes=<tf.Tensor: shape=(), dtype=int64>,\n",
      "  node_feature=<tf.Tensor: shape=(5, 3), dtype=float32>,\n",
      "  edge_src=<tf.Tensor: shape=(8,), dtype=int32>,\n",
      "  edge_dst=<tf.Tensor: shape=(8,), dtype=int32>,\n",
      "  edge_feature=<tf.Tensor: shape=(8, 2), dtype=float32>,\n",
      "  node_position=<tf.Tensor: shape=(5, 16), dtype=float32>)\n",
      "\n",
      "node_feature: tf.Tensor(\n",
      "[[1. 0. 0.]\n",
      " [1. 0. 0.]\n",
      " [0. 0. 1.]\n",
      " [0. 0. 1.]\n",
      " [0. 1. 0.]], shape=(5, 3), dtype=float32)\n",
      "\n",
      "edge_feature: tf.Tensor(\n",
      "[[0. 1.]\n",
      " [0. 1.]\n",
      " [0. 1.]\n",
      " [1. 0.]\n",
      " [0. 1.]\n",
      " [1. 0.]\n",
      " [0. 1.]\n",
      " [0. 1.]], shape=(8, 2), dtype=float32)\n",
      "\n",
      "edge_dst: tf.Tensor([1 4 0 2 3 1 1 0], shape=(8,), dtype=int32)\n",
      "\n",
      "edge_src: tf.Tensor([0 0 1 1 1 2 3 4], shape=(8,), dtype=int32)\n",
      "\n"
     ]
    }
   ],
   "source": [
    "print(graph_tensor[index], end='\\n\\n')\n",
    "print('node_feature:', graph_tensor[index].node_feature, end='\\n\\n')\n",
    "print('edge_feature:', graph_tensor[index].edge_feature, end='\\n\\n')\n",
    "print('edge_dst:', graph_tensor[index].edge_dst, end='\\n\\n')\n",
    "print('edge_src:', graph_tensor[index].edge_src, end='\\n\\n')"
   ]
  },
  {
   "cell_type": "markdown",
   "metadata": {},
   "source": [
    "#### Separate `GraphTensor` (its subgraphs) into separate rows"
   ]
  },
  {
   "cell_type": "code",
   "execution_count": 37,
   "metadata": {
    "scrolled": false
   },
   "outputs": [
    {
     "name": "stdout",
     "output_type": "stream",
     "text": [
      "GraphTensor(\n",
      "  sizes=<tf.Tensor: shape=(3,), dtype=int64>,\n",
      "  node_feature=<tf.RaggedTensor: shape=(3, None, 3), dtype=float32, ragged_rank=1>,\n",
      "  edge_src=<tf.RaggedTensor: shape=(3, None), dtype=int32, ragged_rank=1>,\n",
      "  edge_dst=<tf.RaggedTensor: shape=(3, None), dtype=int32, ragged_rank=1>,\n",
      "  edge_feature=<tf.RaggedTensor: shape=(3, None, 2), dtype=float32, ragged_rank=1>,\n",
      "  node_position=<tf.RaggedTensor: shape=(3, None, 16), dtype=float32, ragged_rank=1>)\n",
      "\n",
      "node_feature: <tf.RaggedTensor [[[0.0, 0.0, 1.0],\n",
      "  [1.0, 0.0, 0.0],\n",
      "  [1.0, 0.0, 0.0],\n",
      "  [0.0, 0.0, 1.0],\n",
      "  [1.0, 0.0, 0.0],\n",
      "  [1.0, 0.0, 0.0],\n",
      "  [1.0, 0.0, 0.0],\n",
      "  [0.0, 0.0, 1.0],\n",
      "  [0.0, 0.0, 1.0],\n",
      "  [0.0, 1.0, 0.0],\n",
      "  [1.0, 0.0, 0.0],\n",
      "  [0.0, 1.0, 0.0],\n",
      "  [1.0, 0.0, 0.0],\n",
      "  [1.0, 0.0, 0.0],\n",
      "  [0.0, 1.0, 0.0],\n",
      "  [1.0, 0.0, 0.0],\n",
      "  [0.0, 1.0, 0.0],\n",
      "  [1.0, 0.0, 0.0],\n",
      "  [0.0, 1.0, 0.0]], [[1.0, 0.0, 0.0],\n",
      "                     [1.0, 0.0, 0.0],\n",
      "                     [0.0, 0.0, 1.0],\n",
      "                     [0.0, 0.0, 1.0],\n",
      "                     [0.0, 1.0, 0.0]], [[1.0, 0.0, 0.0],\n",
      "                                        [1.0, 0.0, 0.0],\n",
      "                                        [1.0, 0.0, 0.0],\n",
      "                                        [1.0, 0.0, 0.0],\n",
      "                                        [1.0, 0.0, 0.0],\n",
      "                                        [1.0, 0.0, 0.0],\n",
      "                                        [1.0, 0.0, 0.0],\n",
      "                                        [1.0, 0.0, 0.0],\n",
      "                                        [1.0, 0.0, 0.0],\n",
      "                                        [0.0, 0.0, 1.0],\n",
      "                                        [0.0, 0.0, 1.0],\n",
      "                                        [0.0, 1.0, 0.0],\n",
      "                                        [0.0, 0.0, 1.0]]]>\n",
      "\n",
      "edge_feature: <tf.RaggedTensor [[[0.0, 1.0],\n",
      "  [0.0, 1.0],\n",
      "  [0.0, 1.0],\n",
      "  [0.0, 1.0],\n",
      "  [0.0, 1.0],\n",
      "  [0.0, 1.0],\n",
      "  [0.0, 1.0],\n",
      "  [0.0, 1.0],\n",
      "  [0.0, 1.0],\n",
      "  [0.0, 1.0],\n",
      "  [0.0, 1.0],\n",
      "  [0.0, 1.0],\n",
      "  [0.0, 1.0],\n",
      "  [0.0, 1.0],\n",
      "  [0.0, 1.0],\n",
      "  [0.0, 1.0],\n",
      "  [0.0, 1.0],\n",
      "  [0.0, 1.0],\n",
      "  [0.0, 1.0],\n",
      "  [0.0, 1.0],\n",
      "  [0.0, 0.0],\n",
      "  [0.0, 0.0],\n",
      "  [0.0, 0.0],\n",
      "  [0.0, 0.0],\n",
      "  [0.0, 0.0],\n",
      "  [0.0, 0.0],\n",
      "  [0.0, 0.0],\n",
      "  [0.0, 0.0],\n",
      "  [0.0, 0.0],\n",
      "  [0.0, 0.0],\n",
      "  [0.0, 0.0],\n",
      "  [0.0, 0.0],\n",
      "  [0.0, 0.0],\n",
      "  [0.0, 0.0],\n",
      "  [0.0, 0.0],\n",
      "  [0.0, 0.0],\n",
      "  [0.0, 0.0],\n",
      "  [0.0, 0.0],\n",
      "  [0.0, 0.0],\n",
      "  [0.0, 0.0],\n",
      "  [0.0, 1.0],\n",
      "  [0.0, 1.0]], [[0.0, 1.0],\n",
      "                [0.0, 1.0],\n",
      "                [0.0, 1.0],\n",
      "                [1.0, 0.0],\n",
      "                [0.0, 1.0],\n",
      "                [1.0, 0.0],\n",
      "                [0.0, 1.0],\n",
      "                [0.0, 1.0]], [[0.0, 0.0],\n",
      "                              [0.0, 0.0],\n",
      "                              [0.0, 0.0],\n",
      "                              [0.0, 0.0],\n",
      "                              [0.0, 0.0],\n",
      "                              [0.0, 0.0],\n",
      "                              [0.0, 1.0],\n",
      "                              [0.0, 0.0],\n",
      "                              [0.0, 0.0],\n",
      "                              [0.0, 0.0],\n",
      "                              [0.0, 0.0],\n",
      "                              [0.0, 0.0],\n",
      "                              [0.0, 0.0],\n",
      "                              [0.0, 1.0],\n",
      "                              [0.0, 1.0],\n",
      "                              [0.0, 1.0],\n",
      "                              [0.0, 1.0],\n",
      "                              [0.0, 1.0],\n",
      "                              [0.0, 1.0],\n",
      "                              [0.0, 1.0],\n",
      "                              [1.0, 0.0],\n",
      "                              [0.0, 1.0],\n",
      "                              [1.0, 0.0],\n",
      "                              [0.0, 1.0],\n",
      "                              [0.0, 1.0],\n",
      "                              [0.0, 1.0]]]>\n",
      "\n",
      "edge_dst: <tf.RaggedTensor [[1, 0, 2, 1, 3, 6, 2, 4, 3, 5, 9, 4, 6, 8, 2, 5, 7, 6, 5, 4, 10, 13, 9, 11,\n",
      "  10, 12, 11, 13, 17, 9, 12, 14, 13, 15, 14, 16, 15, 17, 12, 16, 18, 17]    ,\n",
      " [1, 4, 0, 2, 3, 1, 1, 0],\n",
      " [1, 5, 0, 2, 1, 3, 12, 2, 4, 3, 5, 0, 4, 6, 5, 7, 6, 8, 11, 7, 9, 10, 8, 8,\n",
      "  7, 2]                                                                     ]>\n",
      "\n",
      "edge_src: <tf.RaggedTensor [[0, 1, 1, 2, 2, 2, 3, 3, 4, 4, 4, 5, 5, 5, 6, 6, 6, 7, 8, 9, 9, 9, 10, 10,\n",
      "  11, 11, 12, 12, 12, 13, 13, 13, 14, 14, 15, 15, 16, 16, 17, 17, 17, 18]  ,\n",
      " [0, 0, 1, 1, 1, 2, 3, 4],\n",
      " [0, 0, 1, 1, 2, 2, 2, 3, 3, 4, 4, 5, 5, 5, 6, 6, 7, 7, 7, 8, 8, 8, 9, 10,\n",
      "  11, 12]                                                                 ]>\n",
      "\n",
      "graph_indicator: None\n"
     ]
    }
   ],
   "source": [
    "graph_tensor = graph_tensor.separate()\n",
    "print(graph_tensor, end='\\n\\n')\n",
    "print('node_feature:', graph_tensor.node_feature, end='\\n\\n')\n",
    "print('edge_feature:', graph_tensor.edge_feature, end='\\n\\n')\n",
    "print('edge_dst:', graph_tensor.edge_dst, end='\\n\\n')\n",
    "print('edge_src:', graph_tensor.edge_src, end='\\n\\n')\n",
    "print('graph_indicator:', graph_tensor.graph_indicator)"
   ]
  },
  {
   "cell_type": "markdown",
   "metadata": {},
   "source": [
    "#### Merge `GraphTensor` (its subgraphs) into a single disjoint graph"
   ]
  },
  {
   "cell_type": "code",
   "execution_count": 38,
   "metadata": {
    "scrolled": false
   },
   "outputs": [
    {
     "name": "stdout",
     "output_type": "stream",
     "text": [
      "GraphTensor(\n",
      "  sizes=<tf.Tensor: shape=(3,), dtype=int64>,\n",
      "  node_feature=<tf.Tensor: shape=(37, 3), dtype=float32>,\n",
      "  edge_src=<tf.Tensor: shape=(76,), dtype=int32>,\n",
      "  edge_dst=<tf.Tensor: shape=(76,), dtype=int32>,\n",
      "  edge_feature=<tf.Tensor: shape=(76, 2), dtype=float32>,\n",
      "  node_position=<tf.Tensor: shape=(37, 16), dtype=float32>)\n",
      "\n",
      "node_feature: tf.Tensor(\n",
      "[[0. 0. 1.]\n",
      " [1. 0. 0.]\n",
      " [1. 0. 0.]\n",
      " [0. 0. 1.]\n",
      " [1. 0. 0.]\n",
      " [1. 0. 0.]\n",
      " [1. 0. 0.]\n",
      " [0. 0. 1.]\n",
      " [0. 0. 1.]\n",
      " [0. 1. 0.]\n",
      " [1. 0. 0.]\n",
      " [0. 1. 0.]\n",
      " [1. 0. 0.]\n",
      " [1. 0. 0.]\n",
      " [0. 1. 0.]\n",
      " [1. 0. 0.]\n",
      " [0. 1. 0.]\n",
      " [1. 0. 0.]\n",
      " [0. 1. 0.]\n",
      " [1. 0. 0.]\n",
      " [1. 0. 0.]\n",
      " [0. 0. 1.]\n",
      " [0. 0. 1.]\n",
      " [0. 1. 0.]\n",
      " [1. 0. 0.]\n",
      " [1. 0. 0.]\n",
      " [1. 0. 0.]\n",
      " [1. 0. 0.]\n",
      " [1. 0. 0.]\n",
      " [1. 0. 0.]\n",
      " [1. 0. 0.]\n",
      " [1. 0. 0.]\n",
      " [1. 0. 0.]\n",
      " [0. 0. 1.]\n",
      " [0. 0. 1.]\n",
      " [0. 1. 0.]\n",
      " [0. 0. 1.]], shape=(37, 3), dtype=float32)\n",
      "\n",
      "edge_feature: tf.Tensor(\n",
      "[[0. 1.]\n",
      " [0. 1.]\n",
      " [0. 1.]\n",
      " [0. 1.]\n",
      " [0. 1.]\n",
      " [0. 1.]\n",
      " [0. 1.]\n",
      " [0. 1.]\n",
      " [0. 1.]\n",
      " [0. 1.]\n",
      " [0. 1.]\n",
      " [0. 1.]\n",
      " [0. 1.]\n",
      " [0. 1.]\n",
      " [0. 1.]\n",
      " [0. 1.]\n",
      " [0. 1.]\n",
      " [0. 1.]\n",
      " [0. 1.]\n",
      " [0. 1.]\n",
      " [0. 0.]\n",
      " [0. 0.]\n",
      " [0. 0.]\n",
      " [0. 0.]\n",
      " [0. 0.]\n",
      " [0. 0.]\n",
      " [0. 0.]\n",
      " [0. 0.]\n",
      " [0. 0.]\n",
      " [0. 0.]\n",
      " [0. 0.]\n",
      " [0. 0.]\n",
      " [0. 0.]\n",
      " [0. 0.]\n",
      " [0. 0.]\n",
      " [0. 0.]\n",
      " [0. 0.]\n",
      " [0. 0.]\n",
      " [0. 0.]\n",
      " [0. 0.]\n",
      " [0. 1.]\n",
      " [0. 1.]\n",
      " [0. 1.]\n",
      " [0. 1.]\n",
      " [0. 1.]\n",
      " [1. 0.]\n",
      " [0. 1.]\n",
      " [1. 0.]\n",
      " [0. 1.]\n",
      " [0. 1.]\n",
      " [0. 0.]\n",
      " [0. 0.]\n",
      " [0. 0.]\n",
      " [0. 0.]\n",
      " [0. 0.]\n",
      " [0. 0.]\n",
      " [0. 1.]\n",
      " [0. 0.]\n",
      " [0. 0.]\n",
      " [0. 0.]\n",
      " [0. 0.]\n",
      " [0. 0.]\n",
      " [0. 0.]\n",
      " [0. 1.]\n",
      " [0. 1.]\n",
      " [0. 1.]\n",
      " [0. 1.]\n",
      " [0. 1.]\n",
      " [0. 1.]\n",
      " [0. 1.]\n",
      " [1. 0.]\n",
      " [0. 1.]\n",
      " [1. 0.]\n",
      " [0. 1.]\n",
      " [0. 1.]\n",
      " [0. 1.]], shape=(76, 2), dtype=float32)\n",
      "\n",
      "edge_dst: tf.Tensor(\n",
      "[ 1  0  2  1  3  6  2  4  3  5  9  4  6  8  2  5  7  6  5  4 10 13  9 11\n",
      " 10 12 11 13 17  9 12 14 13 15 14 16 15 17 12 16 18 17 20 23 19 21 22 20\n",
      " 20 19 25 29 24 26 25 27 36 26 28 27 29 24 28 30 29 31 30 32 35 31 33 34\n",
      " 32 32 31 26], shape=(76,), dtype=int32)\n",
      "\n",
      "edge_src: tf.Tensor(\n",
      "[ 0  1  1  2  2  2  3  3  4  4  4  5  5  5  6  6  6  7  8  9  9  9 10 10\n",
      " 11 11 12 12 12 13 13 13 14 14 15 15 16 16 17 17 17 18 19 19 20 20 20 21\n",
      " 22 23 24 24 25 25 26 26 26 27 27 28 28 29 29 29 30 30 31 31 31 32 32 32\n",
      " 33 34 35 36], shape=(76,), dtype=int32)\n",
      "\n"
     ]
    }
   ],
   "source": [
    "graph_tensor = graph_tensor.merge()\n",
    "print(graph_tensor, end='\\n\\n')\n",
    "print('node_feature:', graph_tensor.node_feature, end='\\n\\n')\n",
    "print('edge_feature:', graph_tensor.edge_feature, end='\\n\\n')\n",
    "print('edge_dst:', graph_tensor.edge_dst, end='\\n\\n')\n",
    "print('edge_src:', graph_tensor.edge_src, end='\\n\\n')"
   ]
  },
  {
   "cell_type": "code",
   "execution_count": null,
   "metadata": {},
   "outputs": [],
   "source": []
  }
 ],
 "metadata": {
  "kernelspec": {
   "display_name": "Python 3 (ipykernel)",
   "language": "python",
   "name": "python3"
  },
  "language_info": {
   "codemirror_mode": {
    "name": "ipython",
    "version": 3
   },
   "file_extension": ".py",
   "mimetype": "text/x-python",
   "name": "python",
   "nbconvert_exporter": "python",
   "pygments_lexer": "ipython3",
   "version": "3.10.6"
  }
 },
 "nbformat": 4,
 "nbformat_minor": 4
}

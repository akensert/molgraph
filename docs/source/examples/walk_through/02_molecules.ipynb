{
 "cells": [
  {
   "cell_type": "markdown",
   "metadata": {},
   "source": [
    "# Chemistry"
   ]
  },
  {
   "cell_type": "code",
   "execution_count": 14,
   "metadata": {},
   "outputs": [],
   "source": [
    "import tensorflow as tf\n",
    "tf.config.set_visible_devices([], 'GPU')\n",
    "\n",
    "import sys\n",
    "sys.path.append('../../../../')\n",
    "\n",
    "import matplotlib.pyplot as plt\n",
    "\n",
    "from molgraph import chemistry"
   ]
  },
  {
   "cell_type": "code",
   "execution_count": 2,
   "metadata": {},
   "outputs": [
    {
     "name": "stdout",
     "output_type": "stream",
     "text": [
      "<class 'rdkit.Chem.rdchem.Mol'>\n"
     ]
    }
   ],
   "source": [
    "# Convert SMILES representation of molecule to an RDKit molecule\n",
    "rdkit_mol = chemistry.molecule_from_string(\n",
    "    'OCC1OC(C(C1O)O)n1cnc2c1ncnc2N')\n",
    "\n",
    "print(type(rdkit_mol))"
   ]
  },
  {
   "cell_type": "markdown",
   "metadata": {},
   "source": [
    "### 1. Obtain **features**"
   ]
  },
  {
   "cell_type": "code",
   "execution_count": 3,
   "metadata": {},
   "outputs": [
    {
     "name": "stdout",
     "output_type": "stream",
     "text": [
      "Symbol:   O\n",
      "BondType: SINGLE\n"
     ]
    }
   ],
   "source": [
    "# Obtain RDKit atom and bond via the RDKit API\n",
    "atom = rdkit_mol.GetAtoms()[0]\n",
    "bond = rdkit_mol.GetBonds()[0]\n",
    "\n",
    "symbol_feature = chemistry.features.Symbol()\n",
    "bondtype_feature = chemistry.features.BondType()\n",
    "\n",
    "print('Symbol:  ', symbol_feature(atom))\n",
    "print('BondType:', bondtype_feature(bond))\n",
    "\n",
    "\n"
   ]
  },
  {
   "cell_type": "markdown",
   "metadata": {},
   "source": [
    "### *Arguments of* ***features***\n",
    "\n",
    "- `allowable_set` specifies what features should be considered\n",
    "- `oov_size` specifies the number of bins alloted to \"out-of-vocabulary\" features (based on `allowable_set`) \n",
    "- `ordinal` specifies if encoding should be ordinal or not (nominal)\n",
    "\n",
    "Importantly, the arguments above will only take effect when wrapped in a `chemistry.AtomicEncoder`, which occur automatically inside a `AtomicFeaturizer` or `AtomicTokenizer`."
   ]
  },
  {
   "cell_type": "code",
   "execution_count": 4,
   "metadata": {},
   "outputs": [
    {
     "name": "stdout",
     "output_type": "stream",
     "text": [
      "BondType(allowable_set=['SINGLE', 'AROMATIC', 'TRIPLE', 'DOUBLE'], ordinal=False, oov_size=0)\n",
      "BondType(allowable_set=['SINGLE', 'DOUBLE'], ordinal=False, oov_size=1)\n"
     ]
    }
   ],
   "source": [
    "print(chemistry.features.BondType())\n",
    "print(chemistry.features.BondType(allowable_set=['SINGLE', 'DOUBLE'], oov_size=1, ordinal=False))"
   ]
  },
  {
   "cell_type": "markdown",
   "metadata": {},
   "source": [
    "###  2. Pass features to **AtomicFeaturizer**\n",
    "\n",
    "An `AtomicFeaturizer` (or `AtomicTokenizer`) can be built from a list of `features`. Note: if `ordinal=False` (default), `allowable_set` will be sorted internally via `sort()`. "
   ]
  },
  {
   "cell_type": "code",
   "execution_count": 5,
   "metadata": {},
   "outputs": [
    {
     "name": "stdout",
     "output_type": "stream",
     "text": [
      "Symbol:        O\n",
      "Hybridization: SP3\n",
      "[0. 0. 0. 1. 0. 0. 0. 1.]\n"
     ]
    }
   ],
   "source": [
    "atom_encoder = chemistry.AtomicFeaturizer([\n",
    "    chemistry.features.Symbol(['C', 'N', 'O'], oov_size=1),\n",
    "    chemistry.features.Hybridization(['SP', 'SP2', 'SP3'], oov_size=1)\n",
    "])\n",
    "\n",
    "print('Symbol:       ', atom.GetSymbol())\n",
    "print('Hybridization:', atom.GetHybridization().name)\n",
    "\n",
    "# first and fifth bin is alloted to OOVs\n",
    "print(atom_encoder(atom))"
   ]
  },
  {
   "cell_type": "markdown",
   "metadata": {},
   "source": [
    "### *Create custom* ***features***"
   ]
  },
  {
   "cell_type": "code",
   "execution_count": 6,
   "metadata": {},
   "outputs": [
    {
     "name": "stdout",
     "output_type": "stream",
     "text": [
      "AtomMass: 15.999\n",
      "Symbol:   O\n",
      "[0. 1. 0. 0. 0.]\n"
     ]
    }
   ],
   "source": [
    "class AtomMass(chemistry.AtomicFeature):\n",
    "    def __call__(self, x):\n",
    "        mass = x.GetMass()\n",
    "        if mass < 5:\n",
    "            return 'x<5'\n",
    "        elif mass < 40:\n",
    "            return '5<x<40'\n",
    "        else:\n",
    "            return '40<x'\n",
    "\n",
    "featurizer = chemistry.AtomicFeaturizer([\n",
    "    AtomMass({'x<5', '5<x<40', '40<x'}), \n",
    "    chemistry.features.Symbol({'C', 'N'})\n",
    "])\n",
    "        \n",
    "print('AtomMass:', atom.GetMass())\n",
    "print('Symbol:  ', atom.GetSymbol())\n",
    "print(featurizer(atom))"
   ]
  },
  {
   "cell_type": "markdown",
   "metadata": {},
   "source": [
    "### 3. Pass **AtomicFeaturizer** to **MolecularGraphEncoder** to generate a **GraphTensor**\n",
    "\n",
    "`MolecularGraphEncoder` encodes inputted molecule(s) as molecular graphs, namely as a `GraphTensor`.\n",
    "\n",
    "\n",
    "Below a single molecule is encoded as a `GraphTensor`"
   ]
  },
  {
   "cell_type": "code",
   "execution_count": 7,
   "metadata": {},
   "outputs": [
    {
     "name": "stdout",
     "output_type": "stream",
     "text": [
      "GraphTensor(\n",
      "  edge_dst=<tf.Tensor: shape=(42,), dtype=int32>,\n",
      "  edge_src=<tf.Tensor: shape=(42,), dtype=int32>,\n",
      "  node_feature=<tf.Tensor: shape=(19, 3), dtype=float32>,\n",
      "  edge_feature=<tf.Tensor: shape=(42, 2), dtype=float32>,\n",
      "  positional_encoding=<tf.Tensor: shape=(19, 16), dtype=float32>,\n",
      "  graph_indicator=<tf.Tensor: shape=(19,), dtype=int32>)\n"
     ]
    }
   ],
   "source": [
    "\n",
    "atom_encoder = chemistry.AtomicFeaturizer([\n",
    "    chemistry.features.Symbol(allowable_set={'C', 'N', 'O'})\n",
    "])\n",
    "bond_encoder = chemistry.AtomicFeaturizer([\n",
    "    chemistry.features.BondType(allowable_set={'SINGLE', 'DOUBLE'})\n",
    "])\n",
    "\n",
    "mol_encoder = chemistry.MolecularGraphEncoder(\n",
    "    atom_encoder=atom_encoder,                                    # not default, required\n",
    "    bond_encoder=bond_encoder,                                    # not default, optional\n",
    "    positional_encoding_dim=16,                                   # default\n",
    "    self_loops=False,                                             # default\n",
    "    molecule_from_string_fn=chemistry.molecule_from_string        # default\n",
    ")\n",
    "\n",
    "print(mol_encoder(rdkit_mol))"
   ]
  },
  {
   "cell_type": "markdown",
   "metadata": {},
   "source": [
    "Here, a list of molecules are encoded as a `GraphTensor`"
   ]
  },
  {
   "cell_type": "code",
   "execution_count": 8,
   "metadata": {},
   "outputs": [
    {
     "name": "stdout",
     "output_type": "stream",
     "text": [
      "GraphTensor(\n",
      "  node_feature=<tf.RaggedTensor: shape=(3, None, 3), dtype=float32>,\n",
      "  edge_feature=<tf.RaggedTensor: shape=(3, None, 2), dtype=float32>,\n",
      "  positional_encoding=<tf.RaggedTensor: shape=(3, None, 16), dtype=float32>,\n",
      "  edge_dst=<tf.RaggedTensor: shape=(3, None), dtype=int32>,\n",
      "  edge_src=<tf.RaggedTensor: shape=(3, None), dtype=int32>)\n",
      "\n"
     ]
    }
   ],
   "source": [
    "molecules = [\n",
    "    'OCC1OC(C(C1O)O)n1cnc2c1ncnc2N',\n",
    "    'C(C(=O)O)N',\n",
    "    'C1=CC(=CC=C1CC(C(=O)O)N)O'\n",
    "]\n",
    "# Uses multiprocessing by default\n",
    "graph_tensor = mol_encoder(molecules, processes=8)\n",
    "print(graph_tensor, end='\\n\\n')"
   ]
  },
  {
   "cell_type": "markdown",
   "metadata": {},
   "source": [
    "### *Inspect generated molecular* ***GraphTensor***"
   ]
  },
  {
   "cell_type": "markdown",
   "metadata": {},
   "source": [
    "#### Inspect the whole graph"
   ]
  },
  {
   "cell_type": "code",
   "execution_count": 9,
   "metadata": {
    "scrolled": false
   },
   "outputs": [
    {
     "name": "stdout",
     "output_type": "stream",
     "text": [
      "node_feature: <tf.RaggedTensor [[[0.0, 0.0, 1.0],\n",
      "  [1.0, 0.0, 0.0],\n",
      "  [1.0, 0.0, 0.0],\n",
      "  [0.0, 0.0, 1.0],\n",
      "  [1.0, 0.0, 0.0],\n",
      "  [1.0, 0.0, 0.0],\n",
      "  [1.0, 0.0, 0.0],\n",
      "  [0.0, 0.0, 1.0],\n",
      "  [0.0, 0.0, 1.0],\n",
      "  [0.0, 1.0, 0.0],\n",
      "  [1.0, 0.0, 0.0],\n",
      "  [0.0, 1.0, 0.0],\n",
      "  [1.0, 0.0, 0.0],\n",
      "  [1.0, 0.0, 0.0],\n",
      "  [0.0, 1.0, 0.0],\n",
      "  [1.0, 0.0, 0.0],\n",
      "  [0.0, 1.0, 0.0],\n",
      "  [1.0, 0.0, 0.0],\n",
      "  [0.0, 1.0, 0.0]], [[1.0, 0.0, 0.0],\n",
      "                     [1.0, 0.0, 0.0],\n",
      "                     [0.0, 0.0, 1.0],\n",
      "                     [0.0, 0.0, 1.0],\n",
      "                     [0.0, 1.0, 0.0]], [[1.0, 0.0, 0.0],\n",
      "                                        [1.0, 0.0, 0.0],\n",
      "                                        [1.0, 0.0, 0.0],\n",
      "                                        [1.0, 0.0, 0.0],\n",
      "                                        [1.0, 0.0, 0.0],\n",
      "                                        [1.0, 0.0, 0.0],\n",
      "                                        [1.0, 0.0, 0.0],\n",
      "                                        [1.0, 0.0, 0.0],\n",
      "                                        [1.0, 0.0, 0.0],\n",
      "                                        [0.0, 0.0, 1.0],\n",
      "                                        [0.0, 0.0, 1.0],\n",
      "                                        [0.0, 1.0, 0.0],\n",
      "                                        [0.0, 0.0, 1.0]]]>\n",
      "\n",
      "edge_feature: <tf.RaggedTensor [[[0.0, 1.0],\n",
      "  [0.0, 1.0],\n",
      "  [0.0, 1.0],\n",
      "  [0.0, 1.0],\n",
      "  [0.0, 1.0],\n",
      "  [0.0, 1.0],\n",
      "  [0.0, 1.0],\n",
      "  [0.0, 1.0],\n",
      "  [0.0, 1.0],\n",
      "  [0.0, 1.0],\n",
      "  [0.0, 1.0],\n",
      "  [0.0, 1.0],\n",
      "  [0.0, 1.0],\n",
      "  [0.0, 1.0],\n",
      "  [0.0, 1.0],\n",
      "  [0.0, 1.0],\n",
      "  [0.0, 1.0],\n",
      "  [0.0, 1.0],\n",
      "  [0.0, 1.0],\n",
      "  [0.0, 1.0],\n",
      "  [0.0, 0.0],\n",
      "  [0.0, 0.0],\n",
      "  [0.0, 0.0],\n",
      "  [0.0, 0.0],\n",
      "  [0.0, 0.0],\n",
      "  [0.0, 0.0],\n",
      "  [0.0, 0.0],\n",
      "  [0.0, 0.0],\n",
      "  [0.0, 0.0],\n",
      "  [0.0, 0.0],\n",
      "  [0.0, 0.0],\n",
      "  [0.0, 0.0],\n",
      "  [0.0, 0.0],\n",
      "  [0.0, 0.0],\n",
      "  [0.0, 0.0],\n",
      "  [0.0, 0.0],\n",
      "  [0.0, 0.0],\n",
      "  [0.0, 0.0],\n",
      "  [0.0, 0.0],\n",
      "  [0.0, 0.0],\n",
      "  [0.0, 1.0],\n",
      "  [0.0, 1.0]], [[0.0, 1.0],\n",
      "                [0.0, 1.0],\n",
      "                [0.0, 1.0],\n",
      "                [1.0, 0.0],\n",
      "                [0.0, 1.0],\n",
      "                [1.0, 0.0],\n",
      "                [0.0, 1.0],\n",
      "                [0.0, 1.0]], [[0.0, 0.0],\n",
      "                              [0.0, 0.0],\n",
      "                              [0.0, 0.0],\n",
      "                              [0.0, 0.0],\n",
      "                              [0.0, 0.0],\n",
      "                              [0.0, 0.0],\n",
      "                              [0.0, 1.0],\n",
      "                              [0.0, 0.0],\n",
      "                              [0.0, 0.0],\n",
      "                              [0.0, 0.0],\n",
      "                              [0.0, 0.0],\n",
      "                              [0.0, 0.0],\n",
      "                              [0.0, 0.0],\n",
      "                              [0.0, 1.0],\n",
      "                              [0.0, 1.0],\n",
      "                              [0.0, 1.0],\n",
      "                              [0.0, 1.0],\n",
      "                              [0.0, 1.0],\n",
      "                              [0.0, 1.0],\n",
      "                              [0.0, 1.0],\n",
      "                              [1.0, 0.0],\n",
      "                              [0.0, 1.0],\n",
      "                              [1.0, 0.0],\n",
      "                              [0.0, 1.0],\n",
      "                              [0.0, 1.0],\n",
      "                              [0.0, 1.0]]]>\n",
      "\n",
      "edge_dst: <tf.RaggedTensor [[0, 1, 1, 2, 2, 2, 3, 3, 4, 4, 4, 5, 5, 5, 6, 6, 6, 7, 8, 9, 9, 9, 10, 10,\n",
      "  11, 11, 12, 12, 12, 13, 13, 13, 14, 14, 15, 15, 16, 16, 17, 17, 17, 18]  ,\n",
      " [0, 0, 1, 1, 1, 2, 3, 4],\n",
      " [0, 0, 1, 1, 2, 2, 2, 3, 3, 4, 4, 5, 5, 5, 6, 6, 7, 7, 7, 8, 8, 8, 9, 10,\n",
      "  11, 12]                                                                 ]>\n",
      "\n",
      "edge_src: <tf.RaggedTensor [[1, 0, 2, 1, 3, 6, 2, 4, 3, 5, 9, 4, 6, 8, 2, 5, 7, 6, 5, 4, 10, 13, 9, 11,\n",
      "  10, 12, 11, 13, 17, 9, 12, 14, 13, 15, 14, 16, 15, 17, 12, 16, 18, 17]    ,\n",
      " [1, 4, 0, 2, 3, 1, 1, 0],\n",
      " [1, 5, 0, 2, 1, 3, 12, 2, 4, 3, 5, 0, 4, 6, 5, 7, 6, 8, 11, 7, 9, 10, 8, 8,\n",
      "  7, 2]                                                                     ]>\n",
      "\n"
     ]
    }
   ],
   "source": [
    "print('node_feature:', graph_tensor.node_feature, end='\\n\\n')\n",
    "print('edge_feature:', graph_tensor.edge_feature, end='\\n\\n')\n",
    "print('edge_dst:', graph_tensor.edge_dst, end='\\n\\n')\n",
    "print('edge_src:', graph_tensor.edge_src, end='\\n\\n')"
   ]
  },
  {
   "cell_type": "markdown",
   "metadata": {},
   "source": [
    "#### Extract the second subgraph (molecule)"
   ]
  },
  {
   "cell_type": "code",
   "execution_count": 10,
   "metadata": {
    "scrolled": false
   },
   "outputs": [
    {
     "data": {
      "image/png": "[encoded data removed]",
      "text/plain": [
       "<PIL.PngImagePlugin.PngImageFile image mode=RGB size=300x300 at 0x7F31805ADB50>"
      ]
     },
     "execution_count": 10,
     "metadata": {},
     "output_type": "execute_result"
    }
   ],
   "source": [
    "from molgraph.chemistry import vis\n",
    "\n",
    "index = 1\n",
    "\n",
    "# visualize the second molecule of the GraphTensor as reference\n",
    "vis.visualize_molecule(\n",
    "    molecule=molecules[index], \n",
    "    atom_index=True, \n",
    "    bond_index=True\n",
    ")"
   ]
  },
  {
   "cell_type": "code",
   "execution_count": 11,
   "metadata": {},
   "outputs": [
    {
     "name": "stdout",
     "output_type": "stream",
     "text": [
      "GraphTensor(\n",
      "  node_feature=<tf.Tensor: shape=(5, 3), dtype=float32>,\n",
      "  edge_feature=<tf.Tensor: shape=(8, 2), dtype=float32>,\n",
      "  positional_encoding=<tf.Tensor: shape=(5, 16), dtype=float32>,\n",
      "  edge_dst=<tf.Tensor: shape=(8,), dtype=int32>,\n",
      "  edge_src=<tf.Tensor: shape=(8,), dtype=int32>,\n",
      "  graph_indicator=<tf.Tensor: shape=(5,), dtype=int32>)\n",
      "\n",
      "node_feature: tf.Tensor(\n",
      "[[1. 0. 0.]\n",
      " [1. 0. 0.]\n",
      " [0. 0. 1.]\n",
      " [0. 0. 1.]\n",
      " [0. 1. 0.]], shape=(5, 3), dtype=float32)\n",
      "\n",
      "edge_feature: tf.Tensor(\n",
      "[[0. 1.]\n",
      " [0. 1.]\n",
      " [0. 1.]\n",
      " [1. 0.]\n",
      " [0. 1.]\n",
      " [1. 0.]\n",
      " [0. 1.]\n",
      " [0. 1.]], shape=(8, 2), dtype=float32)\n",
      "\n",
      "edge_dst: tf.Tensor([0 0 1 1 1 2 3 4], shape=(8,), dtype=int32)\n",
      "\n",
      "edge_src: tf.Tensor([1 4 0 2 3 1 1 0], shape=(8,), dtype=int32)\n",
      "\n"
     ]
    }
   ],
   "source": [
    "print(graph_tensor[index], end='\\n\\n')\n",
    "print('node_feature:', graph_tensor[index].node_feature, end='\\n\\n')\n",
    "print('edge_feature:', graph_tensor[index].edge_feature, end='\\n\\n')\n",
    "print('edge_dst:', graph_tensor[index].edge_dst, end='\\n\\n')\n",
    "print('edge_src:', graph_tensor[index].edge_src, end='\\n\\n')"
   ]
  },
  {
   "cell_type": "markdown",
   "metadata": {},
   "source": [
    "#### Merge subgraphs into a single disjoint graph"
   ]
  },
  {
   "cell_type": "code",
   "execution_count": 12,
   "metadata": {
    "scrolled": false
   },
   "outputs": [
    {
     "name": "stdout",
     "output_type": "stream",
     "text": [
      "GraphTensor(\n",
      "  node_feature=<tf.Tensor: shape=(37, 3), dtype=float32>,\n",
      "  edge_feature=<tf.Tensor: shape=(76, 2), dtype=float32>,\n",
      "  positional_encoding=<tf.Tensor: shape=(37, 16), dtype=float32>,\n",
      "  edge_dst=<tf.Tensor: shape=(76,), dtype=int32>,\n",
      "  edge_src=<tf.Tensor: shape=(76,), dtype=int32>,\n",
      "  graph_indicator=<tf.Tensor: shape=(37,), dtype=int32>)\n",
      "\n",
      "node_feature: tf.Tensor(\n",
      "[[0. 0. 1.]\n",
      " [1. 0. 0.]\n",
      " [1. 0. 0.]\n",
      " [0. 0. 1.]\n",
      " [1. 0. 0.]\n",
      " [1. 0. 0.]\n",
      " [1. 0. 0.]\n",
      " [0. 0. 1.]\n",
      " [0. 0. 1.]\n",
      " [0. 1. 0.]\n",
      " [1. 0. 0.]\n",
      " [0. 1. 0.]\n",
      " [1. 0. 0.]\n",
      " [1. 0. 0.]\n",
      " [0. 1. 0.]\n",
      " [1. 0. 0.]\n",
      " [0. 1. 0.]\n",
      " [1. 0. 0.]\n",
      " [0. 1. 0.]\n",
      " [1. 0. 0.]\n",
      " [1. 0. 0.]\n",
      " [0. 0. 1.]\n",
      " [0. 0. 1.]\n",
      " [0. 1. 0.]\n",
      " [1. 0. 0.]\n",
      " [1. 0. 0.]\n",
      " [1. 0. 0.]\n",
      " [1. 0. 0.]\n",
      " [1. 0. 0.]\n",
      " [1. 0. 0.]\n",
      " [1. 0. 0.]\n",
      " [1. 0. 0.]\n",
      " [1. 0. 0.]\n",
      " [0. 0. 1.]\n",
      " [0. 0. 1.]\n",
      " [0. 1. 0.]\n",
      " [0. 0. 1.]], shape=(37, 3), dtype=float32)\n",
      "\n",
      "edge_feature: tf.Tensor(\n",
      "[[0. 1.]\n",
      " [0. 1.]\n",
      " [0. 1.]\n",
      " [0. 1.]\n",
      " [0. 1.]\n",
      " [0. 1.]\n",
      " [0. 1.]\n",
      " [0. 1.]\n",
      " [0. 1.]\n",
      " [0. 1.]\n",
      " [0. 1.]\n",
      " [0. 1.]\n",
      " [0. 1.]\n",
      " [0. 1.]\n",
      " [0. 1.]\n",
      " [0. 1.]\n",
      " [0. 1.]\n",
      " [0. 1.]\n",
      " [0. 1.]\n",
      " [0. 1.]\n",
      " [0. 0.]\n",
      " [0. 0.]\n",
      " [0. 0.]\n",
      " [0. 0.]\n",
      " [0. 0.]\n",
      " [0. 0.]\n",
      " [0. 0.]\n",
      " [0. 0.]\n",
      " [0. 0.]\n",
      " [0. 0.]\n",
      " [0. 0.]\n",
      " [0. 0.]\n",
      " [0. 0.]\n",
      " [0. 0.]\n",
      " [0. 0.]\n",
      " [0. 0.]\n",
      " [0. 0.]\n",
      " [0. 0.]\n",
      " [0. 0.]\n",
      " [0. 0.]\n",
      " [0. 1.]\n",
      " [0. 1.]\n",
      " [0. 1.]\n",
      " [0. 1.]\n",
      " [0. 1.]\n",
      " [1. 0.]\n",
      " [0. 1.]\n",
      " [1. 0.]\n",
      " [0. 1.]\n",
      " [0. 1.]\n",
      " [0. 0.]\n",
      " [0. 0.]\n",
      " [0. 0.]\n",
      " [0. 0.]\n",
      " [0. 0.]\n",
      " [0. 0.]\n",
      " [0. 1.]\n",
      " [0. 0.]\n",
      " [0. 0.]\n",
      " [0. 0.]\n",
      " [0. 0.]\n",
      " [0. 0.]\n",
      " [0. 0.]\n",
      " [0. 1.]\n",
      " [0. 1.]\n",
      " [0. 1.]\n",
      " [0. 1.]\n",
      " [0. 1.]\n",
      " [0. 1.]\n",
      " [0. 1.]\n",
      " [1. 0.]\n",
      " [0. 1.]\n",
      " [1. 0.]\n",
      " [0. 1.]\n",
      " [0. 1.]\n",
      " [0. 1.]], shape=(76, 2), dtype=float32)\n",
      "\n",
      "edge_dst: tf.Tensor(\n",
      "[ 0  1  1  2  2  2  3  3  4  4  4  5  5  5  6  6  6  7  8  9  9  9 10 10\n",
      " 11 11 12 12 12 13 13 13 14 14 15 15 16 16 17 17 17 18 19 19 20 20 20 21\n",
      " 22 23 24 24 25 25 26 26 26 27 27 28 28 29 29 29 30 30 31 31 31 32 32 32\n",
      " 33 34 35 36], shape=(76,), dtype=int32)\n",
      "\n",
      "edge_src: tf.Tensor(\n",
      "[ 1  0  2  1  3  6  2  4  3  5  9  4  6  8  2  5  7  6  5  4 10 13  9 11\n",
      " 10 12 11 13 17  9 12 14 13 15 14 16 15 17 12 16 18 17 20 23 19 21 22 20\n",
      " 20 19 25 29 24 26 25 27 36 26 28 27 29 24 28 30 29 31 30 32 35 31 33 34\n",
      " 32 32 31 26], shape=(76,), dtype=int32)\n",
      "\n",
      "graph_indicator: tf.Tensor([0 0 0 0 0 0 0 0 0 0 0 0 0 0 0 0 0 0 0 1 1 1 1 1 2 2 2 2 2 2 2 2 2 2 2 2 2], shape=(37,), dtype=int32)\n"
     ]
    }
   ],
   "source": [
    "graph_tensor = graph_tensor.merge()\n",
    "print(graph_tensor, end='\\n\\n')\n",
    "print('node_feature:', graph_tensor.node_feature, end='\\n\\n')\n",
    "print('edge_feature:', graph_tensor.edge_feature, end='\\n\\n')\n",
    "print('edge_dst:', graph_tensor.edge_dst, end='\\n\\n')\n",
    "print('edge_src:', graph_tensor.edge_src, end='\\n\\n')\n",
    "print('graph_indicator:', graph_tensor.graph_indicator)"
   ]
  },
  {
   "cell_type": "markdown",
   "metadata": {},
   "source": [
    "#### Separate the single disjoint graph into three subgraphs"
   ]
  },
  {
   "cell_type": "code",
   "execution_count": 13,
   "metadata": {
    "scrolled": false
   },
   "outputs": [
    {
     "name": "stdout",
     "output_type": "stream",
     "text": [
      "GraphTensor(\n",
      "  node_feature=<tf.RaggedTensor: shape=(3, None, 3), dtype=float32>,\n",
      "  edge_feature=<tf.RaggedTensor: shape=(3, None, 2), dtype=float32>,\n",
      "  positional_encoding=<tf.RaggedTensor: shape=(3, None, 16), dtype=float32>,\n",
      "  edge_dst=<tf.RaggedTensor: shape=(3, None), dtype=int32>,\n",
      "  edge_src=<tf.RaggedTensor: shape=(3, None), dtype=int32>)\n",
      "\n",
      "node_feature: <tf.RaggedTensor [[[0.0, 0.0, 1.0],\n",
      "  [1.0, 0.0, 0.0],\n",
      "  [1.0, 0.0, 0.0],\n",
      "  [0.0, 0.0, 1.0],\n",
      "  [1.0, 0.0, 0.0],\n",
      "  [1.0, 0.0, 0.0],\n",
      "  [1.0, 0.0, 0.0],\n",
      "  [0.0, 0.0, 1.0],\n",
      "  [0.0, 0.0, 1.0],\n",
      "  [0.0, 1.0, 0.0],\n",
      "  [1.0, 0.0, 0.0],\n",
      "  [0.0, 1.0, 0.0],\n",
      "  [1.0, 0.0, 0.0],\n",
      "  [1.0, 0.0, 0.0],\n",
      "  [0.0, 1.0, 0.0],\n",
      "  [1.0, 0.0, 0.0],\n",
      "  [0.0, 1.0, 0.0],\n",
      "  [1.0, 0.0, 0.0],\n",
      "  [0.0, 1.0, 0.0]], [[1.0, 0.0, 0.0],\n",
      "                     [1.0, 0.0, 0.0],\n",
      "                     [0.0, 0.0, 1.0],\n",
      "                     [0.0, 0.0, 1.0],\n",
      "                     [0.0, 1.0, 0.0]], [[1.0, 0.0, 0.0],\n",
      "                                        [1.0, 0.0, 0.0],\n",
      "                                        [1.0, 0.0, 0.0],\n",
      "                                        [1.0, 0.0, 0.0],\n",
      "                                        [1.0, 0.0, 0.0],\n",
      "                                        [1.0, 0.0, 0.0],\n",
      "                                        [1.0, 0.0, 0.0],\n",
      "                                        [1.0, 0.0, 0.0],\n",
      "                                        [1.0, 0.0, 0.0],\n",
      "                                        [0.0, 0.0, 1.0],\n",
      "                                        [0.0, 0.0, 1.0],\n",
      "                                        [0.0, 1.0, 0.0],\n",
      "                                        [0.0, 0.0, 1.0]]]>\n",
      "\n",
      "edge_feature: <tf.RaggedTensor [[[0.0, 1.0],\n",
      "  [0.0, 1.0],\n",
      "  [0.0, 1.0],\n",
      "  [0.0, 1.0],\n",
      "  [0.0, 1.0],\n",
      "  [0.0, 1.0],\n",
      "  [0.0, 1.0],\n",
      "  [0.0, 1.0],\n",
      "  [0.0, 1.0],\n",
      "  [0.0, 1.0],\n",
      "  [0.0, 1.0],\n",
      "  [0.0, 1.0],\n",
      "  [0.0, 1.0],\n",
      "  [0.0, 1.0],\n",
      "  [0.0, 1.0],\n",
      "  [0.0, 1.0],\n",
      "  [0.0, 1.0],\n",
      "  [0.0, 1.0],\n",
      "  [0.0, 1.0],\n",
      "  [0.0, 1.0],\n",
      "  [0.0, 0.0],\n",
      "  [0.0, 0.0],\n",
      "  [0.0, 0.0],\n",
      "  [0.0, 0.0],\n",
      "  [0.0, 0.0],\n",
      "  [0.0, 0.0],\n",
      "  [0.0, 0.0],\n",
      "  [0.0, 0.0],\n",
      "  [0.0, 0.0],\n",
      "  [0.0, 0.0],\n",
      "  [0.0, 0.0],\n",
      "  [0.0, 0.0],\n",
      "  [0.0, 0.0],\n",
      "  [0.0, 0.0],\n",
      "  [0.0, 0.0],\n",
      "  [0.0, 0.0],\n",
      "  [0.0, 0.0],\n",
      "  [0.0, 0.0],\n",
      "  [0.0, 0.0],\n",
      "  [0.0, 0.0],\n",
      "  [0.0, 1.0],\n",
      "  [0.0, 1.0]], [[0.0, 1.0],\n",
      "                [0.0, 1.0],\n",
      "                [0.0, 1.0],\n",
      "                [1.0, 0.0],\n",
      "                [0.0, 1.0],\n",
      "                [1.0, 0.0],\n",
      "                [0.0, 1.0],\n",
      "                [0.0, 1.0]], [[0.0, 0.0],\n",
      "                              [0.0, 0.0],\n",
      "                              [0.0, 0.0],\n",
      "                              [0.0, 0.0],\n",
      "                              [0.0, 0.0],\n",
      "                              [0.0, 0.0],\n",
      "                              [0.0, 1.0],\n",
      "                              [0.0, 0.0],\n",
      "                              [0.0, 0.0],\n",
      "                              [0.0, 0.0],\n",
      "                              [0.0, 0.0],\n",
      "                              [0.0, 0.0],\n",
      "                              [0.0, 0.0],\n",
      "                              [0.0, 1.0],\n",
      "                              [0.0, 1.0],\n",
      "                              [0.0, 1.0],\n",
      "                              [0.0, 1.0],\n",
      "                              [0.0, 1.0],\n",
      "                              [0.0, 1.0],\n",
      "                              [0.0, 1.0],\n",
      "                              [1.0, 0.0],\n",
      "                              [0.0, 1.0],\n",
      "                              [1.0, 0.0],\n",
      "                              [0.0, 1.0],\n",
      "                              [0.0, 1.0],\n",
      "                              [0.0, 1.0]]]>\n",
      "\n",
      "edge_dst: <tf.RaggedTensor [[0, 1, 1, 2, 2, 2, 3, 3, 4, 4, 4, 5, 5, 5, 6, 6, 6, 7, 8, 9, 9, 9, 10, 10,\n",
      "  11, 11, 12, 12, 12, 13, 13, 13, 14, 14, 15, 15, 16, 16, 17, 17, 17, 18]  ,\n",
      " [0, 0, 1, 1, 1, 2, 3, 4],\n",
      " [0, 0, 1, 1, 2, 2, 2, 3, 3, 4, 4, 5, 5, 5, 6, 6, 7, 7, 7, 8, 8, 8, 9, 10,\n",
      "  11, 12]                                                                 ]>\n",
      "\n",
      "edge_src: <tf.RaggedTensor [[1, 0, 2, 1, 3, 6, 2, 4, 3, 5, 9, 4, 6, 8, 2, 5, 7, 6, 5, 4, 10, 13, 9, 11,\n",
      "  10, 12, 11, 13, 17, 9, 12, 14, 13, 15, 14, 16, 15, 17, 12, 16, 18, 17]    ,\n",
      " [1, 4, 0, 2, 3, 1, 1, 0],\n",
      " [1, 5, 0, 2, 1, 3, 12, 2, 4, 3, 5, 0, 4, 6, 5, 7, 6, 8, 11, 7, 9, 10, 8, 8,\n",
      "  7, 2]                                                                     ]>\n",
      "\n"
     ]
    }
   ],
   "source": [
    "graph_tensor = graph_tensor.separate()\n",
    "print(graph_tensor, end='\\n\\n')\n",
    "print('node_feature:', graph_tensor.node_feature, end='\\n\\n')\n",
    "print('edge_feature:', graph_tensor.edge_feature, end='\\n\\n')\n",
    "print('edge_dst:', graph_tensor.edge_dst, end='\\n\\n')\n",
    "print('edge_src:', graph_tensor.edge_src, end='\\n\\n')"
   ]
  }
 ],
 "metadata": {
  "kernelspec": {
   "display_name": "Python 3",
   "language": "python",
   "name": "python3"
  },
  "language_info": {
   "codemirror_mode": {
    "name": "ipython",
    "version": 3
   },
   "file_extension": ".py",
   "mimetype": "text/x-python",
   "name": "python",
   "nbconvert_exporter": "python",
   "pygments_lexer": "ipython3",
   "version": "3.8.10"
  }
 },
 "nbformat": 4,
 "nbformat_minor": 4
}

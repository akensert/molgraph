{
 "cells": [
  {
   "attachments": {},
   "cell_type": "markdown",
   "metadata": {},
   "source": [
    "# Interpretability"
   ]
  },
  {
   "cell_type": "code",
   "execution_count": 10,
   "metadata": {},
   "outputs": [],
   "source": [
    "import tensorflow as tf\n",
    "tf.config.set_visible_devices([], 'GPU')\n",
    "\n",
    "import sys\n",
    "sys.path.append('../../../../')\n",
    "\n",
    "import numpy as np\n",
    "import pandas as pd\n",
    "\n",
    "from molgraph.chemistry import MolecularGraphEncoder\n",
    "from molgraph.chemistry import Featurizer\n",
    "from molgraph.chemistry import features\n",
    "\n",
    "from molgraph.models import GradientActivationMapping\n",
    "from molgraph.models import IntegratedSaliencyMapping\n",
    "\n",
    "np.set_printoptions(suppress=True)"
   ]
  },
  {
   "attachments": {},
   "cell_type": "markdown",
   "metadata": {},
   "source": [
    "Build a `MolecularGraphEncoder`"
   ]
  },
  {
   "cell_type": "code",
   "execution_count": 2,
   "metadata": {
    "scrolled": true
   },
   "outputs": [
    {
     "data": {
      "text/plain": [
       "MolecularGraphEncoder(atom_encoder=Featurizer(features=[Symbol(allowable_set=['[OOV:0]', 'C', 'N', 'O'], ordinal=False, oov_size=1), Hybridization(allowable_set=['[OOV:0]', 'SP', 'SP2', 'SP3'], ordinal=False, oov_size=1), HydrogenDonor(), HydrogenAcceptor(), Hetero()]), bond_encoder=Featurizer(features=[BondType(allowable_set=['AROMATIC', 'DOUBLE', 'SINGLE', 'TRIPLE'], ordinal=False, oov_size=0), Rotatable()]), positional_encoding_dim=None, self_loops=False)"
      ]
     },
     "execution_count": 2,
     "metadata": {},
     "output_type": "execute_result"
    }
   ],
   "source": [
    "atom_encoder = Featurizer([\n",
    "    features.Symbol({'C', 'N', 'O'}, oov_size=1),\n",
    "    features.Hybridization({'SP', 'SP2', 'SP3'}, oov_size=1),\n",
    "    features.HydrogenDonor(),\n",
    "    features.HydrogenAcceptor(),\n",
    "    features.Hetero()\n",
    "])\n",
    "\n",
    "bond_encoder = Featurizer([\n",
    "    features.BondType({'SINGLE', 'DOUBLE', 'TRIPLE', 'AROMATIC'}),\n",
    "    features.Rotatable()\n",
    "])\n",
    "\n",
    "mol_encoder = MolecularGraphEncoder(atom_encoder, bond_encoder, positional_encoding_dim=None)\n",
    "mol_encoder"
   ]
  },
  {
   "attachments": {},
   "cell_type": "markdown",
   "metadata": {},
   "source": [
    "Obtain dataset"
   ]
  },
  {
   "cell_type": "code",
   "execution_count": 3,
   "metadata": {},
   "outputs": [
    {
     "data": {
      "text/html": [
       "<div>\n",
       "<style scoped>\n",
       "    .dataframe tbody tr th:only-of-type {\n",
       "        vertical-align: middle;\n",
       "    }\n",
       "\n",
       "    .dataframe tbody tr th {\n",
       "        vertical-align: top;\n",
       "    }\n",
       "\n",
       "    .dataframe thead th {\n",
       "        text-align: right;\n",
       "    }\n",
       "</style>\n",
       "<table border=\"1\" class=\"dataframe\">\n",
       "  <thead>\n",
       "    <tr style=\"text-align: right;\">\n",
       "      <th></th>\n",
       "      <th>Compound ID</th>\n",
       "      <th>ESOL predicted log solubility in mols per litre</th>\n",
       "      <th>Minimum Degree</th>\n",
       "      <th>Molecular Weight</th>\n",
       "      <th>Number of H-Bond Donors</th>\n",
       "      <th>Number of Rings</th>\n",
       "      <th>Number of Rotatable Bonds</th>\n",
       "      <th>Polar Surface Area</th>\n",
       "      <th>measured log solubility in mols per litre</th>\n",
       "      <th>smiles</th>\n",
       "    </tr>\n",
       "  </thead>\n",
       "  <tbody>\n",
       "    <tr>\n",
       "      <th>0</th>\n",
       "      <td>Amigdalin</td>\n",
       "      <td>-0.974</td>\n",
       "      <td>1</td>\n",
       "      <td>457.432</td>\n",
       "      <td>7</td>\n",
       "      <td>3</td>\n",
       "      <td>7</td>\n",
       "      <td>202.32</td>\n",
       "      <td>-0.77</td>\n",
       "      <td>OCC3OC(OCC2OC(OC(C#N)c1ccccc1)C(O)C(O)C2O)C(O)...</td>\n",
       "    </tr>\n",
       "    <tr>\n",
       "      <th>1</th>\n",
       "      <td>Fenfuram</td>\n",
       "      <td>-2.885</td>\n",
       "      <td>1</td>\n",
       "      <td>201.225</td>\n",
       "      <td>1</td>\n",
       "      <td>2</td>\n",
       "      <td>2</td>\n",
       "      <td>42.24</td>\n",
       "      <td>-3.30</td>\n",
       "      <td>Cc1occc1C(=O)Nc2ccccc2</td>\n",
       "    </tr>\n",
       "    <tr>\n",
       "      <th>2</th>\n",
       "      <td>citral</td>\n",
       "      <td>-2.579</td>\n",
       "      <td>1</td>\n",
       "      <td>152.237</td>\n",
       "      <td>0</td>\n",
       "      <td>0</td>\n",
       "      <td>4</td>\n",
       "      <td>17.07</td>\n",
       "      <td>-2.06</td>\n",
       "      <td>CC(C)=CCCC(C)=CC(=O)</td>\n",
       "    </tr>\n",
       "  </tbody>\n",
       "</table>\n",
       "</div>"
      ],
      "text/plain": [
       "  Compound ID  ESOL predicted log solubility in mols per litre  \\\n",
       "0   Amigdalin                                           -0.974   \n",
       "1    Fenfuram                                           -2.885   \n",
       "2      citral                                           -2.579   \n",
       "\n",
       "   Minimum Degree  Molecular Weight  Number of H-Bond Donors  Number of Rings  \\\n",
       "0               1           457.432                        7                3   \n",
       "1               1           201.225                        1                2   \n",
       "2               1           152.237                        0                0   \n",
       "\n",
       "   Number of Rotatable Bonds  Polar Surface Area  \\\n",
       "0                          7              202.32   \n",
       "1                          2               42.24   \n",
       "2                          4               17.07   \n",
       "\n",
       "   measured log solubility in mols per litre  \\\n",
       "0                                      -0.77   \n",
       "1                                      -3.30   \n",
       "2                                      -2.06   \n",
       "\n",
       "                                              smiles  \n",
       "0  OCC3OC(OCC2OC(OC(C#N)c1ccccc1)C(O)C(O)C2O)C(O)...  \n",
       "1                             Cc1occc1C(=O)Nc2ccccc2  \n",
       "2                               CC(C)=CCCC(C)=CC(=O)  "
      ]
     },
     "execution_count": 3,
     "metadata": {},
     "output_type": "execute_result"
    }
   ],
   "source": [
    "path = tf.keras.utils.get_file(\n",
    "    fname='ESOL.csv',\n",
    "    origin='http://deepchem.io.s3-website-us-west-1.amazonaws.com/datasets/ESOL.csv',\n",
    ")\n",
    "df = pd.read_csv(path)\n",
    "df.head(3)"
   ]
  },
  {
   "attachments": {},
   "cell_type": "markdown",
   "metadata": {},
   "source": [
    "Obtain SMILES `x`and associated labels `y`"
   ]
  },
  {
   "cell_type": "code",
   "execution_count": 4,
   "metadata": {},
   "outputs": [],
   "source": [
    "x, y = df['smiles'].values, df['measured log solubility in mols per litre'].values"
   ]
  },
  {
   "attachments": {},
   "cell_type": "markdown",
   "metadata": {},
   "source": [
    "Obtain `GraphTensor` from `x`"
   ]
  },
  {
   "cell_type": "code",
   "execution_count": 5,
   "metadata": {},
   "outputs": [
    {
     "name": "stdout",
     "output_type": "stream",
     "text": [
      "GraphTensor(\n",
      "  node_feature=<tf.RaggedTensor: shape=(1128, None, 11), dtype=float32>,\n",
      "  edge_feature=<tf.RaggedTensor: shape=(1128, None, 5), dtype=float32>,\n",
      "  edge_dst=<tf.RaggedTensor: shape=(1128, None), dtype=int32>,\n",
      "  edge_src=<tf.RaggedTensor: shape=(1128, None), dtype=int32>)\n",
      "\n",
      "node_feature shape: (1128, None, 11)\n",
      "edge_dst shape:     (1128, None)\n",
      "edge_src shape:     (1128, None)\n",
      "edge_feature shape: (1128, None, 5)\n"
     ]
    }
   ],
   "source": [
    "x_data = mol_encoder(x)\n",
    "\n",
    "print(x_data, end='\\n\\n')\n",
    "print('node_feature shape:', x_data.node_feature.shape)\n",
    "print('edge_dst shape:    ', x_data.edge_dst.shape)\n",
    "print('edge_src shape:    ', x_data.edge_src.shape)\n",
    "print('edge_feature shape:', x_data.edge_feature.shape)"
   ]
  },
  {
   "attachments": {},
   "cell_type": "markdown",
   "metadata": {},
   "source": [
    "### 1. Build Keras GNN **model** with GNN **layers**"
   ]
  },
  {
   "cell_type": "code",
   "execution_count": 6,
   "metadata": {
    "scrolled": true
   },
   "outputs": [
    {
     "name": "stdout",
     "output_type": "stream",
     "text": [
      "Model: \"sequential\"\n",
      "_________________________________________________________________\n",
      " Layer (type)                Output Shape              Param #   \n",
      "=================================================================\n",
      " conv_1 (GCNConv)            (None, None, 128)         4864      \n",
      "                                                                 \n",
      " conv_2 (GCNConv)            (None, None, 128)         33408     \n",
      "                                                                 \n",
      " conv_3 (GCNConv)            (None, None, 128)         33408     \n",
      "                                                                 \n",
      " conv_4 (GCNConv)            (None, None, 128)         33408     \n",
      "                                                                 \n",
      " segment_pooling_readout (Se  (None, 128)              0         \n",
      " gmentPoolingReadout)                                            \n",
      "                                                                 \n",
      " dense (Dense)               (None, 512)               66048     \n",
      "                                                                 \n",
      " dense_1 (Dense)             (None, 1)                 513       \n",
      "                                                                 \n",
      "=================================================================\n",
      "Total params: 171,649\n",
      "Trainable params: 170,625\n",
      "Non-trainable params: 1,024\n",
      "_________________________________________________________________\n"
     ]
    }
   ],
   "source": [
    "from molgraph.layers import GCNConv, Readout\n",
    "\n",
    "sequential_model = tf.keras.Sequential([\n",
    "    tf.keras.layers.Input(type_spec=x_data.unspecific_spec),\n",
    "    GCNConv(128, name='conv_1'),\n",
    "    GCNConv(128, name='conv_2'),\n",
    "    GCNConv(128, name='conv_3'),\n",
    "    GCNConv(128, name='conv_4'),\n",
    "    Readout(),\n",
    "    tf.keras.layers.Dense(512, activation='relu'),\n",
    "    tf.keras.layers.Dense(1)\n",
    "])\n",
    "\n",
    "sequential_model.summary()"
   ]
  },
  {
   "attachments": {},
   "cell_type": "markdown",
   "metadata": {},
   "source": [
    "### 2. Compile and fit GNN **model**"
   ]
  },
  {
   "cell_type": "code",
   "execution_count": 7,
   "metadata": {
    "scrolled": true
   },
   "outputs": [
    {
     "name": "stdout",
     "output_type": "stream",
     "text": [
      "Epoch 1/50\n",
      "36/36 - 3s - loss: 3.8996 - mae: 1.5450 - 3s/epoch - 85ms/step\n",
      "Epoch 2/50\n",
      "36/36 - 0s - loss: 2.6890 - mae: 1.2891 - 241ms/epoch - 7ms/step\n",
      "Epoch 3/50\n",
      "36/36 - 0s - loss: 2.5547 - mae: 1.2707 - 226ms/epoch - 6ms/step\n",
      "Epoch 4/50\n",
      "36/36 - 0s - loss: 2.4460 - mae: 1.2374 - 222ms/epoch - 6ms/step\n",
      "Epoch 5/50\n",
      "36/36 - 0s - loss: 2.1149 - mae: 1.1418 - 225ms/epoch - 6ms/step\n",
      "Epoch 6/50\n",
      "36/36 - 0s - loss: 2.3772 - mae: 1.2076 - 217ms/epoch - 6ms/step\n",
      "Epoch 7/50\n",
      "36/36 - 0s - loss: 1.9591 - mae: 1.0898 - 220ms/epoch - 6ms/step\n",
      "Epoch 8/50\n",
      "36/36 - 0s - loss: 2.7852 - mae: 1.3201 - 225ms/epoch - 6ms/step\n",
      "Epoch 9/50\n",
      "36/36 - 0s - loss: 2.2484 - mae: 1.1662 - 223ms/epoch - 6ms/step\n",
      "Epoch 10/50\n",
      "36/36 - 0s - loss: 1.8862 - mae: 1.0639 - 215ms/epoch - 6ms/step\n",
      "Epoch 11/50\n",
      "36/36 - 0s - loss: 1.7942 - mae: 1.0374 - 218ms/epoch - 6ms/step\n",
      "Epoch 12/50\n",
      "36/36 - 0s - loss: 1.7751 - mae: 1.0200 - 216ms/epoch - 6ms/step\n",
      "Epoch 13/50\n",
      "36/36 - 0s - loss: 1.6849 - mae: 1.0091 - 216ms/epoch - 6ms/step\n",
      "Epoch 14/50\n",
      "36/36 - 0s - loss: 1.7239 - mae: 1.0035 - 218ms/epoch - 6ms/step\n",
      "Epoch 15/50\n",
      "36/36 - 0s - loss: 1.6185 - mae: 0.9717 - 224ms/epoch - 6ms/step\n",
      "Epoch 16/50\n",
      "36/36 - 0s - loss: 1.5518 - mae: 0.9634 - 216ms/epoch - 6ms/step\n",
      "Epoch 17/50\n",
      "36/36 - 0s - loss: 1.6219 - mae: 0.9802 - 228ms/epoch - 6ms/step\n",
      "Epoch 18/50\n",
      "36/36 - 0s - loss: 1.5982 - mae: 0.9532 - 220ms/epoch - 6ms/step\n",
      "Epoch 19/50\n",
      "36/36 - 0s - loss: 1.5378 - mae: 0.9557 - 235ms/epoch - 7ms/step\n",
      "Epoch 20/50\n",
      "36/36 - 0s - loss: 1.4945 - mae: 0.9258 - 233ms/epoch - 6ms/step\n",
      "Epoch 21/50\n",
      "36/36 - 0s - loss: 1.3320 - mae: 0.8723 - 244ms/epoch - 7ms/step\n",
      "Epoch 22/50\n",
      "36/36 - 0s - loss: 1.4493 - mae: 0.9054 - 224ms/epoch - 6ms/step\n",
      "Epoch 23/50\n",
      "36/36 - 0s - loss: 1.2856 - mae: 0.8540 - 217ms/epoch - 6ms/step\n",
      "Epoch 24/50\n",
      "36/36 - 0s - loss: 1.3113 - mae: 0.8618 - 217ms/epoch - 6ms/step\n",
      "Epoch 25/50\n",
      "36/36 - 0s - loss: 1.2488 - mae: 0.8507 - 218ms/epoch - 6ms/step\n",
      "Epoch 26/50\n",
      "36/36 - 0s - loss: 1.5614 - mae: 0.9349 - 218ms/epoch - 6ms/step\n",
      "Epoch 27/50\n",
      "36/36 - 0s - loss: 1.5822 - mae: 0.9343 - 226ms/epoch - 6ms/step\n",
      "Epoch 28/50\n",
      "36/36 - 0s - loss: 1.4468 - mae: 0.9218 - 222ms/epoch - 6ms/step\n",
      "Epoch 29/50\n",
      "36/36 - 0s - loss: 1.1978 - mae: 0.8250 - 224ms/epoch - 6ms/step\n",
      "Epoch 30/50\n",
      "36/36 - 0s - loss: 1.2274 - mae: 0.8232 - 246ms/epoch - 7ms/step\n",
      "Epoch 31/50\n",
      "36/36 - 0s - loss: 1.1999 - mae: 0.8338 - 237ms/epoch - 7ms/step\n",
      "Epoch 32/50\n",
      "36/36 - 0s - loss: 1.1090 - mae: 0.7957 - 228ms/epoch - 6ms/step\n",
      "Epoch 33/50\n",
      "36/36 - 0s - loss: 1.4516 - mae: 0.8873 - 219ms/epoch - 6ms/step\n",
      "Epoch 34/50\n",
      "36/36 - 0s - loss: 1.3167 - mae: 0.8746 - 226ms/epoch - 6ms/step\n",
      "Epoch 35/50\n",
      "36/36 - 0s - loss: 1.0232 - mae: 0.7580 - 216ms/epoch - 6ms/step\n",
      "Epoch 36/50\n",
      "36/36 - 0s - loss: 1.0434 - mae: 0.7692 - 238ms/epoch - 7ms/step\n",
      "Epoch 37/50\n",
      "36/36 - 0s - loss: 1.0968 - mae: 0.7937 - 228ms/epoch - 6ms/step\n",
      "Epoch 38/50\n",
      "36/36 - 0s - loss: 0.9096 - mae: 0.7264 - 239ms/epoch - 7ms/step\n",
      "Epoch 39/50\n",
      "36/36 - 0s - loss: 0.9949 - mae: 0.7276 - 226ms/epoch - 6ms/step\n",
      "Epoch 40/50\n",
      "36/36 - 0s - loss: 0.9213 - mae: 0.7090 - 224ms/epoch - 6ms/step\n",
      "Epoch 41/50\n",
      "36/36 - 0s - loss: 0.9018 - mae: 0.7022 - 279ms/epoch - 8ms/step\n",
      "Epoch 42/50\n",
      "36/36 - 0s - loss: 0.7830 - mae: 0.6656 - 262ms/epoch - 7ms/step\n",
      "Epoch 43/50\n",
      "36/36 - 0s - loss: 0.8501 - mae: 0.6985 - 261ms/epoch - 7ms/step\n",
      "Epoch 44/50\n",
      "36/36 - 0s - loss: 0.7993 - mae: 0.6824 - 257ms/epoch - 7ms/step\n",
      "Epoch 45/50\n",
      "36/36 - 0s - loss: 0.9356 - mae: 0.7377 - 253ms/epoch - 7ms/step\n",
      "Epoch 46/50\n",
      "36/36 - 0s - loss: 0.7970 - mae: 0.6709 - 209ms/epoch - 6ms/step\n",
      "Epoch 47/50\n",
      "36/36 - 0s - loss: 0.7049 - mae: 0.6194 - 207ms/epoch - 6ms/step\n",
      "Epoch 48/50\n",
      "36/36 - 0s - loss: 0.7104 - mae: 0.6344 - 208ms/epoch - 6ms/step\n",
      "Epoch 49/50\n",
      "36/36 - 0s - loss: 0.7951 - mae: 0.6705 - 208ms/epoch - 6ms/step\n",
      "Epoch 50/50\n",
      "36/36 - 0s - loss: 0.7428 - mae: 0.6577 - 207ms/epoch - 6ms/step\n"
     ]
    },
    {
     "data": {
      "text/plain": [
       "<keras.callbacks.History at 0x7fdeb5b652b0>"
      ]
     },
     "execution_count": 7,
     "metadata": {},
     "output_type": "execute_result"
    }
   ],
   "source": [
    "sequential_model.compile('adam', 'mse', ['mae'])\n",
    "sequential_model.fit(x_data, y, epochs=50, verbose=2)"
   ]
  },
  {
   "attachments": {},
   "cell_type": "markdown",
   "metadata": {},
   "source": [
    "### 3. Pass GNN **model** to **GradientActivationMapping** and **predict**"
   ]
  },
  {
   "cell_type": "code",
   "execution_count": 8,
   "metadata": {
    "scrolled": false
   },
   "outputs": [
    {
     "name": "stdout",
     "output_type": "stream",
     "text": [
      "36/36 [==============================] - 1s 5ms/step\n",
      "tf.Tensor(\n",
      "[ 0.00080404  0.00349265 -0.00073745 -0.00114003  0.00222298 -0.00110681\n",
      "  0.00172542 -0.00051465 -0.00109108  0.0022577  -0.0012464  -0.00169617\n",
      "  0.00099087  0.00015456 -0.00381815 -0.00107725 -0.00231006 -0.002596\n",
      " -0.00231006 -0.00107725  0.00089218  0.00013997  0.00078664  0.00009987\n",
      "  0.00120369  0.0001614   0.00089239  0.00013984  0.0007867   0.00009987\n",
      "  0.00117036  0.00016228], shape=(32,), dtype=float32)\n"
     ]
    }
   ],
   "source": [
    "gam_model = GradientActivationMapping(\n",
    "    sequential_model, \n",
    "    ['conv_1', 'conv_2', 'conv_3', 'conv_4'], \n",
    "    output_activation=None,\n",
    "    discard_negative_values=False,\n",
    ")    \n",
    "\n",
    "gam = gam_model(x_data, verbose=1)\n",
    "print(gam[0])"
   ]
  },
  {
   "attachments": {},
   "cell_type": "markdown",
   "metadata": {},
   "source": [
    "### 4. Visualize **maps** on molecule"
   ]
  },
  {
   "cell_type": "code",
   "execution_count": 9,
   "metadata": {
    "tags": [
     "nbsphinx-thumbnail"
    ]
   },
   "outputs": [
    {
     "data": {
      "image/png": "[encoded data removed]",
      "text/plain": [
       "<PIL.PngImagePlugin.PngImageFile image mode=RGB size=360x360 at 0x7FDEB5B65610>"
      ]
     },
     "execution_count": 9,
     "metadata": {},
     "output_type": "execute_result"
    }
   ],
   "source": [
    "from molgraph.chemistry import vis\n",
    "\n",
    "vis.visualize_maps(molecule=x[42], maps=gam[42])"
   ]
  }
 ],
 "metadata": {
  "kernelspec": {
   "display_name": "Python 3",
   "language": "python",
   "name": "python3"
  },
  "language_info": {
   "codemirror_mode": {
    "name": "ipython",
    "version": 3
   },
   "file_extension": ".py",
   "mimetype": "text/x-python",
   "name": "python",
   "nbconvert_exporter": "python",
   "pygments_lexer": "ipython3",
   "version": "3.8.10"
  }
 },
 "nbformat": 4,
 "nbformat_minor": 4
}

{
 "cells": [
  {
   "cell_type": "markdown",
   "metadata": {},
   "source": [
    "# Layers and models"
   ]
  },
  {
   "cell_type": "code",
   "execution_count": 19,
   "metadata": {},
   "outputs": [],
   "source": [
    "import tensorflow as tf\n",
    "tf.config.set_visible_devices([], 'GPU')\n",
    "\n",
    "import sys\n",
    "sys.path.append('../../../../')\n",
    "\n",
    "import numpy as np\n",
    "import pandas as pd\n",
    "\n",
    "from molgraph.chemistry import MolecularGraphEncoder\n",
    "from molgraph.chemistry import AtomicFeaturizer  \n",
    "from molgraph.chemistry import features"
   ]
  },
  {
   "cell_type": "markdown",
   "metadata": {},
   "source": [
    "Build a `MolecularGraphEncoder`"
   ]
  },
  {
   "cell_type": "code",
   "execution_count": 2,
   "metadata": {
    "scrolled": true
   },
   "outputs": [],
   "source": [
    "atom_encoder = AtomicFeaturizer([\n",
    "    features.Symbol({'C', 'N', 'O'}, oov_size=1),\n",
    "    features.Hybridization({'SP', 'SP2', 'SP3'}, oov_size=1),\n",
    "    features.HydrogenDonor(),\n",
    "    features.HydrogenAcceptor(),\n",
    "    features.Hetero()\n",
    "])\n",
    "\n",
    "bond_encoder = AtomicFeaturizer([\n",
    "    features.BondType({'SINGLE', 'DOUBLE', 'TRIPLE', 'AROMATIC'}),\n",
    "    features.Rotatable(),\n",
    "])\n",
    "\n",
    "encoder = MolecularGraphEncoder(atom_encoder, bond_encoder)"
   ]
  },
  {
   "cell_type": "markdown",
   "metadata": {},
   "source": [
    "Obtain dataset"
   ]
  },
  {
   "cell_type": "code",
   "execution_count": 3,
   "metadata": {},
   "outputs": [
    {
     "data": {
      "text/html": [
       "<div>\n",
       "<style scoped>\n",
       "    .dataframe tbody tr th:only-of-type {\n",
       "        vertical-align: middle;\n",
       "    }\n",
       "\n",
       "    .dataframe tbody tr th {\n",
       "        vertical-align: top;\n",
       "    }\n",
       "\n",
       "    .dataframe thead th {\n",
       "        text-align: right;\n",
       "    }\n",
       "</style>\n",
       "<table border=\"1\" class=\"dataframe\">\n",
       "  <thead>\n",
       "    <tr style=\"text-align: right;\">\n",
       "      <th></th>\n",
       "      <th>Compound ID</th>\n",
       "      <th>ESOL predicted log solubility in mols per litre</th>\n",
       "      <th>Minimum Degree</th>\n",
       "      <th>Molecular Weight</th>\n",
       "      <th>Number of H-Bond Donors</th>\n",
       "      <th>Number of Rings</th>\n",
       "      <th>Number of Rotatable Bonds</th>\n",
       "      <th>Polar Surface Area</th>\n",
       "      <th>measured log solubility in mols per litre</th>\n",
       "      <th>smiles</th>\n",
       "    </tr>\n",
       "  </thead>\n",
       "  <tbody>\n",
       "    <tr>\n",
       "      <th>0</th>\n",
       "      <td>Amigdalin</td>\n",
       "      <td>-0.974</td>\n",
       "      <td>1</td>\n",
       "      <td>457.432</td>\n",
       "      <td>7</td>\n",
       "      <td>3</td>\n",
       "      <td>7</td>\n",
       "      <td>202.32</td>\n",
       "      <td>-0.77</td>\n",
       "      <td>OCC3OC(OCC2OC(OC(C#N)c1ccccc1)C(O)C(O)C2O)C(O)...</td>\n",
       "    </tr>\n",
       "    <tr>\n",
       "      <th>1</th>\n",
       "      <td>Fenfuram</td>\n",
       "      <td>-2.885</td>\n",
       "      <td>1</td>\n",
       "      <td>201.225</td>\n",
       "      <td>1</td>\n",
       "      <td>2</td>\n",
       "      <td>2</td>\n",
       "      <td>42.24</td>\n",
       "      <td>-3.30</td>\n",
       "      <td>Cc1occc1C(=O)Nc2ccccc2</td>\n",
       "    </tr>\n",
       "    <tr>\n",
       "      <th>2</th>\n",
       "      <td>citral</td>\n",
       "      <td>-2.579</td>\n",
       "      <td>1</td>\n",
       "      <td>152.237</td>\n",
       "      <td>0</td>\n",
       "      <td>0</td>\n",
       "      <td>4</td>\n",
       "      <td>17.07</td>\n",
       "      <td>-2.06</td>\n",
       "      <td>CC(C)=CCCC(C)=CC(=O)</td>\n",
       "    </tr>\n",
       "  </tbody>\n",
       "</table>\n",
       "</div>"
      ],
      "text/plain": [
       "  Compound ID  ESOL predicted log solubility in mols per litre  \\\n",
       "0   Amigdalin                                           -0.974   \n",
       "1    Fenfuram                                           -2.885   \n",
       "2      citral                                           -2.579   \n",
       "\n",
       "   Minimum Degree  Molecular Weight  Number of H-Bond Donors  Number of Rings  \\\n",
       "0               1           457.432                        7                3   \n",
       "1               1           201.225                        1                2   \n",
       "2               1           152.237                        0                0   \n",
       "\n",
       "   Number of Rotatable Bonds  Polar Surface Area  \\\n",
       "0                          7              202.32   \n",
       "1                          2               42.24   \n",
       "2                          4               17.07   \n",
       "\n",
       "   measured log solubility in mols per litre  \\\n",
       "0                                      -0.77   \n",
       "1                                      -3.30   \n",
       "2                                      -2.06   \n",
       "\n",
       "                                              smiles  \n",
       "0  OCC3OC(OCC2OC(OC(C#N)c1ccccc1)C(O)C(O)C2O)C(O)...  \n",
       "1                             Cc1occc1C(=O)Nc2ccccc2  \n",
       "2                               CC(C)=CCCC(C)=CC(=O)  "
      ]
     },
     "execution_count": 3,
     "metadata": {},
     "output_type": "execute_result"
    }
   ],
   "source": [
    "path = tf.keras.utils.get_file(\n",
    "    fname='ESOL.csv',\n",
    "    origin='http://deepchem.io.s3-website-us-west-1.amazonaws.com/datasets/ESOL.csv',\n",
    ")\n",
    "df = pd.read_csv(path)\n",
    "df.head(3)"
   ]
  },
  {
   "cell_type": "markdown",
   "metadata": {},
   "source": [
    "Obtain SMILES `x`and associated labels `y`"
   ]
  },
  {
   "cell_type": "code",
   "execution_count": 4,
   "metadata": {},
   "outputs": [],
   "source": [
    "x, y = df['smiles'].values, df['measured log solubility in mols per litre'].values"
   ]
  },
  {
   "cell_type": "markdown",
   "metadata": {},
   "source": [
    "Obtain `GraphTensor` from `x`"
   ]
  },
  {
   "cell_type": "code",
   "execution_count": 5,
   "metadata": {},
   "outputs": [
    {
     "name": "stdout",
     "output_type": "stream",
     "text": [
      "GraphTensor(\n",
      "  node_feature=<tf.RaggedTensor: shape=(1128, None, 11), dtype=float32>,\n",
      "  edge_feature=<tf.RaggedTensor: shape=(1128, None, 5), dtype=float32>,\n",
      "  positional_encoding=<tf.RaggedTensor: shape=(1128, None, 16), dtype=float32>,\n",
      "  edge_dst=<tf.RaggedTensor: shape=(1128, None), dtype=int32>,\n",
      "  edge_src=<tf.RaggedTensor: shape=(1128, None), dtype=int32>)\n",
      "\n",
      "node_feature shape: (1128, None, 11)\n",
      "edge_dst shape:     (1128, None)\n",
      "edge_src shape:     (1128, None)\n",
      "edge_feature shape: (1128, None, 5)\n"
     ]
    }
   ],
   "source": [
    "x = encoder(x)\n",
    "\n",
    "print(x, end='\\n\\n')\n",
    "print('node_feature shape:', x.node_feature.shape)\n",
    "print('edge_dst shape:    ', x.edge_dst.shape)\n",
    "print('edge_src shape:    ', x.edge_src.shape)\n",
    "print('edge_feature shape:', x.edge_feature.shape)"
   ]
  },
  {
   "cell_type": "markdown",
   "metadata": {},
   "source": [
    "### 1. Import GNN **layers**"
   ]
  },
  {
   "cell_type": "code",
   "execution_count": 6,
   "metadata": {},
   "outputs": [],
   "source": [
    "from molgraph import layers"
   ]
  },
  {
   "cell_type": "markdown",
   "metadata": {},
   "source": [
    "### 2. Use GNN **layers**"
   ]
  },
  {
   "cell_type": "code",
   "execution_count": 7,
   "metadata": {},
   "outputs": [
    {
     "name": "stdout",
     "output_type": "stream",
     "text": [
      "GraphTensor(\n",
      "  node_feature=<tf.RaggedTensor: shape=(1128, None, 128), dtype=float32>,\n",
      "  edge_feature=<tf.RaggedTensor: shape=(1128, None, 128), dtype=float32>,\n",
      "  positional_encoding=<tf.RaggedTensor: shape=(1128, None, 16), dtype=float32>,\n",
      "  edge_dst=<tf.RaggedTensor: shape=(1128, None), dtype=int32>,\n",
      "  edge_src=<tf.RaggedTensor: shape=(1128, None), dtype=int32>)\n",
      "\n",
      "GraphTensor(\n",
      "  node_feature=<tf.Tensor: shape=(14991, 128), dtype=float32>,\n",
      "  edge_feature=<tf.Tensor: shape=(30856, 128), dtype=float32>,\n",
      "  positional_encoding=<tf.Tensor: shape=(14991, 16), dtype=float32>,\n",
      "  edge_dst=<tf.Tensor: shape=(30856,), dtype=int32>,\n",
      "  edge_src=<tf.Tensor: shape=(30856,), dtype=int32>,\n",
      "  graph_indicator=<tf.Tensor: shape=(14991,), dtype=int32>)\n",
      "True\n"
     ]
    }
   ],
   "source": [
    "layer = layers.GATConv(units=128, use_edge_features=True, num_heads=8)\n",
    "\n",
    "out1 = layer(x)                 # with nested ragged tensors\n",
    "out2 = layer(x.merge())         # with nested tensors\n",
    "\n",
    "print(out1)\n",
    "print()\n",
    "print(out2)\n",
    "\n",
    "print(tf.reduce_all(out1.node_feature.flat_values == out2.node_feature).numpy())"
   ]
  },
  {
   "cell_type": "markdown",
   "metadata": {},
   "source": [
    "### 3. Pass GNN **layers** to **Keras models**"
   ]
  },
  {
   "cell_type": "markdown",
   "metadata": {},
   "source": [
    "Split data into train/test"
   ]
  },
  {
   "cell_type": "code",
   "execution_count": 8,
   "metadata": {},
   "outputs": [],
   "source": [
    "random_indices = np.random.permutation(np.arange(x.shape[0]))\n",
    "\n",
    "x_train = x[random_indices[:800]]\n",
    "x_test = x[random_indices[800:]]\n",
    "\n",
    "y_train = y[random_indices[:800]]\n",
    "y_test = y[random_indices[800:]]"
   ]
  },
  {
   "cell_type": "markdown",
   "metadata": {},
   "source": [
    "#### Option 1: Keras Sequential API"
   ]
  },
  {
   "cell_type": "code",
   "execution_count": 9,
   "metadata": {},
   "outputs": [
    {
     "name": "stdout",
     "output_type": "stream",
     "text": [
      "Model: \"sequential\"\n",
      "_________________________________________________________________\n",
      " Layer (type)                Output Shape              Param #   \n",
      "=================================================================\n",
      " gcn_conv (GCNConv)          (None, None, 128)         4864      \n",
      "                                                                 \n",
      " gcn_conv_1 (GCNConv)        (None, None, 128)         33408     \n",
      "                                                                 \n",
      " gcn_conv_2 (GCNConv)        (None, None, 128)         33408     \n",
      "                                                                 \n",
      " segment_pooling_readout (Se  (None, 128)              0         \n",
      " gmentPoolingReadout)                                            \n",
      "                                                                 \n",
      " dense_2 (Dense)             (None, 512)               66048     \n",
      "                                                                 \n",
      " dense_3 (Dense)             (None, 1)                 513       \n",
      "                                                                 \n",
      "=================================================================\n",
      "Total params: 138,241\n",
      "Trainable params: 137,473\n",
      "Non-trainable params: 768\n",
      "_________________________________________________________________\n"
     ]
    }
   ],
   "source": [
    "sequential_model = tf.keras.Sequential([\n",
    "    tf.keras.layers.Input(type_spec=x_train.unspecific_spec),\n",
    "    layers.GCNConv(128),\n",
    "    layers.GCNConv(128),\n",
    "    layers.GCNConv(128),\n",
    "    layers.Readout(),\n",
    "    tf.keras.layers.Dense(512, activation='relu'),\n",
    "    tf.keras.layers.Dense(1)\n",
    "])\n",
    "\n",
    "sequential_model.summary()"
   ]
  },
  {
   "cell_type": "code",
   "execution_count": 10,
   "metadata": {
    "scrolled": true
   },
   "outputs": [
    {
     "name": "stdout",
     "output_type": "stream",
     "text": [
      "Epoch 1/30\n",
      "25/25 - 3s - loss: 4.4953 - mae: 1.6426 - 3s/epoch - 103ms/step\n",
      "Epoch 2/30\n",
      "25/25 - 0s - loss: 3.0353 - mae: 1.3670 - 128ms/epoch - 5ms/step\n",
      "Epoch 3/30\n",
      "25/25 - 0s - loss: 2.8768 - mae: 1.3528 - 119ms/epoch - 5ms/step\n",
      "Epoch 4/30\n",
      "25/25 - 0s - loss: 2.5055 - mae: 1.2527 - 123ms/epoch - 5ms/step\n",
      "Epoch 5/30\n",
      "25/25 - 0s - loss: 2.3613 - mae: 1.2110 - 120ms/epoch - 5ms/step\n",
      "Epoch 6/30\n",
      "25/25 - 0s - loss: 2.1772 - mae: 1.1744 - 119ms/epoch - 5ms/step\n",
      "Epoch 7/30\n",
      "25/25 - 0s - loss: 2.3577 - mae: 1.1773 - 121ms/epoch - 5ms/step\n",
      "Epoch 8/30\n",
      "25/25 - 0s - loss: 2.0798 - mae: 1.1381 - 123ms/epoch - 5ms/step\n",
      "Epoch 9/30\n",
      "25/25 - 0s - loss: 1.9485 - mae: 1.0943 - 120ms/epoch - 5ms/step\n",
      "Epoch 10/30\n",
      "25/25 - 0s - loss: 1.8490 - mae: 1.0455 - 124ms/epoch - 5ms/step\n",
      "Epoch 11/30\n",
      "25/25 - 0s - loss: 1.8505 - mae: 1.0587 - 121ms/epoch - 5ms/step\n",
      "Epoch 12/30\n",
      "25/25 - 0s - loss: 1.8531 - mae: 1.0516 - 122ms/epoch - 5ms/step\n",
      "Epoch 13/30\n",
      "25/25 - 0s - loss: 1.9914 - mae: 1.1119 - 124ms/epoch - 5ms/step\n",
      "Epoch 14/30\n",
      "25/25 - 0s - loss: 1.7154 - mae: 1.0134 - 123ms/epoch - 5ms/step\n",
      "Epoch 15/30\n",
      "25/25 - 0s - loss: 1.6130 - mae: 0.9853 - 118ms/epoch - 5ms/step\n",
      "Epoch 16/30\n",
      "25/25 - 0s - loss: 1.6531 - mae: 0.9963 - 121ms/epoch - 5ms/step\n",
      "Epoch 17/30\n",
      "25/25 - 0s - loss: 1.7273 - mae: 1.0153 - 120ms/epoch - 5ms/step\n",
      "Epoch 18/30\n",
      "25/25 - 0s - loss: 1.6212 - mae: 0.9941 - 127ms/epoch - 5ms/step\n",
      "Epoch 19/30\n",
      "25/25 - 0s - loss: 1.5641 - mae: 0.9438 - 125ms/epoch - 5ms/step\n",
      "Epoch 20/30\n",
      "25/25 - 0s - loss: 1.4419 - mae: 0.9124 - 123ms/epoch - 5ms/step\n",
      "Epoch 21/30\n",
      "25/25 - 0s - loss: 1.4140 - mae: 0.9132 - 119ms/epoch - 5ms/step\n",
      "Epoch 22/30\n",
      "25/25 - 0s - loss: 1.4512 - mae: 0.8958 - 122ms/epoch - 5ms/step\n",
      "Epoch 23/30\n",
      "25/25 - 0s - loss: 1.5132 - mae: 0.9511 - 123ms/epoch - 5ms/step\n",
      "Epoch 24/30\n",
      "25/25 - 0s - loss: 1.3983 - mae: 0.8912 - 126ms/epoch - 5ms/step\n",
      "Epoch 25/30\n",
      "25/25 - 0s - loss: 1.3486 - mae: 0.8873 - 120ms/epoch - 5ms/step\n",
      "Epoch 26/30\n",
      "25/25 - 0s - loss: 1.3392 - mae: 0.8933 - 120ms/epoch - 5ms/step\n",
      "Epoch 27/30\n",
      "25/25 - 0s - loss: 1.5158 - mae: 0.9755 - 119ms/epoch - 5ms/step\n",
      "Epoch 28/30\n",
      "25/25 - 0s - loss: 1.4084 - mae: 0.8969 - 118ms/epoch - 5ms/step\n",
      "Epoch 29/30\n",
      "25/25 - 0s - loss: 1.4370 - mae: 0.9048 - 118ms/epoch - 5ms/step\n",
      "Epoch 30/30\n",
      "25/25 - 0s - loss: 1.3861 - mae: 0.8994 - 119ms/epoch - 5ms/step\n",
      "11/11 [==============================] - 1s 2ms/step - loss: 1.7907 - mae: 0.9879\n",
      "mse = 1.791\n",
      "mae = 0.988\n"
     ]
    }
   ],
   "source": [
    "sequential_model.compile('adam', 'mse', ['mae'])\n",
    "sequential_model.fit(x_train, y_train, epochs=30, verbose=2)\n",
    "mse, mae = sequential_model.evaluate(x_test, y_test)\n",
    "print(f\"{mse = :.3f}\\n{mae = :.3f}\")"
   ]
  },
  {
   "cell_type": "markdown",
   "metadata": {},
   "source": [
    "#### Option 2: Keras Functional API"
   ]
  },
  {
   "cell_type": "code",
   "execution_count": 11,
   "metadata": {},
   "outputs": [
    {
     "name": "stdout",
     "output_type": "stream",
     "text": [
      "Model: \"model\"\n",
      "_________________________________________________________________\n",
      " Layer (type)                Output Shape              Param #   \n",
      "=================================================================\n",
      " input_2 (InputLayer)        [(None, 11)]              0         \n",
      "                                                                 \n",
      " gcn_conv_3 (GCNConv)        (None, 128)               4864      \n",
      "                                                                 \n",
      " gcn_conv_4 (GCNConv)        (None, 128)               33408     \n",
      "                                                                 \n",
      " gcn_conv_5 (GCNConv)        (None, 128)               33408     \n",
      "                                                                 \n",
      " segment_pooling_readout_1 (  (None, 128)              0         \n",
      " SegmentPoolingReadout)                                          \n",
      "                                                                 \n",
      " dense_4 (Dense)             (None, 512)               66048     \n",
      "                                                                 \n",
      " dense_5 (Dense)             (None, 1)                 513       \n",
      "                                                                 \n",
      "=================================================================\n",
      "Total params: 138,241\n",
      "Trainable params: 137,473\n",
      "Non-trainable params: 768\n",
      "_________________________________________________________________\n"
     ]
    }
   ],
   "source": [
    "inputs = tf.keras.layers.Input(type_spec=x_train.merge().unspecific_spec)\n",
    "x = layers.GCNConv(128)(inputs)\n",
    "x = layers.GCNConv(128)(x)\n",
    "x = layers.GCNConv(128)(x)\n",
    "x = layers.Readout()(x)\n",
    "x = tf.keras.layers.Dense(512, activation='relu')(x)\n",
    "x = tf.keras.layers.Dense(1)(x)\n",
    "functional_model = tf.keras.Model(inputs=inputs, outputs=x)\n",
    "functional_model.summary()"
   ]
  },
  {
   "cell_type": "code",
   "execution_count": 12,
   "metadata": {
    "scrolled": true
   },
   "outputs": [
    {
     "name": "stdout",
     "output_type": "stream",
     "text": [
      "Epoch 1/30\n",
      "25/25 - 3s - loss: 3.9455 - mae: 1.5561 - 3s/epoch - 107ms/step\n",
      "Epoch 2/30\n",
      "25/25 - 0s - loss: 2.7688 - mae: 1.3401 - 129ms/epoch - 5ms/step\n",
      "Epoch 3/30\n",
      "25/25 - 0s - loss: 2.4597 - mae: 1.2301 - 128ms/epoch - 5ms/step\n",
      "Epoch 4/30\n",
      "25/25 - 0s - loss: 2.3548 - mae: 1.2084 - 141ms/epoch - 6ms/step\n",
      "Epoch 5/30\n",
      "25/25 - 0s - loss: 2.0817 - mae: 1.1390 - 125ms/epoch - 5ms/step\n",
      "Epoch 6/30\n",
      "25/25 - 0s - loss: 2.1487 - mae: 1.1542 - 126ms/epoch - 5ms/step\n",
      "Epoch 7/30\n",
      "25/25 - 0s - loss: 2.1125 - mae: 1.1502 - 124ms/epoch - 5ms/step\n",
      "Epoch 8/30\n",
      "25/25 - 0s - loss: 2.0541 - mae: 1.1431 - 123ms/epoch - 5ms/step\n",
      "Epoch 9/30\n",
      "25/25 - 0s - loss: 2.2493 - mae: 1.1732 - 126ms/epoch - 5ms/step\n",
      "Epoch 10/30\n",
      "25/25 - 0s - loss: 2.1661 - mae: 1.1623 - 126ms/epoch - 5ms/step\n",
      "Epoch 11/30\n",
      "25/25 - 0s - loss: 1.8960 - mae: 1.0711 - 129ms/epoch - 5ms/step\n",
      "Epoch 12/30\n",
      "25/25 - 0s - loss: 1.9793 - mae: 1.1003 - 125ms/epoch - 5ms/step\n",
      "Epoch 13/30\n",
      "25/25 - 0s - loss: 1.8809 - mae: 1.0735 - 125ms/epoch - 5ms/step\n",
      "Epoch 14/30\n",
      "25/25 - 0s - loss: 1.8278 - mae: 1.0577 - 125ms/epoch - 5ms/step\n",
      "Epoch 15/30\n",
      "25/25 - 0s - loss: 1.6423 - mae: 0.9933 - 126ms/epoch - 5ms/step\n",
      "Epoch 16/30\n",
      "25/25 - 0s - loss: 1.8748 - mae: 1.0670 - 133ms/epoch - 5ms/step\n",
      "Epoch 17/30\n",
      "25/25 - 0s - loss: 1.8623 - mae: 1.0451 - 133ms/epoch - 5ms/step\n",
      "Epoch 18/30\n",
      "25/25 - 0s - loss: 1.6498 - mae: 0.9965 - 128ms/epoch - 5ms/step\n",
      "Epoch 19/30\n",
      "25/25 - 0s - loss: 1.5344 - mae: 0.9535 - 127ms/epoch - 5ms/step\n",
      "Epoch 20/30\n",
      "25/25 - 0s - loss: 1.4823 - mae: 0.9305 - 128ms/epoch - 5ms/step\n",
      "Epoch 21/30\n",
      "25/25 - 0s - loss: 1.4304 - mae: 0.9034 - 128ms/epoch - 5ms/step\n",
      "Epoch 22/30\n",
      "25/25 - 0s - loss: 1.4308 - mae: 0.8984 - 139ms/epoch - 6ms/step\n",
      "Epoch 23/30\n",
      "25/25 - 0s - loss: 1.5164 - mae: 0.9239 - 135ms/epoch - 5ms/step\n",
      "Epoch 24/30\n",
      "25/25 - 0s - loss: 1.4043 - mae: 0.8978 - 127ms/epoch - 5ms/step\n",
      "Epoch 25/30\n",
      "25/25 - 0s - loss: 1.3890 - mae: 0.8922 - 128ms/epoch - 5ms/step\n",
      "Epoch 26/30\n",
      "25/25 - 0s - loss: 1.4192 - mae: 0.8788 - 125ms/epoch - 5ms/step\n",
      "Epoch 27/30\n",
      "25/25 - 0s - loss: 1.4445 - mae: 0.9316 - 125ms/epoch - 5ms/step\n",
      "Epoch 28/30\n",
      "25/25 - 0s - loss: 1.4434 - mae: 0.9349 - 125ms/epoch - 5ms/step\n",
      "Epoch 29/30\n",
      "25/25 - 0s - loss: 1.6402 - mae: 0.9808 - 127ms/epoch - 5ms/step\n",
      "Epoch 30/30\n",
      "25/25 - 0s - loss: 1.4067 - mae: 0.9058 - 127ms/epoch - 5ms/step\n",
      "11/11 [==============================] - 1s 2ms/step - loss: 1.9930 - mae: 1.0597\n",
      "mse = 1.993\n",
      "mae = 1.060\n"
     ]
    }
   ],
   "source": [
    "functional_model.compile('adam', 'mse', ['mae'])\n",
    "functional_model.fit(x_train, y_train, epochs=30, verbose=2)\n",
    "mse, mae = functional_model.evaluate(x_test, y_test)\n",
    "print(f\"{mse = :.3f}\\n{mae = :.3f}\")"
   ]
  },
  {
   "cell_type": "markdown",
   "metadata": {},
   "source": [
    "#### Option 3: Keras Model subclassing\n",
    "\n",
    "Creating a custom Keras model allow for more flexibility. Let perform some random skip connections."
   ]
  },
  {
   "cell_type": "code",
   "execution_count": 13,
   "metadata": {},
   "outputs": [
    {
     "name": "stdout",
     "output_type": "stream",
     "text": [
      "Model: \"my_model\"\n",
      "_________________________________________________________________\n",
      " Layer (type)                Output Shape              Param #   \n",
      "=================================================================\n",
      " gcn_conv_6 (GCNConv)        multiple                  4864      \n",
      "                                                                 \n",
      " gcn_conv_7 (GCNConv)        multiple                  33408     \n",
      "                                                                 \n",
      " gcn_conv_8 (GCNConv)        multiple                  33408     \n",
      "                                                                 \n",
      " segment_pooling_readout_2 (  multiple                 0         \n",
      " SegmentPoolingReadout)                                          \n",
      "                                                                 \n",
      " dense_6 (Dense)             multiple                  197120    \n",
      "                                                                 \n",
      " dense_7 (Dense)             multiple                  513       \n",
      "                                                                 \n",
      "=================================================================\n",
      "Total params: 269,313\n",
      "Trainable params: 268,545\n",
      "Non-trainable params: 768\n",
      "_________________________________________________________________\n"
     ]
    }
   ],
   "source": [
    "class MyModel(tf.keras.Model):\n",
    "    def __init__(self, gnn_units=128, dense_units=512):\n",
    "        super().__init__()\n",
    "        self.gcn_1 = layers.GCNConv(gnn_units)\n",
    "        self.gcn_2 = layers.GCNConv(gnn_units)\n",
    "        self.gcn_3 = layers.GCNConv(gnn_units)\n",
    "        self.readout = layers.Readout()\n",
    "        self.dense_1 = tf.keras.layers.Dense(512, activation='relu')\n",
    "        self.dense_2 = tf.keras.layers.Dense(1)\n",
    "    \n",
    "    def call(self, inputs):\n",
    "        x0 = inputs\n",
    "        x1 = self.gcn_1(x0)\n",
    "        x2 = self.gcn_2(x1)\n",
    "        x3 = self.gcn_3(x2)\n",
    "        x1 = self.readout(x1)\n",
    "        x2 = self.readout(x2)\n",
    "        x3 = self.readout(x3)\n",
    "        x = tf.concat([x1, x2, x3], axis=1)\n",
    "        x = self.dense_1(x)\n",
    "        return self.dense_2(x)\n",
    "        \n",
    "        \n",
    "my_model = MyModel()\n",
    "\n",
    "my_model(x_train) # build\n",
    "\n",
    "my_model.summary()"
   ]
  },
  {
   "cell_type": "code",
   "execution_count": 14,
   "metadata": {
    "scrolled": true
   },
   "outputs": [
    {
     "name": "stdout",
     "output_type": "stream",
     "text": [
      "Epoch 1/30\n",
      "25/25 - 4s - loss: 4.0644 - mae: 1.5953 - 4s/epoch - 147ms/step\n",
      "Epoch 2/30\n",
      "25/25 - 0s - loss: 2.8485 - mae: 1.3575 - 176ms/epoch - 7ms/step\n",
      "Epoch 3/30\n",
      "25/25 - 0s - loss: 2.4925 - mae: 1.2698 - 183ms/epoch - 7ms/step\n",
      "Epoch 4/30\n",
      "25/25 - 0s - loss: 2.4077 - mae: 1.2483 - 171ms/epoch - 7ms/step\n",
      "Epoch 5/30\n",
      "25/25 - 0s - loss: 2.3291 - mae: 1.2062 - 181ms/epoch - 7ms/step\n",
      "Epoch 6/30\n",
      "25/25 - 0s - loss: 2.2831 - mae: 1.2032 - 183ms/epoch - 7ms/step\n",
      "Epoch 7/30\n",
      "25/25 - 0s - loss: 2.7072 - mae: 1.2954 - 168ms/epoch - 7ms/step\n",
      "Epoch 8/30\n",
      "25/25 - 0s - loss: 2.2933 - mae: 1.1982 - 172ms/epoch - 7ms/step\n",
      "Epoch 9/30\n",
      "25/25 - 0s - loss: 1.9354 - mae: 1.0868 - 167ms/epoch - 7ms/step\n",
      "Epoch 10/30\n",
      "25/25 - 0s - loss: 1.9585 - mae: 1.0973 - 175ms/epoch - 7ms/step\n",
      "Epoch 11/30\n",
      "25/25 - 0s - loss: 1.8111 - mae: 1.0287 - 170ms/epoch - 7ms/step\n",
      "Epoch 12/30\n",
      "25/25 - 0s - loss: 1.9599 - mae: 1.1021 - 168ms/epoch - 7ms/step\n",
      "Epoch 13/30\n",
      "25/25 - 0s - loss: 1.7467 - mae: 1.0086 - 168ms/epoch - 7ms/step\n",
      "Epoch 14/30\n",
      "25/25 - 0s - loss: 1.7178 - mae: 1.0136 - 167ms/epoch - 7ms/step\n",
      "Epoch 15/30\n",
      "25/25 - 0s - loss: 1.7861 - mae: 1.0317 - 166ms/epoch - 7ms/step\n",
      "Epoch 16/30\n",
      "25/25 - 0s - loss: 1.5694 - mae: 0.9696 - 167ms/epoch - 7ms/step\n",
      "Epoch 17/30\n",
      "25/25 - 0s - loss: 1.6021 - mae: 0.9916 - 171ms/epoch - 7ms/step\n",
      "Epoch 18/30\n",
      "25/25 - 0s - loss: 1.4393 - mae: 0.9218 - 172ms/epoch - 7ms/step\n",
      "Epoch 19/30\n",
      "25/25 - 0s - loss: 1.7337 - mae: 1.0256 - 172ms/epoch - 7ms/step\n",
      "Epoch 20/30\n",
      "25/25 - 0s - loss: 1.6941 - mae: 1.0204 - 176ms/epoch - 7ms/step\n",
      "Epoch 21/30\n",
      "25/25 - 0s - loss: 1.7213 - mae: 1.0315 - 180ms/epoch - 7ms/step\n",
      "Epoch 22/30\n",
      "25/25 - 0s - loss: 1.6070 - mae: 0.9488 - 182ms/epoch - 7ms/step\n",
      "Epoch 23/30\n",
      "25/25 - 0s - loss: 1.4253 - mae: 0.8981 - 166ms/epoch - 7ms/step\n",
      "Epoch 24/30\n",
      "25/25 - 0s - loss: 1.3199 - mae: 0.8707 - 163ms/epoch - 7ms/step\n",
      "Epoch 25/30\n",
      "25/25 - 0s - loss: 1.4381 - mae: 0.9212 - 181ms/epoch - 7ms/step\n",
      "Epoch 26/30\n",
      "25/25 - 0s - loss: 1.3216 - mae: 0.8763 - 187ms/epoch - 7ms/step\n",
      "Epoch 27/30\n",
      "25/25 - 0s - loss: 1.3447 - mae: 0.8828 - 176ms/epoch - 7ms/step\n",
      "Epoch 28/30\n",
      "25/25 - 0s - loss: 1.4370 - mae: 0.9320 - 165ms/epoch - 7ms/step\n",
      "Epoch 29/30\n",
      "25/25 - 0s - loss: 1.3555 - mae: 0.8824 - 168ms/epoch - 7ms/step\n",
      "Epoch 30/30\n",
      "25/25 - 0s - loss: 1.3148 - mae: 0.8597 - 184ms/epoch - 7ms/step\n",
      "11/11 [==============================] - 1s 4ms/step - loss: 1.8458 - mae: 1.0247\n",
      "mse = 1.846\n",
      "mae = 1.025\n"
     ]
    }
   ],
   "source": [
    "my_model.compile('adam', 'mse', ['mae'])\n",
    "my_model.fit(x_train, y_train, epochs=30, verbose=2)\n",
    "mse, mae = my_model.evaluate(x_test, y_test)\n",
    "print(f\"{mse = :.3f}\\n{mae = :.3f}\")"
   ]
  },
  {
   "cell_type": "markdown",
   "metadata": {},
   "source": [
    "#### Model with **tf.data.Dataset**"
   ]
  },
  {
   "cell_type": "code",
   "execution_count": 15,
   "metadata": {},
   "outputs": [],
   "source": [
    "ds_train = tf.data.Dataset.from_tensor_slices((x_train, y_train))\n",
    "ds_train = ds_train.shuffle(800).batch(32).map(lambda x, y: (x.merge(), y))\n",
    "\n",
    "ds_test = tf.data.Dataset.from_tensor_slices((x_test, y_test))\n",
    "ds_test = ds_test.batch(32).map(lambda x, y: (x.merge(), y))\n"
   ]
  },
  {
   "cell_type": "code",
   "execution_count": 16,
   "metadata": {
    "scrolled": true
   },
   "outputs": [
    {
     "name": "stdout",
     "output_type": "stream",
     "text": [
      "Epoch 1/30\n",
      "25/25 - 2s - loss: 1.4973 - mae: 0.9581 - 2s/epoch - 92ms/step\n",
      "Epoch 2/30\n",
      "25/25 - 0s - loss: 1.7527 - mae: 1.0288 - 127ms/epoch - 5ms/step\n",
      "Epoch 3/30\n",
      "25/25 - 0s - loss: 1.3780 - mae: 0.9172 - 122ms/epoch - 5ms/step\n",
      "Epoch 4/30\n",
      "25/25 - 0s - loss: 1.2464 - mae: 0.8541 - 121ms/epoch - 5ms/step\n",
      "Epoch 5/30\n",
      "25/25 - 0s - loss: 1.1977 - mae: 0.8308 - 133ms/epoch - 5ms/step\n",
      "Epoch 6/30\n",
      "25/25 - 0s - loss: 1.2341 - mae: 0.8311 - 127ms/epoch - 5ms/step\n",
      "Epoch 7/30\n",
      "25/25 - 0s - loss: 1.2191 - mae: 0.8186 - 126ms/epoch - 5ms/step\n",
      "Epoch 8/30\n",
      "25/25 - 0s - loss: 1.1950 - mae: 0.8306 - 118ms/epoch - 5ms/step\n",
      "Epoch 9/30\n",
      "25/25 - 0s - loss: 1.2009 - mae: 0.8250 - 119ms/epoch - 5ms/step\n",
      "Epoch 10/30\n",
      "25/25 - 0s - loss: 1.0612 - mae: 0.7840 - 120ms/epoch - 5ms/step\n",
      "Epoch 11/30\n",
      "25/25 - 0s - loss: 1.0162 - mae: 0.7536 - 158ms/epoch - 6ms/step\n",
      "Epoch 12/30\n",
      "25/25 - 0s - loss: 1.0022 - mae: 0.7566 - 124ms/epoch - 5ms/step\n",
      "Epoch 13/30\n",
      "25/25 - 0s - loss: 1.1602 - mae: 0.8083 - 119ms/epoch - 5ms/step\n",
      "Epoch 14/30\n",
      "25/25 - 0s - loss: 0.9963 - mae: 0.7563 - 111ms/epoch - 4ms/step\n",
      "Epoch 15/30\n",
      "25/25 - 0s - loss: 0.8420 - mae: 0.6826 - 116ms/epoch - 5ms/step\n",
      "Epoch 16/30\n",
      "25/25 - 0s - loss: 1.1076 - mae: 0.7951 - 117ms/epoch - 5ms/step\n",
      "Epoch 17/30\n",
      "25/25 - 0s - loss: 0.9628 - mae: 0.7317 - 111ms/epoch - 4ms/step\n",
      "Epoch 18/30\n",
      "25/25 - 0s - loss: 0.8892 - mae: 0.6943 - 111ms/epoch - 4ms/step\n",
      "Epoch 19/30\n",
      "25/25 - 0s - loss: 0.9093 - mae: 0.7115 - 114ms/epoch - 5ms/step\n",
      "Epoch 20/30\n",
      "25/25 - 0s - loss: 0.8884 - mae: 0.7027 - 111ms/epoch - 4ms/step\n",
      "Epoch 21/30\n",
      "25/25 - 0s - loss: 0.8507 - mae: 0.6883 - 111ms/epoch - 4ms/step\n",
      "Epoch 22/30\n",
      "25/25 - 0s - loss: 0.8767 - mae: 0.7028 - 112ms/epoch - 4ms/step\n",
      "Epoch 23/30\n",
      "25/25 - 0s - loss: 0.7760 - mae: 0.6588 - 111ms/epoch - 4ms/step\n",
      "Epoch 24/30\n",
      "25/25 - 0s - loss: 0.7827 - mae: 0.6576 - 111ms/epoch - 4ms/step\n",
      "Epoch 25/30\n",
      "25/25 - 0s - loss: 0.7767 - mae: 0.6570 - 112ms/epoch - 4ms/step\n",
      "Epoch 26/30\n",
      "25/25 - 0s - loss: 0.8053 - mae: 0.6682 - 112ms/epoch - 4ms/step\n",
      "Epoch 27/30\n",
      "25/25 - 0s - loss: 0.7075 - mae: 0.6271 - 111ms/epoch - 4ms/step\n",
      "Epoch 28/30\n",
      "25/25 - 0s - loss: 0.7821 - mae: 0.6808 - 111ms/epoch - 4ms/step\n",
      "Epoch 29/30\n",
      "25/25 - 0s - loss: 0.9246 - mae: 0.7310 - 113ms/epoch - 5ms/step\n",
      "Epoch 30/30\n",
      "25/25 - 0s - loss: 0.7162 - mae: 0.6456 - 111ms/epoch - 4ms/step\n",
      "11/11 [==============================] - 1s 2ms/step - loss: 1.7932 - mae: 0.9552\n",
      "mse = 1.793\n",
      "mae = 0.955\n"
     ]
    }
   ],
   "source": [
    "sequential_model.compile('adam', 'mse', ['mae'])\n",
    "sequential_model.fit(ds_train, epochs=30, verbose=2)\n",
    "mse, mae = sequential_model.evaluate(x_test, y_test)\n",
    "print(f\"{mse = :.3f}\\n{mae = :.3f}\")"
   ]
  },
  {
   "cell_type": "markdown",
   "metadata": {},
   "source": [
    "### 4. Save and load GNN **model** with **tf.saved_model**"
   ]
  },
  {
   "cell_type": "code",
   "execution_count": 17,
   "metadata": {},
   "outputs": [
    {
     "name": "stderr",
     "output_type": "stream",
     "text": [
      "Function `_wrapped_model` contains input name(s) args_0 with unsupported characters which will be renamed to args_0_9 in the SavedModel.\n",
      "Found untraced functions such as dense_layer_call_fn, dense_layer_call_and_return_conditional_losses, dense_1_layer_call_fn, dense_1_layer_call_and_return_conditional_losses, dense_layer_call_fn while saving (showing 5 of 8). These functions will not be directly callable after loading.\n"
     ]
    },
    {
     "name": "stdout",
     "output_type": "stream",
     "text": [
      "INFO:tensorflow:Assets written to: /tmp/tmpojsh4k70/assets\n"
     ]
    },
    {
     "name": "stderr",
     "output_type": "stream",
     "text": [
      "/home/alex/Envs/dl/lib/python3.8/site-packages/tensorflow/python/saved_model/nested_structure_coder.py:522: UserWarning: Encoding a StructuredValue with type molgraph.tensors.graph_tensor.GraphTensorSpec; loading this StructuredValue will require that this type be imported and registered.\n",
      "  warnings.warn(\"Encoding a StructuredValue with type %s; loading this \"\n",
      "Assets written to: /tmp/tmpojsh4k70/assets\n"
     ]
    },
    {
     "name": "stdout",
     "output_type": "stream",
     "text": [
      "(800, 1)\n"
     ]
    }
   ],
   "source": [
    "import tempfile\n",
    "import shutil\n",
    "\n",
    "file = tempfile.NamedTemporaryFile()\n",
    "filename = file.name\n",
    "file.close()\n",
    "\n",
    "tf.saved_model.save(sequential_model, filename)\n",
    "loaded_model = tf.saved_model.load(filename)\n",
    "\n",
    "print(loaded_model(x_train).shape)\n",
    "\n",
    "shutil.rmtree(filename)"
   ]
  },
  {
   "cell_type": "markdown",
   "metadata": {},
   "source": [
    "### 5. Save and load GNN **model** with **Keras**"
   ]
  },
  {
   "cell_type": "code",
   "execution_count": 18,
   "metadata": {},
   "outputs": [
    {
     "name": "stderr",
     "output_type": "stream",
     "text": [
      "Function `_wrapped_model` contains input name(s) args_0 with unsupported characters which will be renamed to args_0_9 in the SavedModel.\n",
      "Found untraced functions such as dense_layer_call_fn, dense_layer_call_and_return_conditional_losses, dense_1_layer_call_fn, dense_1_layer_call_and_return_conditional_losses, dense_layer_call_fn while saving (showing 5 of 8). These functions will not be directly callable after loading.\n"
     ]
    },
    {
     "name": "stdout",
     "output_type": "stream",
     "text": [
      "INFO:tensorflow:Assets written to: /tmp/tmpdbyfgh03/assets\n"
     ]
    },
    {
     "name": "stderr",
     "output_type": "stream",
     "text": [
      "/home/alex/Envs/dl/lib/python3.8/site-packages/tensorflow/python/saved_model/nested_structure_coder.py:522: UserWarning: Encoding a StructuredValue with type molgraph.tensors.graph_tensor.GraphTensorSpec; loading this StructuredValue will require that this type be imported and registered.\n",
      "  warnings.warn(\"Encoding a StructuredValue with type %s; loading this \"\n",
      "Assets written to: /tmp/tmpdbyfgh03/assets\n"
     ]
    },
    {
     "name": "stdout",
     "output_type": "stream",
     "text": [
      "25/25 [==============================] - 2s 5ms/step - loss: 0.9419 - mae: 0.7305\n"
     ]
    }
   ],
   "source": [
    "import tempfile\n",
    "import shutil\n",
    "\n",
    "file = tempfile.NamedTemporaryFile()\n",
    "filename = file.name\n",
    "file.close()\n",
    "\n",
    "sequential_model.save(filename)\n",
    "loaded_model = tf.keras.models.load_model(filename)\n",
    "\n",
    "loaded_model.fit(ds_train, epochs=1)\n",
    "\n",
    "shutil.rmtree(filename)"
   ]
  }
 ],
 "metadata": {
  "kernelspec": {
   "display_name": "Python 3",
   "language": "python",
   "name": "python3"
  },
  "language_info": {
   "codemirror_mode": {
    "name": "ipython",
    "version": 3
   },
   "file_extension": ".py",
   "mimetype": "text/x-python",
   "name": "python",
   "nbconvert_exporter": "python",
   "pygments_lexer": "ipython3",
   "version": "3.8.10"
  }
 },
 "nbformat": 4,
 "nbformat_minor": 4
}

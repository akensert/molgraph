{
 "cells": [
  {
   "cell_type": "markdown",
   "metadata": {},
   "source": [
    "# Layers and models"
   ]
  },
  {
   "cell_type": "code",
   "execution_count": 19,
   "metadata": {},
   "outputs": [],
   "source": [
    "import tensorflow as tf\n",
    "tf.config.set_visible_devices([], 'GPU')\n",
    "\n",
    "import sys\n",
    "sys.path.append('../../../../')\n",
    "\n",
    "import numpy as np\n",
    "import pandas as pd\n",
    "\n",
    "from molgraph.chemistry import MolecularGraphEncoder\n",
    "from molgraph.chemistry import Featurizer  \n",
    "from molgraph.chemistry import features"
   ]
  },
  {
   "cell_type": "markdown",
   "metadata": {},
   "source": [
    "Build a `MolecularGraphEncoder`"
   ]
  },
  {
   "cell_type": "code",
   "execution_count": 2,
   "metadata": {
    "scrolled": true
   },
   "outputs": [],
   "source": [
    "atom_encoder = Featurizer([\n",
    "    features.Symbol({'C', 'N', 'O'}, oov_size=1),\n",
    "    features.Hybridization({'SP', 'SP2', 'SP3'}, oov_size=1),\n",
    "    features.HydrogenDonor(),\n",
    "    features.HydrogenAcceptor(),\n",
    "    features.Hetero()\n",
    "])\n",
    "\n",
    "bond_encoder = Featurizer([\n",
    "    features.BondType({'SINGLE', 'DOUBLE', 'TRIPLE', 'AROMATIC'}),\n",
    "    features.Rotatable(),\n",
    "])\n",
    "\n",
    "encoder = MolecularGraphEncoder(atom_encoder, bond_encoder)"
   ]
  },
  {
   "cell_type": "markdown",
   "metadata": {},
   "source": [
    "Obtain dataset"
   ]
  },
  {
   "cell_type": "code",
   "execution_count": 3,
   "metadata": {},
   "outputs": [
    {
     "data": {
      "text/html": [
       "<div>\n",
       "<style scoped>\n",
       "    .dataframe tbody tr th:only-of-type {\n",
       "        vertical-align: middle;\n",
       "    }\n",
       "\n",
       "    .dataframe tbody tr th {\n",
       "        vertical-align: top;\n",
       "    }\n",
       "\n",
       "    .dataframe thead th {\n",
       "        text-align: right;\n",
       "    }\n",
       "</style>\n",
       "<table border=\"1\" class=\"dataframe\">\n",
       "  <thead>\n",
       "    <tr style=\"text-align: right;\">\n",
       "      <th></th>\n",
       "      <th>Compound ID</th>\n",
       "      <th>ESOL predicted log solubility in mols per litre</th>\n",
       "      <th>Minimum Degree</th>\n",
       "      <th>Molecular Weight</th>\n",
       "      <th>Number of H-Bond Donors</th>\n",
       "      <th>Number of Rings</th>\n",
       "      <th>Number of Rotatable Bonds</th>\n",
       "      <th>Polar Surface Area</th>\n",
       "      <th>measured log solubility in mols per litre</th>\n",
       "      <th>smiles</th>\n",
       "    </tr>\n",
       "  </thead>\n",
       "  <tbody>\n",
       "    <tr>\n",
       "      <th>0</th>\n",
       "      <td>Amigdalin</td>\n",
       "      <td>-0.974</td>\n",
       "      <td>1</td>\n",
       "      <td>457.432</td>\n",
       "      <td>7</td>\n",
       "      <td>3</td>\n",
       "      <td>7</td>\n",
       "      <td>202.32</td>\n",
       "      <td>-0.77</td>\n",
       "      <td>OCC3OC(OCC2OC(OC(C#N)c1ccccc1)C(O)C(O)C2O)C(O)...</td>\n",
       "    </tr>\n",
       "    <tr>\n",
       "      <th>1</th>\n",
       "      <td>Fenfuram</td>\n",
       "      <td>-2.885</td>\n",
       "      <td>1</td>\n",
       "      <td>201.225</td>\n",
       "      <td>1</td>\n",
       "      <td>2</td>\n",
       "      <td>2</td>\n",
       "      <td>42.24</td>\n",
       "      <td>-3.30</td>\n",
       "      <td>Cc1occc1C(=O)Nc2ccccc2</td>\n",
       "    </tr>\n",
       "    <tr>\n",
       "      <th>2</th>\n",
       "      <td>citral</td>\n",
       "      <td>-2.579</td>\n",
       "      <td>1</td>\n",
       "      <td>152.237</td>\n",
       "      <td>0</td>\n",
       "      <td>0</td>\n",
       "      <td>4</td>\n",
       "      <td>17.07</td>\n",
       "      <td>-2.06</td>\n",
       "      <td>CC(C)=CCCC(C)=CC(=O)</td>\n",
       "    </tr>\n",
       "  </tbody>\n",
       "</table>\n",
       "</div>"
      ],
      "text/plain": [
       "  Compound ID  ESOL predicted log solubility in mols per litre  \\\n",
       "0   Amigdalin                                           -0.974   \n",
       "1    Fenfuram                                           -2.885   \n",
       "2      citral                                           -2.579   \n",
       "\n",
       "   Minimum Degree  Molecular Weight  Number of H-Bond Donors  Number of Rings  \\\n",
       "0               1           457.432                        7                3   \n",
       "1               1           201.225                        1                2   \n",
       "2               1           152.237                        0                0   \n",
       "\n",
       "   Number of Rotatable Bonds  Polar Surface Area  \\\n",
       "0                          7              202.32   \n",
       "1                          2               42.24   \n",
       "2                          4               17.07   \n",
       "\n",
       "   measured log solubility in mols per litre  \\\n",
       "0                                      -0.77   \n",
       "1                                      -3.30   \n",
       "2                                      -2.06   \n",
       "\n",
       "                                              smiles  \n",
       "0  OCC3OC(OCC2OC(OC(C#N)c1ccccc1)C(O)C(O)C2O)C(O)...  \n",
       "1                             Cc1occc1C(=O)Nc2ccccc2  \n",
       "2                               CC(C)=CCCC(C)=CC(=O)  "
      ]
     },
     "execution_count": 3,
     "metadata": {},
     "output_type": "execute_result"
    }
   ],
   "source": [
    "path = tf.keras.utils.get_file(\n",
    "    fname='ESOL.csv',\n",
    "    origin='http://deepchem.io.s3-website-us-west-1.amazonaws.com/datasets/ESOL.csv',\n",
    ")\n",
    "df = pd.read_csv(path)\n",
    "df.head(3)"
   ]
  },
  {
   "cell_type": "markdown",
   "metadata": {},
   "source": [
    "Obtain SMILES `x`and associated labels `y`"
   ]
  },
  {
   "cell_type": "code",
   "execution_count": 4,
   "metadata": {},
   "outputs": [],
   "source": [
    "x, y = df['smiles'].values, df['measured log solubility in mols per litre'].values"
   ]
  },
  {
   "cell_type": "markdown",
   "metadata": {},
   "source": [
    "Obtain `GraphTensor` from `x`"
   ]
  },
  {
   "cell_type": "code",
   "execution_count": 5,
   "metadata": {},
   "outputs": [
    {
     "name": "stdout",
     "output_type": "stream",
     "text": [
      "GraphTensor(\n",
      "  node_feature=<tf.RaggedTensor: shape=(1128, None, 11), dtype=float32>,\n",
      "  edge_feature=<tf.RaggedTensor: shape=(1128, None, 5), dtype=float32>,\n",
      "  positional_encoding=<tf.RaggedTensor: shape=(1128, None, 16), dtype=float32>,\n",
      "  edge_dst=<tf.RaggedTensor: shape=(1128, None), dtype=int32>,\n",
      "  edge_src=<tf.RaggedTensor: shape=(1128, None), dtype=int32>)\n",
      "\n",
      "node_feature shape: (1128, None, 11)\n",
      "edge_dst shape:     (1128, None)\n",
      "edge_src shape:     (1128, None)\n",
      "edge_feature shape: (1128, None, 5)\n"
     ]
    }
   ],
   "source": [
    "x = encoder(x)\n",
    "\n",
    "print(x, end='\\n\\n')\n",
    "print('node_feature shape:', x.node_feature.shape)\n",
    "print('edge_dst shape:    ', x.edge_dst.shape)\n",
    "print('edge_src shape:    ', x.edge_src.shape)\n",
    "print('edge_feature shape:', x.edge_feature.shape)"
   ]
  },
  {
   "cell_type": "markdown",
   "metadata": {},
   "source": [
    "### 1. Import GNN **layers**"
   ]
  },
  {
   "cell_type": "code",
   "execution_count": 6,
   "metadata": {},
   "outputs": [],
   "source": [
    "from molgraph import layers"
   ]
  },
  {
   "cell_type": "markdown",
   "metadata": {},
   "source": [
    "### 2. Use GNN **layers**"
   ]
  },
  {
   "cell_type": "code",
   "execution_count": 7,
   "metadata": {},
   "outputs": [
    {
     "name": "stdout",
     "output_type": "stream",
     "text": [
      "GraphTensor(\n",
      "  node_feature=<tf.RaggedTensor: shape=(1128, None, 128), dtype=float32>,\n",
      "  edge_feature=<tf.RaggedTensor: shape=(1128, None, 128), dtype=float32>,\n",
      "  positional_encoding=<tf.RaggedTensor: shape=(1128, None, 16), dtype=float32>,\n",
      "  edge_dst=<tf.RaggedTensor: shape=(1128, None), dtype=int32>,\n",
      "  edge_src=<tf.RaggedTensor: shape=(1128, None), dtype=int32>)\n",
      "\n",
      "GraphTensor(\n",
      "  node_feature=<tf.Tensor: shape=(14991, 128), dtype=float32>,\n",
      "  edge_feature=<tf.Tensor: shape=(30856, 128), dtype=float32>,\n",
      "  positional_encoding=<tf.Tensor: shape=(14991, 16), dtype=float32>,\n",
      "  edge_dst=<tf.Tensor: shape=(30856,), dtype=int32>,\n",
      "  edge_src=<tf.Tensor: shape=(30856,), dtype=int32>,\n",
      "  graph_indicator=<tf.Tensor: shape=(14991,), dtype=int32>)\n",
      "\n",
      "True\n"
     ]
    }
   ],
   "source": [
    "layer = layers.GATConv(units=128, use_edge_features=True, num_heads=8)\n",
    "\n",
    "out1 = layer(x)                 # with nested ragged tensors\n",
    "out2 = layer(x.merge())         # with nested tensors\n",
    "\n",
    "print(out1)\n",
    "print()\n",
    "print(out2)\n",
    "print()\n",
    "print(tf.reduce_all(out1.node_feature.flat_values == out2.node_feature).numpy())"
   ]
  },
  {
   "cell_type": "markdown",
   "metadata": {},
   "source": [
    "### 3. Pass GNN **layers** to **Keras models**"
   ]
  },
  {
   "cell_type": "markdown",
   "metadata": {},
   "source": [
    "Split data into train/test"
   ]
  },
  {
   "cell_type": "code",
   "execution_count": 8,
   "metadata": {},
   "outputs": [],
   "source": [
    "random_indices = np.random.permutation(np.arange(x.shape[0]))\n",
    "\n",
    "x_train = x[random_indices[:800]]\n",
    "x_test = x[random_indices[800:]]\n",
    "\n",
    "y_train = y[random_indices[:800]]\n",
    "y_test = y[random_indices[800:]]"
   ]
  },
  {
   "cell_type": "markdown",
   "metadata": {},
   "source": [
    "#### Option 1: Keras Sequential API"
   ]
  },
  {
   "cell_type": "code",
   "execution_count": 9,
   "metadata": {},
   "outputs": [
    {
     "name": "stdout",
     "output_type": "stream",
     "text": [
      "Model: \"sequential\"\n",
      "_________________________________________________________________\n",
      " Layer (type)                Output Shape              Param #   \n",
      "=================================================================\n",
      " gcn_conv (GCNConv)          (None, None, 128)         4864      \n",
      "                                                                 \n",
      " gcn_conv_1 (GCNConv)        (None, None, 128)         33408     \n",
      "                                                                 \n",
      " gcn_conv_2 (GCNConv)        (None, None, 128)         33408     \n",
      "                                                                 \n",
      " segment_pooling_readout (Se  (None, 128)              0         \n",
      " gmentPoolingReadout)                                            \n",
      "                                                                 \n",
      " dense_2 (Dense)             (None, 512)               66048     \n",
      "                                                                 \n",
      " dense_3 (Dense)             (None, 1)                 513       \n",
      "                                                                 \n",
      "=================================================================\n",
      "Total params: 138,241\n",
      "Trainable params: 137,473\n",
      "Non-trainable params: 768\n",
      "_________________________________________________________________\n"
     ]
    }
   ],
   "source": [
    "sequential_model = tf.keras.Sequential([\n",
    "    tf.keras.layers.Input(type_spec=x_train.unspecific_spec),\n",
    "    layers.GCNConv(128),\n",
    "    layers.GCNConv(128),\n",
    "    layers.GCNConv(128),\n",
    "    layers.Readout(),\n",
    "    tf.keras.layers.Dense(512, activation='relu'),\n",
    "    tf.keras.layers.Dense(1)\n",
    "])\n",
    "\n",
    "sequential_model.summary()"
   ]
  },
  {
   "cell_type": "code",
   "execution_count": 10,
   "metadata": {
    "scrolled": true
   },
   "outputs": [
    {
     "name": "stdout",
     "output_type": "stream",
     "text": [
      "Epoch 1/30\n",
      "25/25 - 2s - loss: 4.2838 - mae: 1.6514 - 2s/epoch - 98ms/step\n",
      "Epoch 2/30\n",
      "25/25 - 0s - loss: 2.7735 - mae: 1.3359 - 130ms/epoch - 5ms/step\n",
      "Epoch 3/30\n",
      "25/25 - 0s - loss: 2.6046 - mae: 1.2834 - 127ms/epoch - 5ms/step\n",
      "Epoch 4/30\n",
      "25/25 - 0s - loss: 2.4696 - mae: 1.2349 - 127ms/epoch - 5ms/step\n",
      "Epoch 5/30\n",
      "25/25 - 0s - loss: 2.5944 - mae: 1.2725 - 124ms/epoch - 5ms/step\n",
      "Epoch 6/30\n",
      "25/25 - 0s - loss: 2.3194 - mae: 1.2296 - 123ms/epoch - 5ms/step\n",
      "Epoch 7/30\n",
      "25/25 - 0s - loss: 2.4441 - mae: 1.2331 - 124ms/epoch - 5ms/step\n",
      "Epoch 8/30\n",
      "25/25 - 0s - loss: 2.4954 - mae: 1.2183 - 123ms/epoch - 5ms/step\n",
      "Epoch 9/30\n",
      "25/25 - 0s - loss: 2.1833 - mae: 1.1438 - 122ms/epoch - 5ms/step\n",
      "Epoch 10/30\n",
      "25/25 - 0s - loss: 1.9885 - mae: 1.1076 - 127ms/epoch - 5ms/step\n",
      "Epoch 11/30\n",
      "25/25 - 0s - loss: 1.9843 - mae: 1.0875 - 126ms/epoch - 5ms/step\n",
      "Epoch 12/30\n",
      "25/25 - 0s - loss: 1.9185 - mae: 1.0876 - 125ms/epoch - 5ms/step\n",
      "Epoch 13/30\n",
      "25/25 - 0s - loss: 1.8091 - mae: 1.0400 - 127ms/epoch - 5ms/step\n",
      "Epoch 14/30\n",
      "25/25 - 0s - loss: 1.9701 - mae: 1.0713 - 123ms/epoch - 5ms/step\n",
      "Epoch 15/30\n",
      "25/25 - 0s - loss: 1.8232 - mae: 1.0502 - 133ms/epoch - 5ms/step\n",
      "Epoch 16/30\n",
      "25/25 - 0s - loss: 1.7512 - mae: 1.0305 - 127ms/epoch - 5ms/step\n",
      "Epoch 17/30\n",
      "25/25 - 0s - loss: 1.6871 - mae: 0.9836 - 126ms/epoch - 5ms/step\n",
      "Epoch 18/30\n",
      "25/25 - 0s - loss: 1.7730 - mae: 1.0371 - 134ms/epoch - 5ms/step\n",
      "Epoch 19/30\n",
      "25/25 - 0s - loss: 1.6716 - mae: 0.9987 - 127ms/epoch - 5ms/step\n",
      "Epoch 20/30\n",
      "25/25 - 0s - loss: 1.6270 - mae: 0.9721 - 125ms/epoch - 5ms/step\n",
      "Epoch 21/30\n",
      "25/25 - 0s - loss: 1.4645 - mae: 0.9290 - 125ms/epoch - 5ms/step\n",
      "Epoch 22/30\n",
      "25/25 - 0s - loss: 1.4960 - mae: 0.9461 - 122ms/epoch - 5ms/step\n",
      "Epoch 23/30\n",
      "25/25 - 0s - loss: 1.5626 - mae: 0.9682 - 123ms/epoch - 5ms/step\n",
      "Epoch 24/30\n",
      "25/25 - 0s - loss: 1.4820 - mae: 0.9413 - 123ms/epoch - 5ms/step\n",
      "Epoch 25/30\n",
      "25/25 - 0s - loss: 1.4451 - mae: 0.9145 - 120ms/epoch - 5ms/step\n",
      "Epoch 26/30\n",
      "25/25 - 0s - loss: 1.5006 - mae: 0.9203 - 121ms/epoch - 5ms/step\n",
      "Epoch 27/30\n",
      "25/25 - 0s - loss: 1.3854 - mae: 0.9034 - 122ms/epoch - 5ms/step\n",
      "Epoch 28/30\n",
      "25/25 - 0s - loss: 1.4243 - mae: 0.9127 - 127ms/epoch - 5ms/step\n",
      "Epoch 29/30\n",
      "25/25 - 0s - loss: 1.4383 - mae: 0.9386 - 129ms/epoch - 5ms/step\n",
      "Epoch 30/30\n",
      "25/25 - 0s - loss: 1.3516 - mae: 0.8781 - 127ms/epoch - 5ms/step\n",
      "11/11 [==============================] - 1s 2ms/step - loss: 2.1062 - mae: 1.0986\n",
      "mse = 2.106\n",
      "mae = 1.099\n"
     ]
    }
   ],
   "source": [
    "sequential_model.compile('adam', 'mse', ['mae'])\n",
    "sequential_model.fit(x_train, y_train, epochs=30, verbose=2)\n",
    "mse, mae = sequential_model.evaluate(x_test, y_test)\n",
    "print(f\"{mse = :.3f}\\n{mae = :.3f}\")"
   ]
  },
  {
   "cell_type": "markdown",
   "metadata": {},
   "source": [
    "#### Option 2: Keras Functional API"
   ]
  },
  {
   "cell_type": "code",
   "execution_count": 11,
   "metadata": {},
   "outputs": [
    {
     "name": "stdout",
     "output_type": "stream",
     "text": [
      "Model: \"model\"\n",
      "_________________________________________________________________\n",
      " Layer (type)                Output Shape              Param #   \n",
      "=================================================================\n",
      " input_2 (InputLayer)        [(None, 11)]              0         \n",
      "                                                                 \n",
      " gcn_conv_3 (GCNConv)        (None, 128)               4864      \n",
      "                                                                 \n",
      " gcn_conv_4 (GCNConv)        (None, 128)               33408     \n",
      "                                                                 \n",
      " gcn_conv_5 (GCNConv)        (None, 128)               33408     \n",
      "                                                                 \n",
      " segment_pooling_readout_1 (  (None, 128)              0         \n",
      " SegmentPoolingReadout)                                          \n",
      "                                                                 \n",
      " dense_4 (Dense)             (None, 512)               66048     \n",
      "                                                                 \n",
      " dense_5 (Dense)             (None, 1)                 513       \n",
      "                                                                 \n",
      "=================================================================\n",
      "Total params: 138,241\n",
      "Trainable params: 137,473\n",
      "Non-trainable params: 768\n",
      "_________________________________________________________________\n"
     ]
    }
   ],
   "source": [
    "inputs = tf.keras.layers.Input(type_spec=x_train.merge().unspecific_spec)\n",
    "x = layers.GCNConv(128)(inputs)\n",
    "x = layers.GCNConv(128)(x)\n",
    "x = layers.GCNConv(128)(x)\n",
    "x = layers.Readout()(x)\n",
    "x = tf.keras.layers.Dense(512, activation='relu')(x)\n",
    "x = tf.keras.layers.Dense(1)(x)\n",
    "functional_model = tf.keras.Model(inputs=inputs, outputs=x)\n",
    "functional_model.summary()"
   ]
  },
  {
   "cell_type": "code",
   "execution_count": 12,
   "metadata": {
    "scrolled": true
   },
   "outputs": [
    {
     "name": "stdout",
     "output_type": "stream",
     "text": [
      "Epoch 1/30\n",
      "25/25 - 2s - loss: 3.8999 - mae: 1.5476 - 2s/epoch - 99ms/step\n",
      "Epoch 2/30\n",
      "25/25 - 0s - loss: 2.7005 - mae: 1.3131 - 129ms/epoch - 5ms/step\n",
      "Epoch 3/30\n",
      "25/25 - 0s - loss: 2.5801 - mae: 1.2890 - 132ms/epoch - 5ms/step\n",
      "Epoch 4/30\n",
      "25/25 - 0s - loss: 2.5348 - mae: 1.2615 - 130ms/epoch - 5ms/step\n",
      "Epoch 5/30\n",
      "25/25 - 0s - loss: 2.5793 - mae: 1.2806 - 128ms/epoch - 5ms/step\n",
      "Epoch 6/30\n",
      "25/25 - 0s - loss: 2.2380 - mae: 1.1966 - 125ms/epoch - 5ms/step\n",
      "Epoch 7/30\n",
      "25/25 - 0s - loss: 2.0548 - mae: 1.1224 - 125ms/epoch - 5ms/step\n",
      "Epoch 8/30\n",
      "25/25 - 0s - loss: 1.9893 - mae: 1.1075 - 127ms/epoch - 5ms/step\n",
      "Epoch 9/30\n",
      "25/25 - 0s - loss: 2.2630 - mae: 1.1800 - 150ms/epoch - 6ms/step\n",
      "Epoch 10/30\n",
      "25/25 - 0s - loss: 2.2209 - mae: 1.1785 - 126ms/epoch - 5ms/step\n",
      "Epoch 11/30\n",
      "25/25 - 0s - loss: 2.1536 - mae: 1.1320 - 133ms/epoch - 5ms/step\n",
      "Epoch 12/30\n",
      "25/25 - 0s - loss: 1.9077 - mae: 1.0679 - 128ms/epoch - 5ms/step\n",
      "Epoch 13/30\n",
      "25/25 - 0s - loss: 1.8710 - mae: 1.0552 - 127ms/epoch - 5ms/step\n",
      "Epoch 14/30\n",
      "25/25 - 0s - loss: 1.7661 - mae: 1.0302 - 129ms/epoch - 5ms/step\n",
      "Epoch 15/30\n",
      "25/25 - 0s - loss: 1.7259 - mae: 1.0140 - 132ms/epoch - 5ms/step\n",
      "Epoch 16/30\n",
      "25/25 - 0s - loss: 1.6547 - mae: 0.9872 - 128ms/epoch - 5ms/step\n",
      "Epoch 17/30\n",
      "25/25 - 0s - loss: 1.7025 - mae: 0.9946 - 158ms/epoch - 6ms/step\n",
      "Epoch 18/30\n",
      "25/25 - 0s - loss: 1.5992 - mae: 0.9637 - 129ms/epoch - 5ms/step\n",
      "Epoch 19/30\n",
      "25/25 - 0s - loss: 1.6178 - mae: 0.9863 - 130ms/epoch - 5ms/step\n",
      "Epoch 20/30\n",
      "25/25 - 0s - loss: 1.7792 - mae: 1.0453 - 129ms/epoch - 5ms/step\n",
      "Epoch 21/30\n",
      "25/25 - 0s - loss: 1.6146 - mae: 0.9904 - 123ms/epoch - 5ms/step\n",
      "Epoch 22/30\n",
      "25/25 - 0s - loss: 1.9762 - mae: 1.1097 - 120ms/epoch - 5ms/step\n",
      "Epoch 23/30\n",
      "25/25 - 0s - loss: 1.7687 - mae: 1.0332 - 125ms/epoch - 5ms/step\n",
      "Epoch 24/30\n",
      "25/25 - 0s - loss: 1.6198 - mae: 0.9740 - 121ms/epoch - 5ms/step\n",
      "Epoch 25/30\n",
      "25/25 - 0s - loss: 1.3865 - mae: 0.9078 - 120ms/epoch - 5ms/step\n",
      "Epoch 26/30\n",
      "25/25 - 0s - loss: 1.4263 - mae: 0.9062 - 121ms/epoch - 5ms/step\n",
      "Epoch 27/30\n",
      "25/25 - 0s - loss: 1.4122 - mae: 0.9065 - 121ms/epoch - 5ms/step\n",
      "Epoch 28/30\n",
      "25/25 - 0s - loss: 1.3652 - mae: 0.8931 - 120ms/epoch - 5ms/step\n",
      "Epoch 29/30\n",
      "25/25 - 0s - loss: 1.3172 - mae: 0.8715 - 120ms/epoch - 5ms/step\n",
      "Epoch 30/30\n",
      "25/25 - 0s - loss: 1.2692 - mae: 0.8395 - 120ms/epoch - 5ms/step\n",
      "11/11 [==============================] - 1s 2ms/step - loss: 1.9954 - mae: 1.0803\n",
      "mse = 1.995\n",
      "mae = 1.080\n"
     ]
    }
   ],
   "source": [
    "functional_model.compile('adam', 'mse', ['mae'])\n",
    "functional_model.fit(x_train, y_train, epochs=30, verbose=2)\n",
    "mse, mae = functional_model.evaluate(x_test, y_test)\n",
    "print(f\"{mse = :.3f}\\n{mae = :.3f}\")"
   ]
  },
  {
   "cell_type": "markdown",
   "metadata": {},
   "source": [
    "#### Option 3: Keras Model subclassing\n",
    "\n",
    "Creating a custom Keras model allow for more flexibility. Let perform some random skip connections."
   ]
  },
  {
   "cell_type": "code",
   "execution_count": 13,
   "metadata": {},
   "outputs": [
    {
     "name": "stdout",
     "output_type": "stream",
     "text": [
      "Model: \"my_model\"\n",
      "_________________________________________________________________\n",
      " Layer (type)                Output Shape              Param #   \n",
      "=================================================================\n",
      " gcn_conv_6 (GCNConv)        multiple                  4864      \n",
      "                                                                 \n",
      " gcn_conv_7 (GCNConv)        multiple                  33408     \n",
      "                                                                 \n",
      " gcn_conv_8 (GCNConv)        multiple                  33408     \n",
      "                                                                 \n",
      " segment_pooling_readout_2 (  multiple                 0         \n",
      " SegmentPoolingReadout)                                          \n",
      "                                                                 \n",
      " dense_6 (Dense)             multiple                  197120    \n",
      "                                                                 \n",
      " dense_7 (Dense)             multiple                  513       \n",
      "                                                                 \n",
      "=================================================================\n",
      "Total params: 269,313\n",
      "Trainable params: 268,545\n",
      "Non-trainable params: 768\n",
      "_________________________________________________________________\n"
     ]
    }
   ],
   "source": [
    "class MyModel(tf.keras.Model):\n",
    "    def __init__(self, gnn_units=128, dense_units=512):\n",
    "        super().__init__()\n",
    "        self.gcn_1 = layers.GCNConv(gnn_units)\n",
    "        self.gcn_2 = layers.GCNConv(gnn_units)\n",
    "        self.gcn_3 = layers.GCNConv(gnn_units)\n",
    "        self.readout = layers.Readout()\n",
    "        self.dense_1 = tf.keras.layers.Dense(512, activation='relu')\n",
    "        self.dense_2 = tf.keras.layers.Dense(1)\n",
    "    \n",
    "    def call(self, inputs):\n",
    "        x0 = inputs\n",
    "        x1 = self.gcn_1(x0)\n",
    "        x2 = self.gcn_2(x1)\n",
    "        x3 = self.gcn_3(x2)\n",
    "        x1 = self.readout(x1)\n",
    "        x2 = self.readout(x2)\n",
    "        x3 = self.readout(x3)\n",
    "        x = tf.concat([x1, x2, x3], axis=1)\n",
    "        x = self.dense_1(x)\n",
    "        return self.dense_2(x)\n",
    "        \n",
    "        \n",
    "my_model = MyModel()\n",
    "\n",
    "my_model(x_train) # build\n",
    "\n",
    "my_model.summary()"
   ]
  },
  {
   "cell_type": "code",
   "execution_count": 14,
   "metadata": {
    "scrolled": true
   },
   "outputs": [
    {
     "name": "stdout",
     "output_type": "stream",
     "text": [
      "Epoch 1/30\n",
      "25/25 - 3s - loss: 4.0713 - mae: 1.5977 - 3s/epoch - 103ms/step\n",
      "Epoch 2/30\n",
      "25/25 - 0s - loss: 2.9198 - mae: 1.3578 - 131ms/epoch - 5ms/step\n",
      "Epoch 3/30\n",
      "25/25 - 0s - loss: 2.5682 - mae: 1.2838 - 130ms/epoch - 5ms/step\n",
      "Epoch 4/30\n",
      "25/25 - 0s - loss: 2.7263 - mae: 1.3136 - 134ms/epoch - 5ms/step\n",
      "Epoch 5/30\n",
      "25/25 - 0s - loss: 2.5333 - mae: 1.2671 - 131ms/epoch - 5ms/step\n",
      "Epoch 6/30\n",
      "25/25 - 0s - loss: 2.3233 - mae: 1.2029 - 131ms/epoch - 5ms/step\n",
      "Epoch 7/30\n",
      "25/25 - 0s - loss: 2.3149 - mae: 1.1938 - 131ms/epoch - 5ms/step\n",
      "Epoch 8/30\n",
      "25/25 - 0s - loss: 2.1084 - mae: 1.1350 - 131ms/epoch - 5ms/step\n",
      "Epoch 9/30\n",
      "25/25 - 0s - loss: 2.1451 - mae: 1.1580 - 129ms/epoch - 5ms/step\n",
      "Epoch 10/30\n",
      "25/25 - 0s - loss: 2.0375 - mae: 1.1117 - 131ms/epoch - 5ms/step\n",
      "Epoch 11/30\n",
      "25/25 - 0s - loss: 2.0055 - mae: 1.1158 - 131ms/epoch - 5ms/step\n",
      "Epoch 12/30\n",
      "25/25 - 0s - loss: 2.2787 - mae: 1.1967 - 130ms/epoch - 5ms/step\n",
      "Epoch 13/30\n",
      "25/25 - 0s - loss: 1.8634 - mae: 1.0636 - 129ms/epoch - 5ms/step\n",
      "Epoch 14/30\n",
      "25/25 - 0s - loss: 1.7522 - mae: 1.0281 - 131ms/epoch - 5ms/step\n",
      "Epoch 15/30\n",
      "25/25 - 0s - loss: 1.7427 - mae: 1.0124 - 129ms/epoch - 5ms/step\n",
      "Epoch 16/30\n",
      "25/25 - 0s - loss: 1.6997 - mae: 1.0110 - 130ms/epoch - 5ms/step\n",
      "Epoch 17/30\n",
      "25/25 - 0s - loss: 1.6951 - mae: 1.0129 - 129ms/epoch - 5ms/step\n",
      "Epoch 18/30\n",
      "25/25 - 0s - loss: 1.8600 - mae: 1.0571 - 130ms/epoch - 5ms/step\n",
      "Epoch 19/30\n",
      "25/25 - 0s - loss: 1.6461 - mae: 1.0101 - 130ms/epoch - 5ms/step\n",
      "Epoch 20/30\n",
      "25/25 - 0s - loss: 1.7450 - mae: 1.0167 - 130ms/epoch - 5ms/step\n",
      "Epoch 21/30\n",
      "25/25 - 0s - loss: 1.9040 - mae: 1.0757 - 131ms/epoch - 5ms/step\n",
      "Epoch 22/30\n",
      "25/25 - 0s - loss: 2.2501 - mae: 1.1410 - 129ms/epoch - 5ms/step\n",
      "Epoch 23/30\n",
      "25/25 - 0s - loss: 1.7687 - mae: 1.0186 - 132ms/epoch - 5ms/step\n",
      "Epoch 24/30\n",
      "25/25 - 0s - loss: 1.5166 - mae: 0.9492 - 131ms/epoch - 5ms/step\n",
      "Epoch 25/30\n",
      "25/25 - 0s - loss: 1.7440 - mae: 1.0276 - 130ms/epoch - 5ms/step\n",
      "Epoch 26/30\n",
      "25/25 - 0s - loss: 1.4521 - mae: 0.9216 - 130ms/epoch - 5ms/step\n",
      "Epoch 27/30\n",
      "25/25 - 0s - loss: 1.5068 - mae: 0.9505 - 129ms/epoch - 5ms/step\n",
      "Epoch 28/30\n",
      "25/25 - 0s - loss: 1.4803 - mae: 0.9492 - 130ms/epoch - 5ms/step\n",
      "Epoch 29/30\n",
      "25/25 - 0s - loss: 1.3892 - mae: 0.9109 - 131ms/epoch - 5ms/step\n",
      "Epoch 30/30\n",
      "25/25 - 0s - loss: 1.4627 - mae: 0.9142 - 129ms/epoch - 5ms/step\n",
      "11/11 [==============================] - 1s 3ms/step - loss: 2.0875 - mae: 1.1575\n",
      "mse = 2.088\n",
      "mae = 1.158\n"
     ]
    }
   ],
   "source": [
    "my_model.compile('adam', 'mse', ['mae'])\n",
    "my_model.fit(x_train, y_train, epochs=30, verbose=2)\n",
    "mse, mae = my_model.evaluate(x_test, y_test)\n",
    "print(f\"{mse = :.3f}\\n{mae = :.3f}\")"
   ]
  },
  {
   "cell_type": "markdown",
   "metadata": {},
   "source": [
    "#### Model with **tf.data.Dataset**"
   ]
  },
  {
   "cell_type": "code",
   "execution_count": 15,
   "metadata": {},
   "outputs": [],
   "source": [
    "ds_train = tf.data.Dataset.from_tensor_slices((x_train, y_train))\n",
    "ds_train = ds_train.shuffle(800).batch(32).map(lambda x, y: (x.merge(), y))\n",
    "\n",
    "ds_test = tf.data.Dataset.from_tensor_slices((x_test, y_test))\n",
    "ds_test = ds_test.batch(32).map(lambda x, y: (x.merge(), y))\n"
   ]
  },
  {
   "cell_type": "code",
   "execution_count": 16,
   "metadata": {
    "scrolled": true
   },
   "outputs": [
    {
     "name": "stdout",
     "output_type": "stream",
     "text": [
      "Epoch 1/30\n",
      "25/25 - 2s - loss: 1.6041 - mae: 0.9832 - 2s/epoch - 71ms/step\n",
      "Epoch 2/30\n",
      "25/25 - 0s - loss: 1.4586 - mae: 0.9078 - 114ms/epoch - 5ms/step\n",
      "Epoch 3/30\n",
      "25/25 - 0s - loss: 1.3568 - mae: 0.8826 - 114ms/epoch - 5ms/step\n",
      "Epoch 4/30\n",
      "25/25 - 0s - loss: 1.2998 - mae: 0.8787 - 113ms/epoch - 5ms/step\n",
      "Epoch 5/30\n",
      "25/25 - 0s - loss: 1.3106 - mae: 0.8971 - 113ms/epoch - 5ms/step\n",
      "Epoch 6/30\n",
      "25/25 - 0s - loss: 1.2808 - mae: 0.8586 - 113ms/epoch - 5ms/step\n",
      "Epoch 7/30\n",
      "25/25 - 0s - loss: 1.1022 - mae: 0.8095 - 112ms/epoch - 4ms/step\n",
      "Epoch 8/30\n",
      "25/25 - 0s - loss: 1.0776 - mae: 0.7783 - 112ms/epoch - 4ms/step\n",
      "Epoch 9/30\n",
      "25/25 - 0s - loss: 1.0333 - mae: 0.7592 - 113ms/epoch - 5ms/step\n",
      "Epoch 10/30\n",
      "25/25 - 0s - loss: 1.3499 - mae: 0.8571 - 112ms/epoch - 4ms/step\n",
      "Epoch 11/30\n",
      "25/25 - 0s - loss: 1.1293 - mae: 0.8305 - 112ms/epoch - 4ms/step\n",
      "Epoch 12/30\n",
      "25/25 - 0s - loss: 1.1203 - mae: 0.8172 - 112ms/epoch - 4ms/step\n",
      "Epoch 13/30\n",
      "25/25 - 0s - loss: 1.0411 - mae: 0.7743 - 113ms/epoch - 5ms/step\n",
      "Epoch 14/30\n",
      "25/25 - 0s - loss: 0.9642 - mae: 0.7402 - 113ms/epoch - 5ms/step\n",
      "Epoch 15/30\n",
      "25/25 - 0s - loss: 0.9785 - mae: 0.7483 - 114ms/epoch - 5ms/step\n",
      "Epoch 16/30\n",
      "25/25 - 0s - loss: 0.8212 - mae: 0.6811 - 112ms/epoch - 4ms/step\n",
      "Epoch 17/30\n",
      "25/25 - 0s - loss: 0.7009 - mae: 0.6309 - 112ms/epoch - 4ms/step\n",
      "Epoch 18/30\n",
      "25/25 - 0s - loss: 0.8501 - mae: 0.6955 - 112ms/epoch - 4ms/step\n",
      "Epoch 19/30\n",
      "25/25 - 0s - loss: 0.8112 - mae: 0.6791 - 112ms/epoch - 4ms/step\n",
      "Epoch 20/30\n",
      "25/25 - 0s - loss: 0.7125 - mae: 0.6399 - 112ms/epoch - 4ms/step\n",
      "Epoch 21/30\n",
      "25/25 - 0s - loss: 0.8004 - mae: 0.6690 - 112ms/epoch - 4ms/step\n",
      "Epoch 22/30\n",
      "25/25 - 0s - loss: 0.8041 - mae: 0.6864 - 113ms/epoch - 5ms/step\n",
      "Epoch 23/30\n",
      "25/25 - 0s - loss: 0.8287 - mae: 0.6859 - 113ms/epoch - 5ms/step\n",
      "Epoch 24/30\n",
      "25/25 - 0s - loss: 0.9320 - mae: 0.7334 - 112ms/epoch - 4ms/step\n",
      "Epoch 25/30\n",
      "25/25 - 0s - loss: 0.9154 - mae: 0.7350 - 112ms/epoch - 4ms/step\n",
      "Epoch 26/30\n",
      "25/25 - 0s - loss: 0.7953 - mae: 0.6702 - 112ms/epoch - 4ms/step\n",
      "Epoch 27/30\n",
      "25/25 - 0s - loss: 0.7700 - mae: 0.6798 - 112ms/epoch - 4ms/step\n",
      "Epoch 28/30\n",
      "25/25 - 0s - loss: 0.7238 - mae: 0.6459 - 112ms/epoch - 4ms/step\n",
      "Epoch 29/30\n",
      "25/25 - 0s - loss: 0.6516 - mae: 0.5981 - 112ms/epoch - 4ms/step\n",
      "Epoch 30/30\n",
      "25/25 - 0s - loss: 0.6223 - mae: 0.5953 - 111ms/epoch - 4ms/step\n",
      "11/11 [==============================] - 1s 2ms/step - loss: 1.4723 - mae: 0.8444\n",
      "mse = 1.472\n",
      "mae = 0.844\n"
     ]
    }
   ],
   "source": [
    "sequential_model.compile('adam', 'mse', ['mae'])\n",
    "sequential_model.fit(ds_train, epochs=30, verbose=2)\n",
    "mse, mae = sequential_model.evaluate(x_test, y_test)\n",
    "print(f\"{mse = :.3f}\\n{mae = :.3f}\")"
   ]
  },
  {
   "cell_type": "markdown",
   "metadata": {},
   "source": [
    "### 4. Save and load GNN **model** with **tf.saved_model**"
   ]
  },
  {
   "cell_type": "code",
   "execution_count": 17,
   "metadata": {},
   "outputs": [
    {
     "name": "stderr",
     "output_type": "stream",
     "text": [
      "Function `_wrapped_model` contains input name(s) args_0 with unsupported characters which will be renamed to args_0_9 in the SavedModel.\n",
      "Found untraced functions such as dense_layer_call_fn, dense_layer_call_and_return_conditional_losses, dense_1_layer_call_fn, dense_1_layer_call_and_return_conditional_losses, dense_layer_call_fn while saving (showing 5 of 8). These functions will not be directly callable after loading.\n"
     ]
    },
    {
     "name": "stdout",
     "output_type": "stream",
     "text": [
      "INFO:tensorflow:Assets written to: /tmp/tmp0t_63ran/assets\n"
     ]
    },
    {
     "name": "stderr",
     "output_type": "stream",
     "text": [
      "/home/alex/Envs/dl/lib/python3.8/site-packages/tensorflow/python/saved_model/nested_structure_coder.py:522: UserWarning: Encoding a StructuredValue with type molgraph.tensors.graph_tensor.GraphTensorSpec; loading this StructuredValue will require that this type be imported and registered.\n",
      "  warnings.warn(\"Encoding a StructuredValue with type %s; loading this \"\n",
      "Assets written to: /tmp/tmp0t_63ran/assets\n"
     ]
    },
    {
     "name": "stdout",
     "output_type": "stream",
     "text": [
      "(800, 1)\n"
     ]
    }
   ],
   "source": [
    "import tempfile\n",
    "import shutil\n",
    "\n",
    "file = tempfile.NamedTemporaryFile()\n",
    "filename = file.name\n",
    "file.close()\n",
    "\n",
    "tf.saved_model.save(sequential_model, filename)\n",
    "loaded_model = tf.saved_model.load(filename)\n",
    "\n",
    "print(loaded_model(x_train).shape)\n",
    "\n",
    "shutil.rmtree(filename)"
   ]
  },
  {
   "cell_type": "markdown",
   "metadata": {},
   "source": [
    "### 5. Save and load GNN **model** with **Keras**"
   ]
  },
  {
   "cell_type": "code",
   "execution_count": 18,
   "metadata": {},
   "outputs": [
    {
     "name": "stderr",
     "output_type": "stream",
     "text": [
      "Function `_wrapped_model` contains input name(s) args_0 with unsupported characters which will be renamed to args_0_9 in the SavedModel.\n",
      "Found untraced functions such as dense_layer_call_fn, dense_layer_call_and_return_conditional_losses, dense_1_layer_call_fn, dense_1_layer_call_and_return_conditional_losses, dense_layer_call_fn while saving (showing 5 of 8). These functions will not be directly callable after loading.\n"
     ]
    },
    {
     "name": "stdout",
     "output_type": "stream",
     "text": [
      "INFO:tensorflow:Assets written to: /tmp/tmp2runsndp/assets\n"
     ]
    },
    {
     "name": "stderr",
     "output_type": "stream",
     "text": [
      "/home/alex/Envs/dl/lib/python3.8/site-packages/tensorflow/python/saved_model/nested_structure_coder.py:522: UserWarning: Encoding a StructuredValue with type molgraph.tensors.graph_tensor.GraphTensorSpec; loading this StructuredValue will require that this type be imported and registered.\n",
      "  warnings.warn(\"Encoding a StructuredValue with type %s; loading this \"\n",
      "Assets written to: /tmp/tmp2runsndp/assets\n"
     ]
    },
    {
     "name": "stdout",
     "output_type": "stream",
     "text": [
      "Epoch 1/5\n",
      "25/25 - 2s - loss: 0.8903 - mae: 0.7063 - 2s/epoch - 94ms/step\n",
      "Epoch 2/5\n",
      "25/25 - 0s - loss: 0.8215 - mae: 0.6968 - 150ms/epoch - 6ms/step\n",
      "Epoch 3/5\n",
      "25/25 - 0s - loss: 0.7367 - mae: 0.6427 - 152ms/epoch - 6ms/step\n",
      "Epoch 4/5\n",
      "25/25 - 0s - loss: 0.6518 - mae: 0.6039 - 148ms/epoch - 6ms/step\n",
      "Epoch 5/5\n",
      "25/25 - 0s - loss: 0.8049 - mae: 0.6995 - 146ms/epoch - 6ms/step\n"
     ]
    }
   ],
   "source": [
    "import tempfile\n",
    "import shutil\n",
    "\n",
    "file = tempfile.NamedTemporaryFile()\n",
    "filename = file.name\n",
    "file.close()\n",
    "\n",
    "sequential_model.save(filename)\n",
    "loaded_model = tf.keras.models.load_model(filename)\n",
    "\n",
    "loaded_model.fit(ds_train, epochs=5, verbose=2)\n",
    "\n",
    "shutil.rmtree(filename)"
   ]
  }
 ],
 "metadata": {
  "kernelspec": {
   "display_name": "Python 3",
   "language": "python",
   "name": "python3"
  },
  "language_info": {
   "codemirror_mode": {
    "name": "ipython",
    "version": 3
   },
   "file_extension": ".py",
   "mimetype": "text/x-python",
   "name": "python",
   "nbconvert_exporter": "python",
   "pygments_lexer": "ipython3",
   "version": "3.8.10"
  }
 },
 "nbformat": 4,
 "nbformat_minor": 4
}

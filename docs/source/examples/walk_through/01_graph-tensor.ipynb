{
 "cells": [
  {
   "cell_type": "markdown",
   "metadata": {},
   "source": [
    "# Graph tensor"
   ]
  },
  {
   "cell_type": "code",
   "execution_count": 15,
   "metadata": {},
   "outputs": [],
   "source": [
    "import tensorflow as tf\n",
    "tf.config.set_visible_devices([], 'GPU')\n",
    "\n",
    "import sys\n",
    "sys.path.append('../../../../')\n",
    "\n",
    "from molgraph.chemistry import MolecularGraphEncoder\n",
    "from molgraph.chemistry import AtomicFeaturizer\n",
    "from molgraph.chemistry import features\n",
    "\n",
    "from molgraph.layers import GCNConv\n",
    "from molgraph.layers import Readout"
   ]
  },
  {
   "cell_type": "markdown",
   "metadata": {},
   "source": [
    "### Construct **GraphTensor** \n",
    "\n",
    "Construct `GraphTensor` from a `MolecularGraphEncoder`"
   ]
  },
  {
   "cell_type": "code",
   "execution_count": 2,
   "metadata": {
    "scrolled": true
   },
   "outputs": [
    {
     "name": "stdout",
     "output_type": "stream",
     "text": [
      "GraphTensor(\n",
      "  node_feature=<tf.RaggedTensor: shape=(3, None, 11), dtype=float32>,\n",
      "  edge_feature=<tf.RaggedTensor: shape=(3, None, 5), dtype=float32>,\n",
      "  positional_encoding=<tf.RaggedTensor: shape=(3, None, 16), dtype=float32>,\n",
      "  edge_dst=<tf.RaggedTensor: shape=(3, None), dtype=int32>,\n",
      "  edge_src=<tf.RaggedTensor: shape=(3, None), dtype=int32>)\n",
      "\n",
      "node_feature shape: (3, None, 11)\n",
      "edge_dst shape:     (3, None)\n",
      "edge_src shape:     (3, None)\n",
      "edge_feature shape: (3, None, 5)\n"
     ]
    }
   ],
   "source": [
    "atom_encoder = AtomicFeaturizer([\n",
    "    features.Symbol({'C', 'N', 'O'}, oov_size=1),\n",
    "    features.Hybridization({'SP', 'SP2', 'SP3'}, oov_size=1),\n",
    "    features.HydrogenDonor(),\n",
    "    features.HydrogenAcceptor(),\n",
    "    features.Hetero()\n",
    "])\n",
    "\n",
    "bond_encoder = AtomicFeaturizer([\n",
    "    features.BondType({'SINGLE', 'DOUBLE', 'TRIPLE', 'AROMATIC'}),\n",
    "    features.Rotatable()\n",
    "])\n",
    "\n",
    "mol_encoder = MolecularGraphEncoder(atom_encoder, bond_encoder)\n",
    "\n",
    "molecules = [\n",
    "    'OCC1OC(C(C1O)O)n1cnc2c1ncnc2N',\n",
    "    'C(C(=O)O)N',\n",
    "    'C1=CC(=CC=C1CC(C(=O)O)N)O'\n",
    "]\n",
    "\n",
    "graph_tensor = mol_encoder(molecules)\n",
    "\n",
    "print(graph_tensor, end='\\n\\n')\n",
    "print('node_feature shape:', graph_tensor.node_feature.shape)\n",
    "print('edge_dst shape:    ', graph_tensor.edge_dst.shape)\n",
    "print('edge_src shape:    ', graph_tensor.edge_src.shape)\n",
    "print('edge_feature shape:', graph_tensor.edge_feature.shape)"
   ]
  },
  {
   "cell_type": "markdown",
   "metadata": {},
   "source": [
    "### Merge subgraphs of **GraphTensor**\n",
    "\n",
    "By converting nested ragged tensors to tensors, via the `merge()` method, a more efficient representation of `GraphTensor` is obtained. I.e., in this exmaple, the `GraphTensor` now encodes the three molecules as *a single disjoint graph* instead of *three separate graphs*. "
   ]
  },
  {
   "cell_type": "code",
   "execution_count": 3,
   "metadata": {},
   "outputs": [
    {
     "name": "stdout",
     "output_type": "stream",
     "text": [
      "GraphTensor(\n",
      "  node_feature=<tf.Tensor: shape=(37, 11), dtype=float32>,\n",
      "  edge_feature=<tf.Tensor: shape=(76, 5), dtype=float32>,\n",
      "  positional_encoding=<tf.Tensor: shape=(37, 16), dtype=float32>,\n",
      "  edge_dst=<tf.Tensor: shape=(76,), dtype=int32>,\n",
      "  edge_src=<tf.Tensor: shape=(76,), dtype=int32>,\n",
      "  graph_indicator=<tf.Tensor: shape=(37,), dtype=int32>)\n",
      "\n",
      "node_feature shape: (37, 11)\n",
      "edge_dst shape:     (76,)\n",
      "edge_src shape:     (76,)\n",
      "edge_feature shape: (76, 5)\n",
      "graph_indicator:    [0 0 0 0 0 0 0 0 0 0 0 0 0 0 0 0 0 0 0 1 1 1 1 1 2 2 2 2 2 2 2 2 2 2 2 2 2]\n"
     ]
    }
   ],
   "source": [
    "graph_tensor = graph_tensor.merge()\n",
    "\n",
    "print(graph_tensor, end='\\n\\n')\n",
    "print('node_feature shape:', graph_tensor.node_feature.shape)\n",
    "print('edge_dst shape:    ', graph_tensor.edge_dst.shape)\n",
    "print('edge_src shape:    ', graph_tensor.edge_src.shape)\n",
    "print('edge_feature shape:', graph_tensor.edge_feature.shape)\n",
    "print('graph_indicator:   ', graph_tensor.graph_indicator.numpy())"
   ]
  },
  {
   "cell_type": "markdown",
   "metadata": {},
   "source": [
    "### Separate subgraphs of **GraphTensor**\n",
    "\n",
    "By converting nested tensors to ragged tensors, via the `separate()` method, a batchable representation of `GraphTensor` is obtained (see later)."
   ]
  },
  {
   "cell_type": "code",
   "execution_count": 4,
   "metadata": {},
   "outputs": [
    {
     "name": "stdout",
     "output_type": "stream",
     "text": [
      "GraphTensor(\n",
      "  node_feature=<tf.RaggedTensor: shape=(3, None, 11), dtype=float32>,\n",
      "  edge_feature=<tf.RaggedTensor: shape=(3, None, 5), dtype=float32>,\n",
      "  positional_encoding=<tf.RaggedTensor: shape=(3, None, 16), dtype=float32>,\n",
      "  edge_dst=<tf.RaggedTensor: shape=(3, None), dtype=int32>,\n",
      "  edge_src=<tf.RaggedTensor: shape=(3, None), dtype=int32>)\n",
      "\n",
      "node_feature shape: (3, None, 11)\n",
      "edge_dst shape:     (3, None)\n",
      "edge_src shape:     (3, None)\n",
      "edge_feature shape: (3, None, 5)\n"
     ]
    }
   ],
   "source": [
    "graph_tensor = graph_tensor.separate()\n",
    "\n",
    "print(graph_tensor, end='\\n\\n')\n",
    "print('node_feature shape:', graph_tensor.node_feature.shape)\n",
    "print('edge_dst shape:    ', graph_tensor.edge_dst.shape)\n",
    "print('edge_src shape:    ', graph_tensor.edge_src.shape)\n",
    "print('edge_feature shape:', graph_tensor.edge_feature.shape)"
   ]
  },
  {
   "cell_type": "markdown",
   "metadata": {},
   "source": [
    "### Update the **GraphTensor**\n",
    "\n",
    "The `GraphTensor` can conveniently be updated, via the `update()` and `remove()` method."
   ]
  },
  {
   "cell_type": "code",
   "execution_count": 5,
   "metadata": {},
   "outputs": [
    {
     "data": {
      "text/plain": [
       "GraphTensor(\n",
       "  node_feature=<tf.Tensor: shape=(37, 11), dtype=float32>,\n",
       "  positional_encoding=<tf.Tensor: shape=(37, 16), dtype=float32>,\n",
       "  edge_dst=<tf.Tensor: shape=(76,), dtype=int32>,\n",
       "  edge_src=<tf.Tensor: shape=(76,), dtype=int32>,\n",
       "  graph_indicator=<tf.Tensor: shape=(37,), dtype=int32>,\n",
       "  random_features=<tf.Tensor: shape=(37, 11), dtype=float32>)"
      ]
     },
     "execution_count": 5,
     "metadata": {},
     "output_type": "execute_result"
    }
   ],
   "source": [
    "graph_tensor = graph_tensor.merge()\n",
    "\n",
    "random_features = tf.random.uniform(shape=graph_tensor['node_feature'].shape)\n",
    "graph_tensor = graph_tensor.update({'random_features': random_features})\n",
    "\n",
    "graph_tensor = graph_tensor.remove(['edge_feature'])\n",
    "\n",
    "graph_tensor"
   ]
  },
  {
   "cell_type": "markdown",
   "metadata": {},
   "source": [
    "### Index the **GraphTensor**\n",
    "\n",
    "The `GraphTensor` can be indexed either by passing a `str` (to obtain a specific field of `GraphTensor`) or `int`, `list[int]` or `slice` (to extract specific subgraphs (molecules) from `GraphTensor`). (Alternatively, the `GraphTensor` can be passed to `tf.gather` to extract specific subgraphs.)"
   ]
  },
  {
   "cell_type": "code",
   "execution_count": 6,
   "metadata": {
    "scrolled": false
   },
   "outputs": [
    {
     "name": "stdout",
     "output_type": "stream",
     "text": [
      "GraphTensor(\n",
      "  node_feature=<tf.Tensor: shape=(37, 11), dtype=float32>,\n",
      "  positional_encoding=<tf.Tensor: shape=(37, 16), dtype=float32>,\n",
      "  edge_dst=<tf.Tensor: shape=(76,), dtype=int32>,\n",
      "  edge_src=<tf.Tensor: shape=(76,), dtype=int32>,\n",
      "  graph_indicator=<tf.Tensor: shape=(37,), dtype=int32>,\n",
      "  random_features=<tf.Tensor: shape=(37, 11), dtype=float32>)\n",
      "\n",
      "GraphTensor(\n",
      "  node_feature=<tf.Tensor: shape=(18, 11), dtype=float32>,\n",
      "  positional_encoding=<tf.Tensor: shape=(18, 16), dtype=float32>,\n",
      "  random_features=<tf.Tensor: shape=(18, 11), dtype=float32>,\n",
      "  edge_dst=<tf.Tensor: shape=(34,), dtype=int32>,\n",
      "  edge_src=<tf.Tensor: shape=(34,), dtype=int32>,\n",
      "  graph_indicator=<tf.Tensor: shape=(18,), dtype=int32>)\n",
      "\n",
      "GraphTensor(\n",
      "  node_feature=<tf.Tensor: shape=(18, 11), dtype=float32>,\n",
      "  positional_encoding=<tf.Tensor: shape=(18, 16), dtype=float32>,\n",
      "  random_features=<tf.Tensor: shape=(18, 11), dtype=float32>,\n",
      "  edge_dst=<tf.Tensor: shape=(34,), dtype=int32>,\n",
      "  edge_src=<tf.Tensor: shape=(34,), dtype=int32>,\n",
      "  graph_indicator=<tf.Tensor: shape=(18,), dtype=int32>)\n",
      "\n",
      "GraphTensor(\n",
      "  node_feature=<tf.RaggedTensor: shape=(2, None, 11), dtype=float32>,\n",
      "  positional_encoding=<tf.RaggedTensor: shape=(2, None, 16), dtype=float32>,\n",
      "  random_features=<tf.RaggedTensor: shape=(2, None, 11), dtype=float32>,\n",
      "  edge_dst=<tf.RaggedTensor: shape=(2, None), dtype=int32>,\n",
      "  edge_src=<tf.RaggedTensor: shape=(2, None), dtype=int32>)\n",
      "\n"
     ]
    }
   ],
   "source": [
    "print(graph_tensor, end='\\n\\n')\n",
    "print(graph_tensor[[1, 2]], end='\\n\\n')\n",
    "print(graph_tensor[1:3], end='\\n\\n')\n",
    "print(graph_tensor.separate()[[1, 2]], end='\\n\\n')"
   ]
  },
  {
   "cell_type": "markdown",
   "metadata": {},
   "source": [
    "### Concatenating **GraphTensor**s"
   ]
  },
  {
   "cell_type": "code",
   "execution_count": 7,
   "metadata": {},
   "outputs": [
    {
     "name": "stdout",
     "output_type": "stream",
     "text": [
      "GraphTensor(\n",
      "  node_feature=<tf.Tensor: shape=(74, 11), dtype=float32>,\n",
      "  positional_encoding=<tf.Tensor: shape=(74, 16), dtype=float32>,\n",
      "  edge_dst=<tf.Tensor: shape=(152,), dtype=int32>,\n",
      "  edge_src=<tf.Tensor: shape=(152,), dtype=int32>,\n",
      "  graph_indicator=<tf.Tensor: shape=(74,), dtype=int32>,\n",
      "  random_features=<tf.Tensor: shape=(74, 11), dtype=float32>)\n",
      "\n",
      "GraphTensor(\n",
      "  node_feature=<tf.RaggedTensor: shape=(6, None, 11), dtype=float32>,\n",
      "  positional_encoding=<tf.RaggedTensor: shape=(6, None, 16), dtype=float32>,\n",
      "  random_features=<tf.RaggedTensor: shape=(6, None, 11), dtype=float32>,\n",
      "  edge_dst=<tf.RaggedTensor: shape=(6, None), dtype=int32>,\n",
      "  edge_src=<tf.RaggedTensor: shape=(6, None), dtype=int32>)\n",
      "\n"
     ]
    }
   ],
   "source": [
    "print(tf.concat([\n",
    "    graph_tensor, \n",
    "    graph_tensor], axis=0), end='\\n\\n')\n",
    "\n",
    "print(tf.concat([\n",
    "    graph_tensor.separate(), \n",
    "    graph_tensor.separate()], axis=0), end='\\n\\n')"
   ]
  },
  {
   "cell_type": "markdown",
   "metadata": {},
   "source": [
    "### Spec of **GraphTensor**\n",
    "\n",
    "With the `GraphTensor` an associated `GraphTensorSpec` exist. The `GraphTensorSpec` can be obtained via the `.spec` or `.unspecific_spec` property. The latter is recommended, namely, to leave the outermost dimension \"unknown\" (None), as the number of nodes and edges vary from input to input. "
   ]
  },
  {
   "cell_type": "code",
   "execution_count": 8,
   "metadata": {},
   "outputs": [
    {
     "name": "stdout",
     "output_type": "stream",
     "text": [
      "spec: GraphTensorSpec({'node_feature': TensorSpec(shape=(37, 11), dtype=tf.float32, name=None), 'positional_encoding': TensorSpec(shape=(37, 16), dtype=tf.float32, name=None), 'edge_dst': TensorSpec(shape=(76,), dtype=tf.int32, name=None), 'edge_src': TensorSpec(shape=(76,), dtype=tf.int32, name=None), 'graph_indicator': TensorSpec(shape=(37,), dtype=tf.int32, name=None), 'random_features': TensorSpec(shape=(37, 11), dtype=tf.float32, name=None)}, TensorShape([37, 11]), tf.float32)\n",
      "\n",
      "unspecific spec: GraphTensorSpec({'node_feature': TensorSpec(shape=(None, 11), dtype=tf.float32, name=None), 'positional_encoding': TensorSpec(shape=(None, 16), dtype=tf.float32, name=None), 'edge_dst': TensorSpec(shape=(None,), dtype=tf.int32, name=None), 'edge_src': TensorSpec(shape=(None,), dtype=tf.int32, name=None), 'graph_indicator': TensorSpec(shape=(None,), dtype=tf.int32, name=None), 'random_features': TensorSpec(shape=(None, 11), dtype=tf.float32, name=None)}, TensorShape([None, 11]), tf.float32)\n",
      "\n"
     ]
    }
   ],
   "source": [
    "print('spec:', graph_tensor.spec, end='\\n\\n')\n",
    "print('unspecific spec:', graph_tensor.unspecific_spec, end='\\n\\n')"
   ]
  },
  {
   "cell_type": "markdown",
   "metadata": {},
   "source": [
    "### Properties of **GraphTensor**"
   ]
  },
  {
   "cell_type": "code",
   "execution_count": 9,
   "metadata": {},
   "outputs": [
    {
     "name": "stdout",
     "output_type": "stream",
     "text": [
      "(partial) shape: (37, 11)\n",
      "(partial) dtype: float32\n",
      "(partial) rank:  2\n"
     ]
    }
   ],
   "source": [
    "print('(partial) shape:', graph_tensor.shape)\n",
    "print('(partial) dtype:', graph_tensor.dtype.name)\n",
    "print('(partial) rank: ', graph_tensor.rank)"
   ]
  },
  {
   "cell_type": "markdown",
   "metadata": {},
   "source": [
    "### Passing **GraphTensor** to **tf.data.Dataset** \n",
    "\n",
    "The \"separated\" (\"ragged\") `GraphTensor` can be passed to a TF dataset, and subsequently batched (for modeling)."
   ]
  },
  {
   "cell_type": "code",
   "execution_count": 10,
   "metadata": {},
   "outputs": [
    {
     "data": {
      "text/plain": [
       "<TensorSliceDataset element_spec=GraphTensorSpec({'node_feature': RaggedTensorSpec(TensorShape([None, 11]), tf.float32, 0, tf.int32), 'positional_encoding': RaggedTensorSpec(TensorShape([None, 16]), tf.float32, 0, tf.int32), 'random_features': RaggedTensorSpec(TensorShape([None, 11]), tf.float32, 0, tf.int32), 'edge_dst': RaggedTensorSpec(TensorShape([None]), tf.int32, 0, tf.int32), 'edge_src': RaggedTensorSpec(TensorShape([None]), tf.int32, 0, tf.int32)}, TensorShape([None, 11]), tf.float32)>"
      ]
     },
     "execution_count": 10,
     "metadata": {},
     "output_type": "execute_result"
    }
   ],
   "source": [
    "graph_tensor = graph_tensor.separate()\n",
    "ds = tf.data.Dataset.from_tensor_slices(graph_tensor)\n",
    "ds"
   ]
  },
  {
   "cell_type": "code",
   "execution_count": 11,
   "metadata": {},
   "outputs": [
    {
     "data": {
      "text/plain": [
       "GraphTensor(\n",
       "  node_feature=<tf.Tensor: shape=(24, 11), dtype=float32>,\n",
       "  positional_encoding=<tf.Tensor: shape=(24, 16), dtype=float32>,\n",
       "  random_features=<tf.Tensor: shape=(24, 11), dtype=float32>,\n",
       "  edge_dst=<tf.Tensor: shape=(50,), dtype=int32>,\n",
       "  edge_src=<tf.Tensor: shape=(50,), dtype=int32>,\n",
       "  graph_indicator=<tf.Tensor: shape=(24,), dtype=int32>)"
      ]
     },
     "execution_count": 11,
     "metadata": {},
     "output_type": "execute_result"
    }
   ],
   "source": [
    "for x in ds.batch(2).map(lambda x: x.merge()).take(1):\n",
    "    pass\n",
    "x"
   ]
  },
  {
   "cell_type": "markdown",
   "metadata": {},
   "source": [
    "### Passing **GraphTensor**  to GNN layers\n",
    "\n",
    "The `GraphTensor` can be passed to GNN layers either as a single disjoint graph or subgraphs."
   ]
  },
  {
   "cell_type": "code",
   "execution_count": 12,
   "metadata": {},
   "outputs": [
    {
     "name": "stdout",
     "output_type": "stream",
     "text": [
      "GraphTensor(\n",
      "  node_feature=<tf.Tensor: shape=(24, 128), dtype=float32>,\n",
      "  positional_encoding=<tf.Tensor: shape=(24, 16), dtype=float32>,\n",
      "  random_features=<tf.Tensor: shape=(24, 11), dtype=float32>,\n",
      "  edge_dst=<tf.Tensor: shape=(50,), dtype=int32>,\n",
      "  edge_src=<tf.Tensor: shape=(50,), dtype=int32>,\n",
      "  graph_indicator=<tf.Tensor: shape=(24,), dtype=int32>)\n",
      "\n",
      "GraphTensor(\n",
      "  node_feature=<tf.RaggedTensor: shape=(2, None, 128), dtype=float32>,\n",
      "  positional_encoding=<tf.RaggedTensor: shape=(2, None, 16), dtype=float32>,\n",
      "  random_features=<tf.RaggedTensor: shape=(2, None, 11), dtype=float32>,\n",
      "  edge_dst=<tf.RaggedTensor: shape=(2, None), dtype=int32>,\n",
      "  edge_src=<tf.RaggedTensor: shape=(2, None), dtype=int32>)\n",
      "\n"
     ]
    }
   ],
   "source": [
    "gcn_layer = GCNConv(128)\n",
    "\n",
    "print(gcn_layer(x), end='\\n\\n')\n",
    "print(gcn_layer(x.separate()), end='\\n\\n')"
   ]
  },
  {
   "cell_type": "markdown",
   "metadata": {},
   "source": [
    "### Additional features of **GraphTensor**"
   ]
  },
  {
   "cell_type": "code",
   "execution_count": 13,
   "metadata": {},
   "outputs": [
    {
     "name": "stdout",
     "output_type": "stream",
     "text": [
      "extracted node_feature shape = (37, 11)\n",
      "\n",
      "GraphTensor(\n",
      "  node_feature=<tf.RaggedTensor: shape=(3, None, 11), dtype=float32>,\n",
      "  positional_encoding=<tf.RaggedTensor: shape=(3, None, 16), dtype=float32>,\n",
      "  random_features=<tf.RaggedTensor: shape=(3, None, 11), dtype=float32>,\n",
      "  edge_dst=<tf.RaggedTensor: shape=(3, None), dtype=int32>,\n",
      "  edge_src=<tf.RaggedTensor: shape=(3, None), dtype=int32>)\n",
      "\n",
      "--------------------------\n",
      "\n",
      "extracted node_feature shape = (3, None, 11)\n",
      "\n",
      "GraphTensor(\n",
      "  node_feature=<tf.Tensor: shape=(37, 11), dtype=float32>,\n",
      "  positional_encoding=<tf.Tensor: shape=(37, 16), dtype=float32>,\n",
      "  random_features=<tf.Tensor: shape=(37, 11), dtype=float32>,\n",
      "  edge_dst=<tf.Tensor: shape=(76,), dtype=int32>,\n",
      "  edge_src=<tf.Tensor: shape=(76,), dtype=int32>,\n",
      "  graph_indicator=<tf.Tensor: shape=(37,), dtype=int32>)\n"
     ]
    }
   ],
   "source": [
    "# Convert extracted `node_feature` from tf.RaggedTensor to tf.Tensor\n",
    "node_feature = graph_tensor.node_feature.merge_dims(outer_axis=0, inner_axis=1)\n",
    "print('extracted node_feature shape =', node_feature.shape, end='\\n\\n')\n",
    "# The `GraphTensor` automatically converts it back to tf.RaggedTensor\n",
    "graph_tensor = graph_tensor.update({'node_feature': node_feature})\n",
    "print(graph_tensor, end='\\n')\n",
    "\n",
    "print('\\n--------------------------\\n')\n",
    "\n",
    "# Keep extracted `node_feature` as tf.RaggedTensor\n",
    "node_feature = graph_tensor.node_feature\n",
    "print('extracted node_feature shape =', node_feature.shape, end='\\n\\n')\n",
    "# Merge `GraphTensor` (causing nested tensors to be tf.Tensors)\n",
    "graph_tensor = graph_tensor.merge()\n",
    "graph_tensor = graph_tensor.update({'node_feature': node_feature})\n",
    "print(graph_tensor)"
   ]
  },
  {
   "cell_type": "markdown",
   "metadata": {},
   "source": [
    "### Passing **GraphTensor** to GNN models"
   ]
  },
  {
   "cell_type": "code",
   "execution_count": 14,
   "metadata": {},
   "outputs": [
    {
     "name": "stdout",
     "output_type": "stream",
     "text": [
      "Epoch 1/5\n",
      "1/1 [==============================] - 2s 2s/step - loss: 18.3237\n",
      "Epoch 2/5\n",
      "1/1 [==============================] - 0s 2ms/step - loss: 11.9341\n",
      "Epoch 3/5\n",
      "1/1 [==============================] - 0s 3ms/step - loss: 7.3798\n",
      "Epoch 4/5\n",
      "1/1 [==============================] - 0s 3ms/step - loss: 5.4474\n",
      "Epoch 5/5\n",
      "1/1 [==============================] - 0s 3ms/step - loss: 4.3624\n",
      "\n",
      "------------------------------\n",
      "\n",
      "Epoch 1/5\n",
      "1/1 [==============================] - 0s 2ms/step - loss: 3.5649\n",
      "Epoch 2/5\n",
      "1/1 [==============================] - 0s 3ms/step - loss: 2.8893\n",
      "Epoch 3/5\n",
      "1/1 [==============================] - 0s 3ms/step - loss: 2.3168\n",
      "Epoch 4/5\n",
      "1/1 [==============================] - 0s 2ms/step - loss: 1.8485\n",
      "Epoch 5/5\n",
      "1/1 [==============================] - 0s 3ms/step - loss: 1.4536\n"
     ]
    }
   ],
   "source": [
    "model = tf.keras.Sequential([\n",
    "    tf.keras.layers.Input(type_spec=graph_tensor.unspecific_spec),\n",
    "    GCNConv(),\n",
    "    GCNConv(),\n",
    "    Readout(),\n",
    "    tf.keras.layers.Dense(1)\n",
    "])\n",
    "\n",
    "y_dummy = tf.constant([5.1, 2.3, -5.1])\n",
    "\n",
    "\n",
    "model.compile('sgd', 'mse')\n",
    "model.fit(graph_tensor.separate(), y_dummy, epochs=5)\n",
    "\n",
    "print('\\n------------------------------\\n')\n",
    "\n",
    "dataset = tf.data.Dataset.from_tensor_slices((graph_tensor.separate(), y_dummy)).batch(3)\n",
    "model.fit(dataset, epochs=5);"
   ]
  }
 ],
 "metadata": {
  "celltoolbar": "Edit Metadata",
  "kernelspec": {
   "display_name": "Python 3",
   "language": "python",
   "name": "python3"
  },
  "language_info": {
   "codemirror_mode": {
    "name": "ipython",
    "version": 3
   },
   "file_extension": ".py",
   "mimetype": "text/x-python",
   "name": "python",
   "nbconvert_exporter": "python",
   "pygments_lexer": "ipython3",
   "version": "3.8.10"
  }
 },
 "nbformat": 4,
 "nbformat_minor": 4
}

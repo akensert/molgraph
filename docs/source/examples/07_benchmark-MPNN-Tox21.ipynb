{
 "cells": [
  {
   "cell_type": "markdown",
   "metadata": {},
   "source": [
    "# Benchmark MPNN model on the Tox21 dataset (with Masked Loss)"
   ]
  },
  {
   "cell_type": "code",
   "execution_count": 4,
   "metadata": {},
   "outputs": [],
   "source": [
    "import sys\n",
    "sys.path.append('../../../')\n",
    "\n",
    "import pandas as pd\n",
    "import numpy as np\n",
    "import matplotlib.pyplot as plt\n",
    "import tensorflow as tf\n",
    "from tensorflow import keras\n",
    "\n",
    "\n",
    "from molgraph.chemistry.benchmark import configs\n",
    "from molgraph.chemistry.benchmark import tf_records\n",
    "from molgraph.chemistry import datasets\n",
    "from molgraph.losses import MaskedBinaryCrossentropy"
   ]
  },
  {
   "cell_type": "markdown",
   "metadata": {},
   "source": [
    "### Define molecular graph encoder"
   ]
  },
  {
   "cell_type": "code",
   "execution_count": 8,
   "metadata": {},
   "outputs": [],
   "source": [
    "from molgraph.chemistry import features\n",
    "from molgraph.chemistry import AtomFeaturizer, BondFeaturizer\n",
    "from molgraph.chemistry import MolecularGraphEncoder\n",
    "\n",
    "atom_encoder = AtomFeaturizer([\n",
    "    features.Symbol(),\n",
    "    features.Hybridization(),\n",
    "    features.FormalCharge(),\n",
    "    features.TotalNumHs(),\n",
    "    features.TotalValence(),\n",
    "    features.NumRadicalElectrons(),\n",
    "    features.Degree(),\n",
    "    features.ChiralCenter(),\n",
    "    features.Aromatic(),\n",
    "    features.Ring(),\n",
    "    features.Hetero(),\n",
    "    features.HydrogenDonor(),\n",
    "    features.HydrogenAcceptor(),\n",
    "    features.CIPCode(),\n",
    "    features.ChiralCenter(),\n",
    "    features.RingSize(),\n",
    "    features.Ring(),\n",
    "    features.CrippenLogPContribution(),\n",
    "    features.CrippenMolarRefractivityContribution(),\n",
    "    features.TPSAContribution(),\n",
    "    features.LabuteASAContribution(),\n",
    "    features.GasteigerCharge(),\n",
    "])\n",
    "\n",
    "bond_encoder = BondFeaturizer([\n",
    "    features.BondType(),\n",
    "    features.Conjugated(),\n",
    "    features.Rotatable(),\n",
    "    features.Ring(),\n",
    "    features.Stereo(),\n",
    "])\n",
    "\n",
    "encoder = MolecularGraphEncoder(\n",
    "    atom_encoder,\n",
    "    bond_encoder,\n",
    "    positional_encoding_dim=16,\n",
    "    self_loops=False\n",
    ")"
   ]
  },
  {
   "cell_type": "markdown",
   "metadata": {},
   "source": [
    "### Obtain dataset and molecular graph"
   ]
  },
  {
   "cell_type": "code",
   "execution_count": 9,
   "metadata": {},
   "outputs": [],
   "source": [
    "tox21 = datasets.get('tox21')\n",
    "\n",
    "x_train = encoder(tox21['train']['x'])\n",
    "y_train = tox21['train']['y']\n",
    "\n",
    "x_val = encoder(tox21['validation']['x'])\n",
    "y_val = tox21['validation']['y']\n",
    "\n",
    "x_test = encoder(tox21['test']['x'])\n",
    "y_test = tox21['test']['y']\n",
    "\n",
    "type_spec = x_train.merge().unspecific_spec"
   ]
  },
  {
   "cell_type": "markdown",
   "metadata": {},
   "source": [
    "### `tf.data.Dataset` API"
   ]
  },
  {
   "cell_type": "code",
   "execution_count": 11,
   "metadata": {},
   "outputs": [],
   "source": [
    "train_ds = (\n",
    "    tf.data.Dataset.from_tensor_slices((x_train, y_train))\n",
    "    .shuffle(1024)\n",
    "    .batch(32)\n",
    "    .map(lambda x, *args: (x.merge(), *args), -1)\n",
    "    .prefetch(-1)\n",
    ")\n",
    "\n",
    "val_ds = (\n",
    "    tf.data.Dataset.from_tensor_slices((x_val, y_val))\n",
    "    .batch(32)\n",
    "    .map(lambda x, *args: (x.merge(), *args), -1)\n",
    "    .prefetch(-1)\n",
    ")\n",
    "\n",
    "test_ds = (\n",
    "    tf.data.Dataset.from_tensor_slices((x_test, y_test))\n",
    "    .batch(32)\n",
    "    .map(lambda x, *args: (x.merge(), *args), -1)\n",
    "    .prefetch(-1)\n",
    ")"
   ]
  },
  {
   "cell_type": "markdown",
   "metadata": {},
   "source": [
    "### `tf.keras.Sequential` API"
   ]
  },
  {
   "cell_type": "code",
   "execution_count": 22,
   "metadata": {
    "scrolled": false
   },
   "outputs": [
    {
     "name": "stdout",
     "output_type": "stream",
     "text": [
      "Epoch 1/50\n",
      "196/196 [==============================] - 5s 13ms/step - loss: 0.2220 - roc_auc: 0.6788 - val_loss: 0.2962 - val_roc_auc: 0.7679 - lr: 1.0000e-04\n",
      "Epoch 2/50\n",
      "196/196 [==============================] - 2s 9ms/step - loss: 0.1926 - roc_auc: 0.7657 - val_loss: 0.1946 - val_roc_auc: 0.8029 - lr: 1.0000e-04\n",
      "Epoch 3/50\n",
      "196/196 [==============================] - 2s 9ms/step - loss: 0.1860 - roc_auc: 0.7901 - val_loss: 0.1833 - val_roc_auc: 0.8110 - lr: 1.0000e-04\n",
      "Epoch 4/50\n",
      "196/196 [==============================] - 2s 9ms/step - loss: 0.1820 - roc_auc: 0.8046 - val_loss: 0.1704 - val_roc_auc: 0.8057 - lr: 1.0000e-04\n",
      "Epoch 5/50\n",
      "196/196 [==============================] - 2s 9ms/step - loss: 0.1773 - roc_auc: 0.8200 - val_loss: 0.1598 - val_roc_auc: 0.8315 - lr: 1.0000e-04\n",
      "Epoch 6/50\n",
      "196/196 [==============================] - 2s 9ms/step - loss: 0.1737 - roc_auc: 0.8295 - val_loss: 0.1591 - val_roc_auc: 0.8339 - lr: 1.0000e-04\n",
      "Epoch 7/50\n",
      "196/196 [==============================] - 2s 9ms/step - loss: 0.1708 - roc_auc: 0.8363 - val_loss: 0.1575 - val_roc_auc: 0.8283 - lr: 1.0000e-04\n",
      "Epoch 8/50\n",
      "196/196 [==============================] - 2s 9ms/step - loss: 0.1680 - roc_auc: 0.8451 - val_loss: 0.1575 - val_roc_auc: 0.8373 - lr: 1.0000e-04\n",
      "Epoch 9/50\n",
      "196/196 [==============================] - 2s 9ms/step - loss: 0.1637 - roc_auc: 0.8541 - val_loss: 0.1609 - val_roc_auc: 0.8334 - lr: 1.0000e-04\n",
      "Epoch 10/50\n",
      "196/196 [==============================] - 2s 9ms/step - loss: 0.1621 - roc_auc: 0.8567 - val_loss: 0.1582 - val_roc_auc: 0.8384 - lr: 1.0000e-04\n",
      "Epoch 11/50\n",
      "196/196 [==============================] - 2s 9ms/step - loss: 0.1591 - roc_auc: 0.8656 - val_loss: 0.1658 - val_roc_auc: 0.8284 - lr: 1.0000e-04\n",
      "Epoch 12/50\n",
      "196/196 [==============================] - 2s 9ms/step - loss: 0.1581 - roc_auc: 0.8683 - val_loss: 0.1571 - val_roc_auc: 0.8475 - lr: 1.0000e-04\n",
      "Epoch 13/50\n",
      "196/196 [==============================] - 2s 9ms/step - loss: 0.1551 - roc_auc: 0.8735 - val_loss: 0.1537 - val_roc_auc: 0.8417 - lr: 1.0000e-04\n",
      "Epoch 14/50\n",
      "196/196 [==============================] - 2s 9ms/step - loss: 0.1522 - roc_auc: 0.8803 - val_loss: 0.1571 - val_roc_auc: 0.8486 - lr: 1.0000e-04\n",
      "Epoch 15/50\n",
      "196/196 [==============================] - 2s 9ms/step - loss: 0.1509 - roc_auc: 0.8825 - val_loss: 0.1565 - val_roc_auc: 0.8434 - lr: 1.0000e-04\n",
      "Epoch 16/50\n",
      "196/196 [==============================] - 2s 9ms/step - loss: 0.1496 - roc_auc: 0.8866 - val_loss: 0.1551 - val_roc_auc: 0.8459 - lr: 1.0000e-04\n",
      "Epoch 17/50\n",
      "196/196 [==============================] - 2s 9ms/step - loss: 0.1462 - roc_auc: 0.8935 - val_loss: 0.1539 - val_roc_auc: 0.8466 - lr: 1.0000e-04\n",
      "Epoch 18/50\n",
      "196/196 [==============================] - 2s 9ms/step - loss: 0.1451 - roc_auc: 0.8957 - val_loss: 0.1538 - val_roc_auc: 0.8425 - lr: 1.0000e-04\n",
      "Epoch 19/50\n",
      "196/196 [==============================] - 2s 9ms/step - loss: 0.1424 - roc_auc: 0.8997 - val_loss: 0.1533 - val_roc_auc: 0.8516 - lr: 1.0000e-04\n",
      "Epoch 20/50\n",
      "196/196 [==============================] - 2s 9ms/step - loss: 0.1400 - roc_auc: 0.9036 - val_loss: 0.1544 - val_roc_auc: 0.8471 - lr: 1.0000e-04\n",
      "Epoch 21/50\n",
      "196/196 [==============================] - 2s 9ms/step - loss: 0.1382 - roc_auc: 0.9087 - val_loss: 0.1566 - val_roc_auc: 0.8515 - lr: 1.0000e-04\n",
      "Epoch 22/50\n",
      "196/196 [==============================] - 2s 9ms/step - loss: 0.1370 - roc_auc: 0.9100 - val_loss: 0.1522 - val_roc_auc: 0.8482 - lr: 1.0000e-04\n",
      "Epoch 23/50\n",
      "196/196 [==============================] - 2s 9ms/step - loss: 0.1350 - roc_auc: 0.9133 - val_loss: 0.1544 - val_roc_auc: 0.8466 - lr: 1.0000e-04\n",
      "Epoch 24/50\n",
      "196/196 [==============================] - 2s 9ms/step - loss: 0.1315 - roc_auc: 0.9198 - val_loss: 0.1631 - val_roc_auc: 0.8475 - lr: 1.0000e-04\n",
      "Epoch 25/50\n",
      "196/196 [==============================] - 2s 9ms/step - loss: 0.1246 - roc_auc: 0.9318 - val_loss: 0.1519 - val_roc_auc: 0.8542 - lr: 1.0000e-05\n",
      "Epoch 26/50\n",
      "196/196 [==============================] - 2s 9ms/step - loss: 0.1227 - roc_auc: 0.9337 - val_loss: 0.1503 - val_roc_auc: 0.8540 - lr: 1.0000e-05\n",
      "Epoch 27/50\n",
      "196/196 [==============================] - 2s 9ms/step - loss: 0.1222 - roc_auc: 0.9344 - val_loss: 0.1496 - val_roc_auc: 0.8556 - lr: 1.0000e-05\n",
      "Epoch 28/50\n",
      "196/196 [==============================] - 2s 9ms/step - loss: 0.1211 - roc_auc: 0.9369 - val_loss: 0.1494 - val_roc_auc: 0.8557 - lr: 1.0000e-05\n",
      "Epoch 29/50\n",
      "196/196 [==============================] - 2s 9ms/step - loss: 0.1213 - roc_auc: 0.9355 - val_loss: 0.1500 - val_roc_auc: 0.8531 - lr: 1.0000e-05\n",
      "Epoch 30/50\n",
      "196/196 [==============================] - 2s 9ms/step - loss: 0.1198 - roc_auc: 0.9373 - val_loss: 0.1496 - val_roc_auc: 0.8571 - lr: 1.0000e-05\n",
      "Epoch 31/50\n",
      "196/196 [==============================] - 2s 9ms/step - loss: 0.1200 - roc_auc: 0.9377 - val_loss: 0.1507 - val_roc_auc: 0.8557 - lr: 1.0000e-05\n",
      "Epoch 32/50\n",
      "196/196 [==============================] - 2s 9ms/step - loss: 0.1195 - roc_auc: 0.9377 - val_loss: 0.1504 - val_roc_auc: 0.8556 - lr: 1.0000e-05\n",
      "Epoch 33/50\n",
      "196/196 [==============================] - 2s 10ms/step - loss: 0.1191 - roc_auc: 0.9388 - val_loss: 0.1515 - val_roc_auc: 0.8511 - lr: 1.0000e-05\n",
      "Epoch 34/50\n",
      "196/196 [==============================] - 2s 9ms/step - loss: 0.1183 - roc_auc: 0.9395 - val_loss: 0.1511 - val_roc_auc: 0.8497 - lr: 1.0000e-05\n",
      "Epoch 35/50\n",
      "196/196 [==============================] - 2s 9ms/step - loss: 0.1188 - roc_auc: 0.9390 - val_loss: 0.1508 - val_roc_auc: 0.8526 - lr: 1.0000e-05\n",
      "Epoch 36/50\n",
      "196/196 [==============================] - 2s 9ms/step - loss: 0.1175 - roc_auc: 0.9408 - val_loss: 0.1496 - val_roc_auc: 0.8535 - lr: 1.0000e-06\n",
      "Epoch 37/50\n",
      "196/196 [==============================] - 2s 9ms/step - loss: 0.1170 - roc_auc: 0.9424 - val_loss: 0.1511 - val_roc_auc: 0.8546 - lr: 1.0000e-06\n",
      "Epoch 38/50\n",
      "196/196 [==============================] - 2s 9ms/step - loss: 0.1171 - roc_auc: 0.9415 - val_loss: 0.1500 - val_roc_auc: 0.8525 - lr: 1.0000e-06\n",
      "Epoch 39/50\n",
      "196/196 [==============================] - 2s 9ms/step - loss: 0.1177 - roc_auc: 0.9406 - val_loss: 0.1502 - val_roc_auc: 0.8502 - lr: 1.0000e-06\n",
      "Epoch 40/50\n",
      "196/196 [==============================] - 2s 9ms/step - loss: 0.1174 - roc_auc: 0.9411 - val_loss: 0.1506 - val_roc_auc: 0.8530 - lr: 1.0000e-06\n",
      "25/25 [==============================] - 0s 4ms/step - loss: 0.1802 - roc_auc: 0.8209\n"
     ]
    },
    {
     "data": {
      "text/plain": [
       "[0.18020465970039368, 0.8208696246147156]"
      ]
     },
     "execution_count": 22,
     "metadata": {},
     "output_type": "execute_result"
    }
   ],
   "source": [
    "from molgraph.layers import MPNNConv\n",
    "from molgraph.layers import LaplacianPositionalEncoding\n",
    "from molgraph.layers import Readout\n",
    "from molgraph.layers import NodeMinMaxScaling, EdgeMinMaxScaling\n",
    "\n",
    "node_preprocessing = NodeMinMaxScaling(\n",
    "    feature_range=(0, 1), threshold=True)\n",
    "edge_preprocessing = EdgeMinMaxScaling(\n",
    "    feature_range=(0, 1), threshold=True)\n",
    "\n",
    "node_preprocessing.adapt(train_ds.map(lambda x, *args: x))\n",
    "edge_preprocessing.adapt(train_ds.map(lambda x, *args: x))\n",
    "\n",
    "model = tf.keras.Sequential([\n",
    "    keras.layers.Input(type_spec=type_spec),\n",
    "    node_preprocessing,\n",
    "    edge_preprocessing,\n",
    "    LaplacianPositionalEncoding(),\n",
    "    MPNNConv(),\n",
    "    MPNNConv(),\n",
    "    MPNNConv(),\n",
    "    Readout(),\n",
    "    keras.layers.Dense(1024, 'relu'),\n",
    "    keras.layers.Dense(1024, 'relu'),\n",
    "    keras.layers.Dense(y_train.shape[-1], 'sigmoid')\n",
    "])\n",
    "\n",
    "\n",
    "optimizer = keras.optimizers.Adam(1e-4)\n",
    "loss = MaskedBinaryCrossentropy(name='bce')\n",
    "metrics = [keras.metrics.AUC(name='roc_auc', multi_label=True)]\n",
    "\n",
    "callbacks = [\n",
    "    keras.callbacks.ReduceLROnPlateau(\n",
    "        monitor='val_roc_auc',\n",
    "        factor=0.1,\n",
    "        patience=5,\n",
    "        min_lr=1e-6,\n",
    "        mode='max',\n",
    "    ),\n",
    "    keras.callbacks.EarlyStopping(\n",
    "        monitor='val_roc_auc',\n",
    "        patience=10,\n",
    "        mode='max',\n",
    "        restore_best_weights=True,\n",
    "    )\n",
    "]\n",
    "\n",
    "model.compile(optimizer, loss, metrics)\n",
    "history = model.fit(\n",
    "    train_ds, callbacks=callbacks, validation_data=val_ds, epochs=50\n",
    ")\n",
    "model.evaluate(test_ds)"
   ]
  },
  {
   "cell_type": "code",
   "execution_count": 23,
   "metadata": {
    "tags": [
     "nbsphinx-thumbnail"
    ]
   },
   "outputs": [
    {
     "data": {
      "image/png": "[encoded data removed]",
      "text/plain": [
       "<Figure size 432x288 with 1 Axes>"
      ]
     },
     "metadata": {
      "needs_background": "light"
     },
     "output_type": "display_data"
    }
   ],
   "source": [
    "plt.plot(history.history['roc_auc'])\n",
    "plt.plot(history.history['val_roc_auc'])\n",
    "plt.ylim(0.65, 1);"
   ]
  },
  {
   "cell_type": "code",
   "execution_count": null,
   "metadata": {},
   "outputs": [],
   "source": []
  }
 ],
 "metadata": {
  "celltoolbar": "Edit Metadata",
  "kernelspec": {
   "display_name": "Python 3",
   "language": "python",
   "name": "python3"
  },
  "language_info": {
   "codemirror_mode": {
    "name": "ipython",
    "version": 3
   },
   "file_extension": ".py",
   "mimetype": "text/x-python",
   "name": "python",
   "nbconvert_exporter": "python",
   "pygments_lexer": "ipython3",
   "version": "3.8.10"
  }
 },
 "nbformat": 4,
 "nbformat_minor": 4
}

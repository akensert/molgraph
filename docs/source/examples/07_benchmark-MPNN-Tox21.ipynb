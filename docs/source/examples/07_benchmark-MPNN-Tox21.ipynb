{
 "cells": [
  {
   "cell_type": "markdown",
   "metadata": {},
   "source": [
    "# Benchmark MPNN model on the Tox21 dataset (with Masked Loss)"
   ]
  },
  {
   "cell_type": "code",
   "execution_count": 2,
   "metadata": {},
   "outputs": [],
   "source": [
    "import sys\n",
    "sys.path.append('../../../')\n",
    "\n",
    "import pandas as pd\n",
    "import numpy as np\n",
    "import matplotlib.pyplot as plt\n",
    "import tensorflow as tf\n",
    "from tensorflow import keras\n",
    "\n",
    "\n",
    "from molgraph.chemistry.benchmark import configs\n",
    "from molgraph.chemistry.benchmark import tf_records\n",
    "from molgraph.chemistry import datasets\n",
    "from molgraph.losses import MaskedBinaryCrossentropy"
   ]
  },
  {
   "cell_type": "markdown",
   "metadata": {},
   "source": [
    "### Define molecular graph encoder"
   ]
  },
  {
   "cell_type": "code",
   "execution_count": 3,
   "metadata": {},
   "outputs": [],
   "source": [
    "from molgraph.chemistry import features\n",
    "from molgraph.chemistry import AtomFeaturizer, BondFeaturizer\n",
    "from molgraph.chemistry import MolecularGraphEncoder\n",
    "\n",
    "atom_encoder = AtomFeaturizer([\n",
    "    features.Symbol(),\n",
    "    features.Hybridization(),\n",
    "    features.FormalCharge(),\n",
    "    features.TotalNumHs(),\n",
    "    features.TotalValence(),\n",
    "    features.NumRadicalElectrons(),\n",
    "    features.Degree(),\n",
    "    features.ChiralCenter(),\n",
    "    features.Aromatic(),\n",
    "    features.Ring(),\n",
    "    features.Hetero(),\n",
    "    features.HydrogenDonor(),\n",
    "    features.HydrogenAcceptor(),\n",
    "    features.CIPCode(),\n",
    "    features.ChiralCenter(),\n",
    "    features.RingSize(),\n",
    "    features.Ring(),\n",
    "    features.CrippenLogPContribution(),\n",
    "    features.CrippenMolarRefractivityContribution(),\n",
    "    features.TPSAContribution(),\n",
    "    features.LabuteASAContribution(),\n",
    "    features.GasteigerCharge(),\n",
    "])\n",
    "\n",
    "bond_encoder = BondFeaturizer([\n",
    "    features.BondType(),\n",
    "    features.Conjugated(),\n",
    "    features.Rotatable(),\n",
    "    features.Ring(),\n",
    "    features.Stereo(),\n",
    "])\n",
    "\n",
    "encoder = MolecularGraphEncoder(\n",
    "    atom_encoder,\n",
    "    bond_encoder,\n",
    "    positional_encoding_dim=16,\n",
    "    self_loops=False\n",
    ")"
   ]
  },
  {
   "cell_type": "markdown",
   "metadata": {},
   "source": [
    "### Obtain dataset and molecular graph"
   ]
  },
  {
   "cell_type": "code",
   "execution_count": 10,
   "metadata": {},
   "outputs": [],
   "source": [
    "tox21 = datasets.get('tox21')\n",
    "\n",
    "x_train = encoder(tox21['train']['x'])\n",
    "y_train = tox21['train']['y']\n",
    "y_mask_train = tox21['train']['y_mask']\n",
    "\n",
    "x_val = encoder(tox21['validation']['x'])\n",
    "y_val = tox21['validation']['y']\n",
    "y_mask_val = tox21['validation']['y_mask']\n",
    "\n",
    "x_test = encoder(tox21['test']['x'])\n",
    "y_test = tox21['test']['y']\n",
    "y_mask_test = tox21['test']['y_mask']\n",
    "\n",
    "type_spec = x_train.merge().unspecific_spec"
   ]
  },
  {
   "cell_type": "markdown",
   "metadata": {},
   "source": [
    "### `tf.data.Dataset` API"
   ]
  },
  {
   "cell_type": "code",
   "execution_count": 11,
   "metadata": {},
   "outputs": [],
   "source": [
    "train_ds = (\n",
    "    tf.data.Dataset.from_tensor_slices((x_train, y_train, y_mask_train))\n",
    "    .shuffle(1024)\n",
    "    .batch(32)\n",
    "    .map(lambda x, *args: (x.merge(), *args), -1)\n",
    "    .prefetch(-1)\n",
    ")\n",
    "\n",
    "val_ds = (\n",
    "    tf.data.Dataset.from_tensor_slices((x_val, y_val, y_mask_val))\n",
    "    .batch(32)\n",
    "    .map(lambda x, *args: (x.merge(), *args), -1)\n",
    "    .prefetch(-1)\n",
    ")\n",
    "\n",
    "test_ds = (\n",
    "    tf.data.Dataset.from_tensor_slices((x_test, y_test, y_mask_test))\n",
    "    .batch(32)\n",
    "    .map(lambda x, *args: (x.merge(), *args), -1)\n",
    "    .prefetch(-1)\n",
    ")"
   ]
  },
  {
   "cell_type": "markdown",
   "metadata": {},
   "source": [
    "### `tf.keras.Sequential` API"
   ]
  },
  {
   "cell_type": "code",
   "execution_count": 13,
   "metadata": {
    "scrolled": false
   },
   "outputs": [
    {
     "name": "stdout",
     "output_type": "stream",
     "text": [
      "Epoch 1/50\n",
      "196/196 [==============================] - 7s 15ms/step - loss: 0.2761 - roc_auc: 0.6790 - val_loss: 0.3570 - val_roc_auc: 0.7535 - lr: 1.0000e-04\n",
      "Epoch 2/50\n",
      "196/196 [==============================] - 2s 9ms/step - loss: 0.2396 - roc_auc: 0.7595 - val_loss: 0.2495 - val_roc_auc: 0.8031 - lr: 1.0000e-04\n",
      "Epoch 3/50\n",
      "196/196 [==============================] - 2s 9ms/step - loss: 0.2283 - roc_auc: 0.7832 - val_loss: 0.2126 - val_roc_auc: 0.8129 - lr: 1.0000e-04\n",
      "Epoch 4/50\n",
      "196/196 [==============================] - 2s 9ms/step - loss: 0.2202 - roc_auc: 0.8038 - val_loss: 0.2007 - val_roc_auc: 0.8168 - lr: 1.0000e-04\n",
      "Epoch 5/50\n",
      "196/196 [==============================] - 2s 9ms/step - loss: 0.2136 - roc_auc: 0.8129 - val_loss: 0.2012 - val_roc_auc: 0.8200 - lr: 1.0000e-04\n",
      "Epoch 6/50\n",
      "196/196 [==============================] - 2s 9ms/step - loss: 0.2072 - roc_auc: 0.8243 - val_loss: 0.1935 - val_roc_auc: 0.8346 - lr: 1.0000e-04\n",
      "Epoch 7/50\n",
      "196/196 [==============================] - 2s 9ms/step - loss: 0.2017 - roc_auc: 0.8320 - val_loss: 0.1947 - val_roc_auc: 0.8313 - lr: 1.0000e-04\n",
      "Epoch 8/50\n",
      "196/196 [==============================] - 2s 9ms/step - loss: 0.1974 - roc_auc: 0.8386 - val_loss: 0.1923 - val_roc_auc: 0.8369 - lr: 1.0000e-04\n",
      "Epoch 9/50\n",
      "196/196 [==============================] - 2s 9ms/step - loss: 0.1928 - roc_auc: 0.8463 - val_loss: 0.1908 - val_roc_auc: 0.8393 - lr: 1.0000e-04\n",
      "Epoch 10/50\n",
      "196/196 [==============================] - 2s 9ms/step - loss: 0.1899 - roc_auc: 0.8492 - val_loss: 0.1879 - val_roc_auc: 0.8413 - lr: 1.0000e-04\n",
      "Epoch 11/50\n",
      "196/196 [==============================] - 2s 9ms/step - loss: 0.1848 - roc_auc: 0.8552 - val_loss: 0.1906 - val_roc_auc: 0.8424 - lr: 1.0000e-04\n",
      "Epoch 12/50\n",
      "196/196 [==============================] - 2s 9ms/step - loss: 0.1821 - roc_auc: 0.8605 - val_loss: 0.1864 - val_roc_auc: 0.8431 - lr: 1.0000e-04\n",
      "Epoch 13/50\n",
      "196/196 [==============================] - 2s 9ms/step - loss: 0.1787 - roc_auc: 0.8664 - val_loss: 0.1845 - val_roc_auc: 0.8526 - lr: 1.0000e-04\n",
      "Epoch 14/50\n",
      "196/196 [==============================] - 2s 9ms/step - loss: 0.1753 - roc_auc: 0.8662 - val_loss: 0.1845 - val_roc_auc: 0.8508 - lr: 1.0000e-04\n",
      "Epoch 15/50\n",
      "196/196 [==============================] - 2s 9ms/step - loss: 0.1715 - roc_auc: 0.8761 - val_loss: 0.1880 - val_roc_auc: 0.8452 - lr: 1.0000e-04\n",
      "Epoch 16/50\n",
      "196/196 [==============================] - 2s 9ms/step - loss: 0.1693 - roc_auc: 0.8770 - val_loss: 0.1804 - val_roc_auc: 0.8553 - lr: 1.0000e-04\n",
      "Epoch 17/50\n",
      "196/196 [==============================] - 2s 9ms/step - loss: 0.1645 - roc_auc: 0.8818 - val_loss: 0.1855 - val_roc_auc: 0.8515 - lr: 1.0000e-04\n",
      "Epoch 18/50\n",
      "196/196 [==============================] - 2s 9ms/step - loss: 0.1616 - roc_auc: 0.8855 - val_loss: 0.1791 - val_roc_auc: 0.8604 - lr: 1.0000e-04\n",
      "Epoch 19/50\n",
      "196/196 [==============================] - 2s 9ms/step - loss: 0.1587 - roc_auc: 0.8890 - val_loss: 0.1931 - val_roc_auc: 0.8513 - lr: 1.0000e-04\n",
      "Epoch 20/50\n",
      "196/196 [==============================] - 2s 9ms/step - loss: 0.1553 - roc_auc: 0.8941 - val_loss: 0.1854 - val_roc_auc: 0.8547 - lr: 1.0000e-04\n",
      "Epoch 21/50\n",
      "196/196 [==============================] - 2s 9ms/step - loss: 0.1528 - roc_auc: 0.8953 - val_loss: 0.1841 - val_roc_auc: 0.8545 - lr: 1.0000e-04\n",
      "Epoch 22/50\n",
      "196/196 [==============================] - 2s 9ms/step - loss: 0.1515 - roc_auc: 0.8984 - val_loss: 0.1829 - val_roc_auc: 0.8572 - lr: 1.0000e-04\n",
      "Epoch 23/50\n",
      "196/196 [==============================] - 2s 9ms/step - loss: 0.1468 - roc_auc: 0.9031 - val_loss: 0.1821 - val_roc_auc: 0.8512 - lr: 1.0000e-04\n",
      "Epoch 24/50\n",
      "196/196 [==============================] - 2s 9ms/step - loss: 0.1364 - roc_auc: 0.9159 - val_loss: 0.1753 - val_roc_auc: 0.8600 - lr: 1.0000e-05\n",
      "Epoch 25/50\n",
      "196/196 [==============================] - 2s 9ms/step - loss: 0.1339 - roc_auc: 0.9169 - val_loss: 0.1758 - val_roc_auc: 0.8641 - lr: 1.0000e-05\n",
      "Epoch 26/50\n",
      "196/196 [==============================] - 2s 9ms/step - loss: 0.1334 - roc_auc: 0.9180 - val_loss: 0.1762 - val_roc_auc: 0.8628 - lr: 1.0000e-05\n",
      "Epoch 27/50\n",
      "196/196 [==============================] - 2s 9ms/step - loss: 0.1322 - roc_auc: 0.9192 - val_loss: 0.1753 - val_roc_auc: 0.8640 - lr: 1.0000e-05\n",
      "Epoch 28/50\n",
      "196/196 [==============================] - 2s 9ms/step - loss: 0.1314 - roc_auc: 0.9205 - val_loss: 0.1738 - val_roc_auc: 0.8624 - lr: 1.0000e-05\n",
      "Epoch 29/50\n",
      "196/196 [==============================] - 2s 9ms/step - loss: 0.1303 - roc_auc: 0.9207 - val_loss: 0.1749 - val_roc_auc: 0.8640 - lr: 1.0000e-05\n",
      "Epoch 30/50\n",
      "196/196 [==============================] - 2s 9ms/step - loss: 0.1306 - roc_auc: 0.9206 - val_loss: 0.1759 - val_roc_auc: 0.8577 - lr: 1.0000e-05\n",
      "Epoch 31/50\n",
      "196/196 [==============================] - 2s 9ms/step - loss: 0.1284 - roc_auc: 0.9221 - val_loss: 0.1756 - val_roc_auc: 0.8596 - lr: 1.0000e-06\n",
      "Epoch 32/50\n",
      "196/196 [==============================] - 2s 9ms/step - loss: 0.1282 - roc_auc: 0.9229 - val_loss: 0.1741 - val_roc_auc: 0.8642 - lr: 1.0000e-06\n",
      "Epoch 33/50\n",
      "196/196 [==============================] - 2s 9ms/step - loss: 0.1274 - roc_auc: 0.9237 - val_loss: 0.1743 - val_roc_auc: 0.8632 - lr: 1.0000e-06\n",
      "Epoch 34/50\n",
      "196/196 [==============================] - 2s 9ms/step - loss: 0.1282 - roc_auc: 0.9231 - val_loss: 0.1758 - val_roc_auc: 0.8626 - lr: 1.0000e-06\n",
      "Epoch 35/50\n",
      "196/196 [==============================] - 2s 10ms/step - loss: 0.1271 - roc_auc: 0.9245 - val_loss: 0.1742 - val_roc_auc: 0.8615 - lr: 1.0000e-06\n",
      "Epoch 36/50\n",
      "196/196 [==============================] - 2s 9ms/step - loss: 0.1278 - roc_auc: 0.9229 - val_loss: 0.1740 - val_roc_auc: 0.8614 - lr: 1.0000e-06\n",
      "Epoch 37/50\n",
      "196/196 [==============================] - 2s 9ms/step - loss: 0.1280 - roc_auc: 0.9228 - val_loss: 0.1747 - val_roc_auc: 0.8619 - lr: 1.0000e-06\n",
      "Epoch 38/50\n",
      "196/196 [==============================] - 2s 9ms/step - loss: 0.1286 - roc_auc: 0.9227 - val_loss: 0.1743 - val_roc_auc: 0.8619 - lr: 1.0000e-06\n",
      "Epoch 39/50\n",
      "196/196 [==============================] - 2s 9ms/step - loss: 0.1280 - roc_auc: 0.9231 - val_loss: 0.1751 - val_roc_auc: 0.8614 - lr: 1.0000e-06\n",
      "Epoch 40/50\n",
      "196/196 [==============================] - 2s 9ms/step - loss: 0.1285 - roc_auc: 0.9212 - val_loss: 0.1763 - val_roc_auc: 0.8625 - lr: 1.0000e-06\n",
      "Epoch 41/50\n",
      "196/196 [==============================] - 2s 9ms/step - loss: 0.1284 - roc_auc: 0.9223 - val_loss: 0.1732 - val_roc_auc: 0.8642 - lr: 1.0000e-06\n",
      "Epoch 42/50\n",
      "196/196 [==============================] - 2s 9ms/step - loss: 0.1277 - roc_auc: 0.9232 - val_loss: 0.1758 - val_roc_auc: 0.8569 - lr: 1.0000e-06\n",
      "Epoch 43/50\n",
      "196/196 [==============================] - 2s 9ms/step - loss: 0.1279 - roc_auc: 0.9238 - val_loss: 0.1754 - val_roc_auc: 0.8608 - lr: 1.0000e-06\n",
      "Epoch 44/50\n",
      "196/196 [==============================] - 2s 10ms/step - loss: 0.1280 - roc_auc: 0.9226 - val_loss: 0.1749 - val_roc_auc: 0.8612 - lr: 1.0000e-06\n",
      "Epoch 45/50\n",
      "196/196 [==============================] - 2s 9ms/step - loss: 0.1278 - roc_auc: 0.9236 - val_loss: 0.1747 - val_roc_auc: 0.8630 - lr: 1.0000e-06\n",
      "Epoch 46/50\n",
      "196/196 [==============================] - 2s 9ms/step - loss: 0.1280 - roc_auc: 0.9232 - val_loss: 0.1759 - val_roc_auc: 0.8622 - lr: 1.0000e-06\n",
      "Epoch 47/50\n",
      "196/196 [==============================] - 2s 9ms/step - loss: 0.1275 - roc_auc: 0.9241 - val_loss: 0.1767 - val_roc_auc: 0.8585 - lr: 1.0000e-06\n",
      "Epoch 48/50\n",
      "196/196 [==============================] - 2s 9ms/step - loss: 0.1280 - roc_auc: 0.9243 - val_loss: 0.1751 - val_roc_auc: 0.8635 - lr: 1.0000e-06\n",
      "Epoch 49/50\n",
      "196/196 [==============================] - 2s 9ms/step - loss: 0.1260 - roc_auc: 0.9250 - val_loss: 0.1735 - val_roc_auc: 0.8629 - lr: 1.0000e-06\n",
      "Epoch 50/50\n",
      "196/196 [==============================] - 2s 9ms/step - loss: 0.1274 - roc_auc: 0.9232 - val_loss: 0.1755 - val_roc_auc: 0.8620 - lr: 1.0000e-06\n",
      "25/25 [==============================] - 0s 5ms/step - loss: 0.2091 - roc_auc: 0.8338\n"
     ]
    },
    {
     "data": {
      "text/plain": [
       "[0.2090964913368225, 0.8337681293487549]"
      ]
     },
     "execution_count": 13,
     "metadata": {},
     "output_type": "execute_result"
    }
   ],
   "source": [
    "from molgraph.layers import MPNNConv\n",
    "from molgraph.layers import LaplacianPositionalEncoding\n",
    "from molgraph.layers import Readout\n",
    "from molgraph.layers import NodeMinMaxScaling, EdgeMinMaxScaling\n",
    "\n",
    "node_preprocessing = NodeMinMaxScaling(\n",
    "    feature_range=(0, 1), threshold=True)\n",
    "edge_preprocessing = EdgeMinMaxScaling(\n",
    "    feature_range=(0, 1), threshold=True)\n",
    "\n",
    "node_preprocessing.adapt(train_ds.map(lambda x, *args: x))\n",
    "edge_preprocessing.adapt(train_ds.map(lambda x, *args: x))\n",
    "\n",
    "model = tf.keras.Sequential([\n",
    "    keras.layers.Input(type_spec=type_spec),\n",
    "    node_preprocessing,\n",
    "    edge_preprocessing,\n",
    "    LaplacianPositionalEncoding(),\n",
    "    MPNNConv(),\n",
    "    MPNNConv(),\n",
    "    MPNNConv(),\n",
    "    Readout(),\n",
    "    keras.layers.Dense(1024, 'relu'),\n",
    "    keras.layers.Dense(1024, 'relu'),\n",
    "    keras.layers.Dense(y_train.shape[-1], 'sigmoid')\n",
    "])\n",
    "\n",
    "\n",
    "optimizer = keras.optimizers.Adam(1e-4)\n",
    "loss = MaskedBinaryCrossentropy(name='bce')\n",
    "metrics = [\n",
    "    keras.metrics.AUC(name='roc_auc', multi_label=True) # deals with masks\n",
    "]\n",
    "\n",
    "callbacks = [\n",
    "    keras.callbacks.ReduceLROnPlateau(\n",
    "        monitor='val_roc_auc',\n",
    "        factor=0.1,\n",
    "        patience=5,\n",
    "        min_lr=1e-6,\n",
    "        mode='max',\n",
    "    ),\n",
    "    keras.callbacks.EarlyStopping(\n",
    "        monitor='val_roc_auc',\n",
    "        patience=10,\n",
    "        mode='max',\n",
    "        restore_best_weights=True,\n",
    "    )\n",
    "]\n",
    "\n",
    "model.compile(optimizer, loss, metrics)\n",
    "history = model.fit(\n",
    "    train_ds, callbacks=callbacks, validation_data=val_ds, epochs=50\n",
    ")\n",
    "model.evaluate(test_ds)"
   ]
  },
  {
   "cell_type": "code",
   "execution_count": 14,
   "metadata": {
    "tags": [
     "nbsphinx-thumbnail"
    ]
   },
   "outputs": [
    {
     "data": {
      "image/png": "[encoded data removed]",
      "text/plain": [
       "<Figure size 432x288 with 1 Axes>"
      ]
     },
     "metadata": {
      "needs_background": "light"
     },
     "output_type": "display_data"
    }
   ],
   "source": [
    "plt.plot(history.history['roc_auc'])\n",
    "plt.plot(history.history['val_roc_auc'])\n",
    "plt.ylim(0.65, 1);"
   ]
  },
  {
   "cell_type": "code",
   "execution_count": null,
   "metadata": {},
   "outputs": [],
   "source": []
  }
 ],
 "metadata": {
  "celltoolbar": "Edit Metadata",
  "kernelspec": {
   "display_name": "Python 3",
   "language": "python",
   "name": "python3"
  },
  "language_info": {
   "codemirror_mode": {
    "name": "ipython",
    "version": 3
   },
   "file_extension": ".py",
   "mimetype": "text/x-python",
   "name": "python",
   "nbconvert_exporter": "python",
   "pygments_lexer": "ipython3",
   "version": "3.8.10"
  }
 },
 "nbformat": 4,
 "nbformat_minor": 4
}
